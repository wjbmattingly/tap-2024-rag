{
 "cells": [
  {
   "cell_type": "markdown",
   "id": "3e89c5b3",
   "metadata": {},
   "source": [
    "<img align=\"left\" src=\"https://ithaka-labs.s3.amazonaws.com/static-files/images/tdm/tdmdocs/tapi-logo-small.png\" />\n",
    "\n",
    "This notebook free for educational reuse under [Creative Commons CC BY License](https://creativecommons.org/licenses/by/4.0/).\n",
    "\n",
    "Created by [Firstname Lastname](https://) for the 2024 Text Analysis Pedagogy Institute, with support from [Constellate](https://constellate.org).\n",
    "\n",
    "For questions/comments/improvements, email author@email.address.<br />\n",
    "____"
   ]
  },
  {
   "cell_type": "markdown",
   "id": "68f932d1",
   "metadata": {},
   "source": [
    "# `Introduction to Semantic Search and Vector Databases` `3`\n",
    "\n",
    "This is lesson `3` of 3 in the educational series on `Semantic Search and Vector Databases`. This notebook is intended `to teach how to build a Weaviate cluster for RAG systems`.\n",
    "\n",
    "**Skills:** \n",
    "* Data analysis\n",
    "* Machine learning\n",
    "* Text analysis\n",
    "* spaCy\n",
    "* Vector databases\n",
    "* Semantic search\n",
    "* Python\n",
    "\n",
    "**Audience:** `Teachers` / `Learners` / `Researchers`\n",
    "\n",
    "**Use case:** `Tutorial` / `How-To` / `Explanation` \n",
    "\n",
    "`Include the use case definition from [here](https://constellate.org/docs/documentation-categories)`\n",
    "\n",
    "**Difficulty:** `Intermediate`\n",
    "\n",
    "`Beginner assumes users are relatively new to Python and Jupyter Notebooks. The user is helped step-by-step with lots of explanatory text.`\n",
    "`Intermediate assumes users are familiar with Python and have been programming for 6+ months. Code makes up a larger part of the notebook and basic concepts related to Python are not explained.`\n",
    "`Advanced assumes users are very familiar with Python and have been programming for years, but they may not be familiar with the process being explained.`\n",
    "\n",
    "**Completion time:** `90 minutes`\n",
    "\n",
    "**Knowledge Required:** \n",
    "```\n",
    "* Python basics (variables, flow control, functions, lists, dictionaries)\n",
    "* Object-oriented programming (classes, instances, inheritance)\n",
    "* Regular Expressions (`re`, character classes)\n",
    "\n",
    "These should be general skills but can mention a particular library\n",
    "```\n",
    "\n",
    "**Knowledge Recommended:**\n",
    "```\n",
    "* Basic file operations (open, close, read, write)\n",
    "* Data cleaning with `Pandas`\n",
    "```\n",
    "\n",
    "**Learning Objectives:**\n",
    "After this lesson, learners will be able to:\n",
    "```\n",
    "1. Describe and implement an XXXX for XXXX\n",
    "2. Convert XXXX into XXXX for the purpose of XXXX\n",
    "3. Develop a workflow in order to XXXX\n",
    "4. Be familiar with XXXXX resources for pursuing the topic\n",
    "```\n",
    "**Research Pipeline:**\n",
    "```\n",
    "1. Research steps before this notebook\n",
    "2. **The skills in this notebook**\n",
    "3. Steps after this notebook\n",
    "4. Final steps\n",
    "```\n",
    "___"
   ]
  },
  {
   "cell_type": "markdown",
   "id": "157c0555",
   "metadata": {},
   "source": [
    "# Required Python Libraries\n",
    "`List out any libraries used and what they are used for`\n",
    "* [Tesseract](https://tesseract-ocr.github.io/) for performing [optical character recognition](https://docs.constellate.org/key-terms/#ocr).\n",
    "* [Pandas](https://pandas.pydata.org/) for manipulating and cleaning data.\n",
    "* [Pdf2image](https://pdf2image.readthedocs.io/en/latest/) for converting pdf files into image files.\n",
    "\n",
    "## Install Required Libraries"
   ]
  },
  {
   "cell_type": "code",
   "execution_count": null,
   "id": "e8a220f5",
   "metadata": {},
   "outputs": [],
   "source": [
    "### Install Libraries ###\n",
    "\n",
    "# Using !pip installs\n",
    "!pip install spacy==3.7.5 weaviate-client==4.7.1 pandas"
   ]
  },
  {
   "cell_type": "code",
   "execution_count": null,
   "id": "5480e2a8",
   "metadata": {},
   "outputs": [],
   "source": [
    "!python -m spacy download en_core_web_sm"
   ]
  },
  {
   "cell_type": "code",
   "execution_count": 75,
   "id": "29290460",
   "metadata": {},
   "outputs": [
    {
     "name": "stdout",
     "output_type": "stream",
     "text": [
      "Name: weaviate-client\n",
      "Version: 4.7.1\n",
      "Summary: A python native Weaviate client\n",
      "Home-page: https://github.com/weaviate/weaviate-python-client\n",
      "Author: Weaviate\n",
      "Author-email: hello@weaviate.io,\n",
      "License: BSD 3-clause\n",
      "Location: /Applications/anaconda3/envs/tap/lib/python3.10/site-packages\n",
      "Requires: authlib, grpcio, grpcio-health-checking, grpcio-tools, httpx, pydantic, requests, validators\n",
      "Required-by: \n"
     ]
    }
   ],
   "source": [
    "!pip show weaviate-client"
   ]
  },
  {
   "cell_type": "code",
   "execution_count": 76,
   "id": "40dbe6bd",
   "metadata": {},
   "outputs": [
    {
     "name": "stdout",
     "output_type": "stream",
     "text": [
      "Name: spacy\n",
      "Version: 3.7.5\n",
      "Summary: Industrial-strength Natural Language Processing (NLP) in Python\n",
      "Home-page: https://spacy.io\n",
      "Author: Explosion\n",
      "Author-email: contact@explosion.ai\n",
      "License: MIT\n",
      "Location: /Applications/anaconda3/envs/tap/lib/python3.10/site-packages\n",
      "Requires: catalogue, cymem, jinja2, langcodes, murmurhash, numpy, packaging, preshed, pydantic, requests, setuptools, spacy-legacy, spacy-loggers, srsly, thinc, tqdm, typer, wasabi, weasel\n",
      "Required-by: en-core-web-lg, en-core-web-md, en-core-web-sm, en-core-web-trf, gliner-spacy, spacy-curated-transformers, spacy-llm, spacy-transformers\n"
     ]
    }
   ],
   "source": [
    "!pip show spacy"
   ]
  },
  {
   "cell_type": "code",
   "execution_count": 36,
   "id": "9312a2e4",
   "metadata": {},
   "outputs": [],
   "source": [
    "import os\n",
    "# uncomment this out if you are using a Mac. This is a bug and with spacy-llm and pytorch on a Mac and this resolves it for now.\n",
    "# os.environ[\"PYTORCH_ENABLE_MPS_FALLBACK\"] = \"1\"\n",
    "os.environ[\"OPENAI_API_KEY\"] = \"\"\n",
    "\n",
    "import weaviate\n",
    "from weaviate.classes.init import Auth\n",
    "import weaviate.classes as wvc\n",
    "from weaviate.collections.classes.filters import Filter\n",
    "\n",
    "import srsly\n",
    "import spacy\n",
    "\n",
    "\n",
    "import pandas as pd\n",
    "from tqdm import tqdm\n",
    "from datetime import datetime, timezone\n"
   ]
  },
  {
   "cell_type": "code",
   "execution_count": 74,
   "id": "e3f75d93",
   "metadata": {},
   "outputs": [
    {
     "name": "stdout",
     "output_type": "stream",
     "text": [
      "Name: weaviate-client\n",
      "Version: 4.7.1\n",
      "Summary: A python native Weaviate client\n",
      "Home-page: https://github.com/weaviate/weaviate-python-client\n",
      "Author: Weaviate\n",
      "Author-email: hello@weaviate.io,\n",
      "License: BSD 3-clause\n",
      "Location: /Applications/anaconda3/envs/tap/lib/python3.10/site-packages\n",
      "Requires: authlib, grpcio, grpcio-health-checking, grpcio-tools, httpx, pydantic, requests, validators\n",
      "Required-by: \n"
     ]
    }
   ],
   "source": [
    "!pip show weaviate-client"
   ]
  },
  {
   "cell_type": "markdown",
   "id": "42ea548c",
   "metadata": {},
   "source": [
    "# Introduction\n",
    "\n",
    "In this notebook, we will learn a bit more about Weaviate. Rather than querying a pre-built Weaviate server, we will instead build our own from scratch. In this tutorial, I'll walk you through each step, from building the cluster on the Weaviate dashboard to populating it with data via the Python API.\n",
    "\n",
    "Once we have built our cluster, we will learn how to query it, the same as we did in the previous notebook. Querying a RAG system is important, but being able to filter out texts that we send to the LLM is even more important. Therefore, we will learn also how to structure a query with a filter. Finally, we will learn how to do more complex searches by stacking multiple filters."
   ]
  },
  {
   "cell_type": "markdown",
   "id": "e682caf6",
   "metadata": {},
   "source": [
    "# Building a Weaviate Cluster\n",
    "\n",
    "In order to store data on the cloud, you must have a Weaviate cluster. Fortunately, Weaviate provides a free sandbox that expires after 14 days. It's a good way to prototype for free. Once you have an account, you can build a free cluster from your console dashboard. Follow the steps in this video:\n",
    "\n",
    "![weaviate](../assets/weaviate.gif)\n",
    "\n",
    "\n",
    "The steps in this video are:\n",
    "\n",
    "1. Click \"+ Create Cluster\"\n",
    "2. Name your cluster\n",
    "3. Select a region for your server\n",
    "4. Click `Create`\n",
    "\n",
    "Once your cluster is created, you will have a server address and an API key. These can then be used to populate that cluster with data. For this notebook, you will not only need an OpenAI API key, you'll also need two pieces of information from your Weaviate sever: the server URL and the server API Key. You will have two options for each. You will want to get the REST API end point and Admin API Key. If you wanted to query the data, you would only use the \"read only\"\n",
    "\n",
    "![weaviate](../assets/weaviate-url.gif)"
   ]
  },
  {
   "cell_type": "markdown",
   "id": "4ae58beb",
   "metadata": {},
   "source": [
    "# Access Cluster via Python\n",
    "\n",
    "Once we have these two pieces of data, we need to bring them either into our environment (best method), or paste them in this notebook. Notice that we are using all capital letters here. This is Pythonic, but is entirely optional."
   ]
  },
  {
   "cell_type": "code",
   "execution_count": 67,
   "id": "02c8e782",
   "metadata": {},
   "outputs": [],
   "source": [
    "WEAVIATE_URL = \"\"\n",
    "WEAVIATE_API_KEY  = \"\""
   ]
  },
  {
   "cell_type": "markdown",
   "id": "a83788a2",
   "metadata": {},
   "source": [
    "Once we have these variables prepared. We can now access our server. To do that, we will use `weaviate.connect_to_weaviate_cloud()`. This will take a few arguments. The first will be `cluster_url`. This is the url of the Weaviate server. The second is `auth_credentials`, this is going to be your Weaviate api key. Notice here that we are passing it through `Auth.api_key()`. Finally, we will pass our headers. This will include our OpenAI api key.\n",
    "\n",
    "The below code creates an object called `client` which represents our connection to the Weaviate server. The `client` object, therefore, is the Weaviate server as a whole."
   ]
  },
  {
   "cell_type": "code",
   "execution_count": 14,
   "id": "763a39c1",
   "metadata": {},
   "outputs": [],
   "source": [
    "client = weaviate.connect_to_weaviate_cloud(\n",
    "    cluster_url=WEAVIATE_URL,\n",
    "    auth_credentials=Auth.api_key(WEAVIATE_API_KEY),\n",
    "    headers={\n",
    "        \"X-OpenAI-Api-Key\": os.getenv(\"OPENAI_API_KEY\")\n",
    "    }\n",
    ")"
   ]
  },
  {
   "cell_type": "markdown",
   "id": "1f30a668",
   "metadata": {},
   "source": [
    "# Load Data\n",
    "\n",
    "In order to start populating the Weaviate server via the `client` object, we need to first grab our data. We will once again be working with a small sample from Founders Online. Let's go ahead and load up the data just like we did in the previous notebook."
   ]
  },
  {
   "cell_type": "code",
   "execution_count": 5,
   "id": "71d2d426",
   "metadata": {},
   "outputs": [
    {
     "data": {
      "text/plain": [
       "{'title': 'Thomas Jefferson to Joseph Milligan, 22 December 1815',\n",
       " 'permalink': 'https://founders.archives.gov/documents/Jefferson/03-09-02-0174',\n",
       " 'project': 'Jefferson Papers',\n",
       " 'authors': ['Jefferson, Thomas'],\n",
       " 'recipients': ['Milligan, Joseph'],\n",
       " 'date-from': '1815-12-22',\n",
       " 'date-to': '1815-12-22',\n",
       " 'content': 'Monticello Dec. 22. 15.\\nDear Sir\\nOn my return here from Bedford a few days ago, I found the Hutton and Requisite tables, bound to my mind. by this mail I send you an Ovid’s metamorphoses almost entirely worne out & defaced, yet of sovaluable and rareaneditionthat I wish you to put it into as good a state of repair as it is susceptible of. by the next mail I will forward a Cornelius Nepos to be bound. be so good as to procure and forward to me by stage the underwritten books.I salute you with friendship & esteem\\nTh: Jefferson\\nAinsworth’sLat. & Eng. dict. abridged. to be bound[. . .]\\nthe Lat. & Eng in one, & the Eng. & Lat.[. . .]\\nOvid’s metamorphoses. the Delphin edn in 8vo\\nCornelius Nepos. the Delphin edn if to be had; if not some other good one.\\nVirgil. the Delphin edn lately printed in Phil. with English notes.\\nMair’s Tyro’s dictionary.\\nI observe a mrRichardsonadvertises in the National Intelligencer the Scientific dialogues: if the edition be compleat comprehending theChemical part, I should be glad to have it'}"
      ]
     },
     "execution_count": 5,
     "metadata": {},
     "output_type": "execute_result"
    }
   ],
   "source": [
    "data = list(srsly.read_json(\"../data/processed/sample_1000_42.json\"))\n",
    "data[0]"
   ]
  },
  {
   "cell_type": "markdown",
   "id": "a381ffc7",
   "metadata": {},
   "source": [
    "# Defining a Data Model and Properties\n",
    "\n",
    "In order to populate our Weaviate server with data, we need to first create a collection. A good way to think about a collection is as a section of the cluster that can hold a unique set of data. This allows you to work on multiple projects with a single Weaviate cluster. For our project, we will call the collection `Founders`. It's important to name the collection something that relates to the collection."
   ]
  },
  {
   "cell_type": "code",
   "execution_count": 6,
   "id": "17afe37c",
   "metadata": {},
   "outputs": [],
   "source": [
    "collection_name = \"Founders\""
   ]
  },
  {
   "cell_type": "markdown",
   "id": "6c0ce334",
   "metadata": {},
   "source": [
    "Once we have our collection name, let's go ahead and check to see if the collection exists and, if it does, delete it. It is important to only execute the cell below if you absolutely want to delete everything within a cluster collection. I will leave it commented out so this cell is not accidently executed."
   ]
  },
  {
   "cell_type": "code",
   "execution_count": 68,
   "id": "d32cd00f",
   "metadata": {},
   "outputs": [],
   "source": [
    "# if client.collections.exists(collection_name):  # In case we've created this collection before\n",
    "#     client.collections.delete(collection_name)  # THIS WILL DELETE ALL DATA IN THE COLLECTION\n"
   ]
  },
  {
   "cell_type": "markdown",
   "id": "f149df8c",
   "metadata": {},
   "source": [
    "Once we have a clean and empty collection, we can create a data model for our collection. This is probably one of the most important steps in this whole notebook. Data models structure how you approach the project as a whole. Remember, you may come back to this step several times when working on a project both as your data expands and as you get a sense of what properties of your data users need to access.\n",
    "\n",
    "Data models are based on structuring the properties of a given text (and its vector). In Weaviate, we have many ways to define properties. Here is a handy reference table.\n",
    "\n",
    "| Data Type         | Description                  | Example                          |\n",
    "|-------------------|------------------------------|----------------------------------|\n",
    "| TEXT              | Text data type.              | \"Hello, World!\"                  |\n",
    "| TEXT_ARRAY        | Text array data type.        | [\"Hello\", \"World\"]               |\n",
    "| INT               | Integer data type.           | 42                               |\n",
    "| INT_ARRAY         | Integer array data type.     | [1, 2, 3, 4, 5]                  |\n",
    "| BOOL              | Boolean data type.           | true                             |\n",
    "| BOOL_ARRAY        | Boolean array data type.     | [true, false, true]              |\n",
    "| NUMBER            | Number data type.            | 3.14159                          |\n",
    "| NUMBER_ARRAY      | Number array data type.      | [1.1, 2.2, 3.3]                  |\n",
    "| DATE              | Date data type.              | \"2024-08-01\"                     |\n",
    "| DATE_ARRAY        | Date array data type.        | [\"2024-08-01\", \"2023-07-01\"]     |\n",
    "| UUID              | UUID data type.              | \"123e4567-e89b-12d3-a456-426614174000\" |\n",
    "| UUID_ARRAY        | UUID array data type.        | [\"123e4567-e89b-12d3-a456-426614174000\", \"987e6543-e21b-34d3-a123-426614174001\"] |\n",
    "| GEO_COORDINATES   | Geo coordinates data type.   | {\"latitude\": 37.7749, \"longitude\": -122.4194} |\n",
    "| BLOB              | Blob data type.              | Binary data like images or files |\n",
    "| PHONE_NUMBER      | Phone number data type.      | \"+1-800-555-5555\"                |\n",
    "| OBJECT            | Object data type.            | {\"name\": \"Alice\", \"age\": 30}     |\n",
    "| OBJECT_ARRAY      | Object array data type.      | [{\"name\": \"Alice\", \"age\": 30}, {\"name\": \"Bob\", \"age\": 25}] |\n",
    "\n",
    "We can create the data model with the cell below the following code:\n",
    "\n",
    "```python\n",
    "founders = client.collections.create(\n",
    "    name=collection_name,\n",
    "    properties=[\n",
    "        wvc.config.Property(\n",
    "            name=\"chunk\",\n",
    "            data_type=wvc.config.DataType.TEXT\n",
    "        ),\n",
    "        wvc.config.Property(\n",
    "            name=\"date_from\",\n",
    "            data_type=wvc.config.DataType.DATE\n",
    "        ),\n",
    "        wvc.config.Property(\n",
    "            name=\"date_to\",\n",
    "            data_type=wvc.config.DataType.DATE\n",
    "        ),\n",
    "        wvc.config.Property(\n",
    "            name=\"authors\",\n",
    "            data_type=wvc.config.DataType.TEXT_ARRAY\n",
    "        ),\n",
    "        wvc.config.Property(\n",
    "            name=\"recipients\",\n",
    "            data_type=wvc.config.DataType.TEXT_ARRAY\n",
    "        ),\n",
    "        wvc.config.Property(\n",
    "            name=\"chapter_title\",\n",
    "            data_type=wvc.config.DataType.TEXT\n",
    "        ),\n",
    "        wvc.config.Property(\n",
    "            name=\"chunk_index\",\n",
    "            data_type=wvc.config.DataType.INT\n",
    "        ),\n",
    "        wvc.config.Property(\n",
    "            name=\"doc_index\",\n",
    "            data_type=wvc.config.DataType.INT\n",
    "        ),\n",
    "    ],\n",
    "    vectorizer_config=wvc.config.Configure.Vectorizer.text2vec_openai(),\n",
    "    generative_config=wvc.config.Configure.Generative.openai(model=\"gpt-3.5-turbo\"),\n",
    ")\n",
    "\n",
    "```\n",
    "\n",
    "Let's break down this code section by section:\n",
    "\n",
    "1. Collection Creation:\n",
    "   ```python\n",
    "   founders = client.collections.create(\n",
    "       name=collection_name,\n",
    "       ...\n",
    "   )\n",
    "   ```\n",
    "   This line starts the creation of a new collection in Weaviate. The collection is named using the `collection_name` variable, and the result is assigned to the `founders` variable.\n",
    "\n",
    "2. Properties Definition:\n",
    "   ```python\n",
    "   properties=[\n",
    "       wvc.config.Property(\n",
    "           name=\"chunk\",\n",
    "           data_type=wvc.config.DataType.TEXT\n",
    "       ),\n",
    "       ...\n",
    "   ],\n",
    "   ```\n",
    "   This section defines the properties (or fields) of the collection. Each property is created using `wvc.config.Property()` and has a name and a data type. The properties defined are:\n",
    "   - `chunk`: TEXT type, for storing text content\n",
    "   - `date_from` and `date_to`: DATE type, probably for time ranges\n",
    "   - `authors` and `recipients`: TEXT_ARRAY type, for storing multiple text values\n",
    "   - `chapter_title`: TEXT type\n",
    "   - `chunk_index` and `doc_index`: INT type, for indexing or ordering purposes\n",
    "\n",
    "3. Vectorizer Configuration:\n",
    "   ```python\n",
    "   vectorizer_config=wvc.config.Configure.Vectorizer.text2vec_openai(),\n",
    "   ```\n",
    "   This line configures the vectorizer for the collection. It's set to use OpenAI's text2vec model, which will convert text data into vector representations.\n",
    "\n",
    "4. Generative Configuration:\n",
    "   ```python\n",
    "   generative_config=wvc.config.Configure.Generative.openai(model=\"gpt-3.5-turbo\"),\n",
    "   ```\n",
    "   This configures the generative model for the collection. It's set to use OpenAI's GPT-3.5 Turbo model, which can be used for generating text based on the collection's data.\n"
   ]
  },
  {
   "cell_type": "code",
   "execution_count": 33,
   "id": "2c7e074e",
   "metadata": {},
   "outputs": [],
   "source": [
    "founders = client.collections.create(\n",
    "    name=collection_name,\n",
    "    properties=[\n",
    "        wvc.config.Property(\n",
    "            name=\"chunk\",\n",
    "            data_type=wvc.config.DataType.TEXT\n",
    "        ),\n",
    "        wvc.config.Property(\n",
    "            name=\"date_from\",\n",
    "            data_type=wvc.config.DataType.DATE\n",
    "        ),\n",
    "        wvc.config.Property(\n",
    "            name=\"date_to\",\n",
    "            data_type=wvc.config.DataType.DATE\n",
    "        ),\n",
    "        wvc.config.Property(\n",
    "            name=\"authors\",\n",
    "            data_type=wvc.config.DataType.TEXT_ARRAY\n",
    "        ),\n",
    "        wvc.config.Property(\n",
    "            name=\"recipients\",\n",
    "            data_type=wvc.config.DataType.TEXT_ARRAY\n",
    "        ),\n",
    "        wvc.config.Property(\n",
    "            name=\"chapter_title\",\n",
    "            data_type=wvc.config.DataType.TEXT\n",
    "        ),\n",
    "        wvc.config.Property(\n",
    "            name=\"chunk_index\",\n",
    "            data_type=wvc.config.DataType.INT\n",
    "        ),\n",
    "        wvc.config.Property(\n",
    "            name=\"doc_index\",\n",
    "            data_type=wvc.config.DataType.INT\n",
    "        ),\n",
    "    ],\n",
    "    vectorizer_config=wvc.config.Configure.Vectorizer.text2vec_openai(),  # Use `text2vec-openai` as the vectorizer\n",
    "    generative_config=wvc.config.Configure.Generative.openai(model=\"gpt-3.5-turbo\"),  # Use `generative-openai` with default parameters\n",
    ")"
   ]
  },
  {
   "cell_type": "markdown",
   "id": "e693e188",
   "metadata": {},
   "source": [
    "# Chunk Data\n",
    "\n",
    "In the previous notebook, we learned about the different methods of chunking. Here, we will learn how to chunk our data. First, I want to convert our data into a Pandas DataFrame for easier manipulation."
   ]
  },
  {
   "cell_type": "code",
   "execution_count": 69,
   "id": "cc514624",
   "metadata": {},
   "outputs": [
    {
     "data": {
      "text/html": [
       "<div>\n",
       "<style scoped>\n",
       "    .dataframe tbody tr th:only-of-type {\n",
       "        vertical-align: middle;\n",
       "    }\n",
       "\n",
       "    .dataframe tbody tr th {\n",
       "        vertical-align: top;\n",
       "    }\n",
       "\n",
       "    .dataframe thead th {\n",
       "        text-align: right;\n",
       "    }\n",
       "</style>\n",
       "<table border=\"1\" class=\"dataframe\">\n",
       "  <thead>\n",
       "    <tr style=\"text-align: right;\">\n",
       "      <th></th>\n",
       "      <th>title</th>\n",
       "      <th>permalink</th>\n",
       "      <th>project</th>\n",
       "      <th>authors</th>\n",
       "      <th>recipients</th>\n",
       "      <th>date-from</th>\n",
       "      <th>date-to</th>\n",
       "      <th>content</th>\n",
       "    </tr>\n",
       "  </thead>\n",
       "  <tbody>\n",
       "    <tr>\n",
       "      <th>0</th>\n",
       "      <td>Thomas Jefferson to Joseph Milligan, 22 Decemb...</td>\n",
       "      <td>https://founders.archives.gov/documents/Jeffer...</td>\n",
       "      <td>Jefferson Papers</td>\n",
       "      <td>[Jefferson, Thomas]</td>\n",
       "      <td>[Milligan, Joseph]</td>\n",
       "      <td>1815-12-22</td>\n",
       "      <td>1815-12-22</td>\n",
       "      <td>Monticello Dec. 22. 15.\\nDear Sir\\nOn my retur...</td>\n",
       "    </tr>\n",
       "    <tr>\n",
       "      <th>1</th>\n",
       "      <td>To Alexander Hamilton from James McHenry, 3 Ma...</td>\n",
       "      <td>https://founders.archives.gov/documents/Hamilt...</td>\n",
       "      <td>Hamilton Papers</td>\n",
       "      <td>[McHenry, James]</td>\n",
       "      <td>[Hamilton, Alexander]</td>\n",
       "      <td>1791-05-03</td>\n",
       "      <td>1791-05-03</td>\n",
       "      <td>[Baltimore] 3 May 1791.\\nMy dear Sir.\\nI did n...</td>\n",
       "    </tr>\n",
       "    <tr>\n",
       "      <th>2</th>\n",
       "      <td>John Adams to John Quincy Adams and Thomas Boy...</td>\n",
       "      <td>https://founders.archives.gov/documents/Adams/...</td>\n",
       "      <td>Adams Papers</td>\n",
       "      <td>[Adams, John]</td>\n",
       "      <td>[Adams, John Quincy, Adams, Thomas Boylston]</td>\n",
       "      <td>1794-09-14</td>\n",
       "      <td>1794-09-14</td>\n",
       "      <td>Quincy Septr.14. 1794\\nMy dear Sons\\nI once mo...</td>\n",
       "    </tr>\n",
       "    <tr>\n",
       "      <th>3</th>\n",
       "      <td>From George Washington to Major General Horati...</td>\n",
       "      <td>https://founders.archives.gov/documents/Washin...</td>\n",
       "      <td>Washington Papers</td>\n",
       "      <td>[Washington, George]</td>\n",
       "      <td>[Gates, Horatio]</td>\n",
       "      <td>1776-12-23</td>\n",
       "      <td>1776-12-23</td>\n",
       "      <td>Head Quarters [Bucks County, Pa.] 23d Decr 177...</td>\n",
       "    </tr>\n",
       "    <tr>\n",
       "      <th>4</th>\n",
       "      <td>[Diary entry: 5 July 1795]</td>\n",
       "      <td>https://founders.archives.gov/documents/Washin...</td>\n",
       "      <td>Washington Papers</td>\n",
       "      <td>[Washington, George]</td>\n",
       "      <td>[]</td>\n",
       "      <td>1795-07-05</td>\n",
       "      <td>1795-07-05</td>\n",
       "      <td>Could not find the main content</td>\n",
       "    </tr>\n",
       "    <tr>\n",
       "      <th>...</th>\n",
       "      <td>...</td>\n",
       "      <td>...</td>\n",
       "      <td>...</td>\n",
       "      <td>...</td>\n",
       "      <td>...</td>\n",
       "      <td>...</td>\n",
       "      <td>...</td>\n",
       "      <td>...</td>\n",
       "    </tr>\n",
       "    <tr>\n",
       "      <th>995</th>\n",
       "      <td>From John Adams to Boston Patriot, 4 November ...</td>\n",
       "      <td>https://founders.archives.gov/documents/Adams/...</td>\n",
       "      <td>Adams Papers</td>\n",
       "      <td>[Adams, John]</td>\n",
       "      <td>[Boston Patriot]</td>\n",
       "      <td>1809-11-04</td>\n",
       "      <td>1809-11-04</td>\n",
       "      <td>Quincy, November 4, 1809.\\nSirs,\\nIn my last l...</td>\n",
       "    </tr>\n",
       "    <tr>\n",
       "      <th>996</th>\n",
       "      <td>From John Adams to United States Senate, 14 Ma...</td>\n",
       "      <td>https://founders.archives.gov/documents/Adams/...</td>\n",
       "      <td>Adams Papers</td>\n",
       "      <td>[Adams, John]</td>\n",
       "      <td>[United States Senate]</td>\n",
       "      <td>1798-03-14</td>\n",
       "      <td>1798-03-14</td>\n",
       "      <td>United States March 14th 1798:\\nGentlemen of t...</td>\n",
       "    </tr>\n",
       "    <tr>\n",
       "      <th>997</th>\n",
       "      <td>To Benjamin Franklin from William Henly, [Apri...</td>\n",
       "      <td>https://founders.archives.gov/documents/Frankl...</td>\n",
       "      <td>Franklin Papers</td>\n",
       "      <td>[Henly, William]</td>\n",
       "      <td>[Franklin, Benjamin]</td>\n",
       "      <td>1772-04-01</td>\n",
       "      <td>1772-04-30</td>\n",
       "      <td>Sunday Eve. [April?, 1772]\\nDear Sir:\\nI have ...</td>\n",
       "    </tr>\n",
       "    <tr>\n",
       "      <th>998</th>\n",
       "      <td>From George Washington to Major General Alexan...</td>\n",
       "      <td>https://founders.archives.gov/documents/Washin...</td>\n",
       "      <td>Washington Papers</td>\n",
       "      <td>[Washington, George]</td>\n",
       "      <td>[McDougall, Alexander]</td>\n",
       "      <td>1779-05-20</td>\n",
       "      <td>1779-05-20</td>\n",
       "      <td>Head Quarters Middle Brook May 20th 1779\\nDr S...</td>\n",
       "    </tr>\n",
       "    <tr>\n",
       "      <th>999</th>\n",
       "      <td>From Thomas Jefferson to João, Prince Regent o...</td>\n",
       "      <td>https://founders.archives.gov/documents/Jeffer...</td>\n",
       "      <td>Jefferson Papers</td>\n",
       "      <td>[Jefferson, Thomas]</td>\n",
       "      <td>[João, Prince Regent of Portugal]</td>\n",
       "      <td>1801-10-12</td>\n",
       "      <td>1801-10-12</td>\n",
       "      <td>To our Great and Good Friend, His Royal Highne...</td>\n",
       "    </tr>\n",
       "  </tbody>\n",
       "</table>\n",
       "<p>1000 rows × 8 columns</p>\n",
       "</div>"
      ],
      "text/plain": [
       "                                                 title  \\\n",
       "0    Thomas Jefferson to Joseph Milligan, 22 Decemb...   \n",
       "1    To Alexander Hamilton from James McHenry, 3 Ma...   \n",
       "2    John Adams to John Quincy Adams and Thomas Boy...   \n",
       "3    From George Washington to Major General Horati...   \n",
       "4                           [Diary entry: 5 July 1795]   \n",
       "..                                                 ...   \n",
       "995  From John Adams to Boston Patriot, 4 November ...   \n",
       "996  From John Adams to United States Senate, 14 Ma...   \n",
       "997  To Benjamin Franklin from William Henly, [Apri...   \n",
       "998  From George Washington to Major General Alexan...   \n",
       "999  From Thomas Jefferson to João, Prince Regent o...   \n",
       "\n",
       "                                             permalink            project  \\\n",
       "0    https://founders.archives.gov/documents/Jeffer...   Jefferson Papers   \n",
       "1    https://founders.archives.gov/documents/Hamilt...    Hamilton Papers   \n",
       "2    https://founders.archives.gov/documents/Adams/...       Adams Papers   \n",
       "3    https://founders.archives.gov/documents/Washin...  Washington Papers   \n",
       "4    https://founders.archives.gov/documents/Washin...  Washington Papers   \n",
       "..                                                 ...                ...   \n",
       "995  https://founders.archives.gov/documents/Adams/...       Adams Papers   \n",
       "996  https://founders.archives.gov/documents/Adams/...       Adams Papers   \n",
       "997  https://founders.archives.gov/documents/Frankl...    Franklin Papers   \n",
       "998  https://founders.archives.gov/documents/Washin...  Washington Papers   \n",
       "999  https://founders.archives.gov/documents/Jeffer...   Jefferson Papers   \n",
       "\n",
       "                  authors                                    recipients  \\\n",
       "0     [Jefferson, Thomas]                            [Milligan, Joseph]   \n",
       "1        [McHenry, James]                         [Hamilton, Alexander]   \n",
       "2           [Adams, John]  [Adams, John Quincy, Adams, Thomas Boylston]   \n",
       "3    [Washington, George]                              [Gates, Horatio]   \n",
       "4    [Washington, George]                                            []   \n",
       "..                    ...                                           ...   \n",
       "995         [Adams, John]                              [Boston Patriot]   \n",
       "996         [Adams, John]                        [United States Senate]   \n",
       "997      [Henly, William]                          [Franklin, Benjamin]   \n",
       "998  [Washington, George]                        [McDougall, Alexander]   \n",
       "999   [Jefferson, Thomas]             [João, Prince Regent of Portugal]   \n",
       "\n",
       "      date-from     date-to                                            content  \n",
       "0    1815-12-22  1815-12-22  Monticello Dec. 22. 15.\\nDear Sir\\nOn my retur...  \n",
       "1    1791-05-03  1791-05-03  [Baltimore] 3 May 1791.\\nMy dear Sir.\\nI did n...  \n",
       "2    1794-09-14  1794-09-14  Quincy Septr.14. 1794\\nMy dear Sons\\nI once mo...  \n",
       "3    1776-12-23  1776-12-23  Head Quarters [Bucks County, Pa.] 23d Decr 177...  \n",
       "4    1795-07-05  1795-07-05                    Could not find the main content  \n",
       "..          ...         ...                                                ...  \n",
       "995  1809-11-04  1809-11-04  Quincy, November 4, 1809.\\nSirs,\\nIn my last l...  \n",
       "996  1798-03-14  1798-03-14  United States March 14th 1798:\\nGentlemen of t...  \n",
       "997  1772-04-01  1772-04-30  Sunday Eve. [April?, 1772]\\nDear Sir:\\nI have ...  \n",
       "998  1779-05-20  1779-05-20  Head Quarters Middle Brook May 20th 1779\\nDr S...  \n",
       "999  1801-10-12  1801-10-12  To our Great and Good Friend, His Royal Highne...  \n",
       "\n",
       "[1000 rows x 8 columns]"
      ]
     },
     "execution_count": 69,
     "metadata": {},
     "output_type": "execute_result"
    }
   ],
   "source": [
    "df = pd.DataFrame(data)\n",
    "df"
   ]
  },
  {
   "cell_type": "markdown",
   "id": "7236d191",
   "metadata": {},
   "source": [
    "Next, we will load a spaCy English pipeline and add a `sentencizer` to it so that we can chunk our data by each sentence."
   ]
  },
  {
   "cell_type": "code",
   "execution_count": 37,
   "id": "a8981ddf",
   "metadata": {},
   "outputs": [
    {
     "name": "stderr",
     "output_type": "stream",
     "text": [
      "/Applications/anaconda3/envs/tap/lib/python3.10/site-packages/transformers/utils/generic.py:441: FutureWarning: `torch.utils._pytree._register_pytree_node` is deprecated. Please use `torch.utils._pytree.register_pytree_node` instead.\n",
      "  _torch_pytree._register_pytree_node(\n",
      "/Applications/anaconda3/envs/tap/lib/python3.10/site-packages/transformers/utils/generic.py:309: FutureWarning: `torch.utils._pytree._register_pytree_node` is deprecated. Please use `torch.utils._pytree.register_pytree_node` instead.\n",
      "  _torch_pytree._register_pytree_node(\n",
      "/Applications/anaconda3/envs/tap/lib/python3.10/site-packages/weaviate/warnings.py:303: ResourceWarning: Con004: The connection to Weaviate was not closed properly. This can lead to memory leaks.\n",
      "            Please make sure to close the connection using `client.close()`.\n",
      "  warnings.warn(\n",
      "/Applications/anaconda3/envs/tap/lib/python3.10/asyncio/selector_events.py:710: ResourceWarning: unclosed transport <_SelectorSocketTransport fd=79 read=idle write=<idle, bufsize=0>>\n",
      "  _warn(f\"unclosed transport {self!r}\", ResourceWarning, source=self)\n",
      "ResourceWarning: Enable tracemalloc to get the object allocation traceback\n"
     ]
    },
    {
     "data": {
      "text/plain": [
       "<spacy.pipeline.sentencizer.Sentencizer at 0x348119680>"
      ]
     },
     "execution_count": 37,
     "metadata": {},
     "output_type": "execute_result"
    }
   ],
   "source": [
    "nlp = spacy.blank(\"en\")\n",
    "nlp.add_pipe(\"sentencizer\")"
   ]
  },
  {
   "cell_type": "markdown",
   "id": "ed0d32c8",
   "metadata": {},
   "source": [
    "Now that we have everything we need, we can chunk our data. To do that, we will use the code below. Here's an explanation of each line.\n",
    "\n",
    "1. Function definition:\n",
    "```python\n",
    "def chunk_text(text, chunk_size=10):\n",
    "```\n",
    "This defines a function named `chunk_text` that takes two parameters: `text` (the input text to be chunked) and `chunk_size` (default value of 10).\n",
    "\n",
    "2. Processing the text:\n",
    "```python\n",
    "    doc = nlp(text)\n",
    "```\n",
    "This line processes the input text using an NLP library. `nlp` is presumably a pre-initialized spaCy model.\n",
    "\n",
    "3. Extracting sentences:\n",
    "```python\n",
    "    sentences = list(doc.sents)\n",
    "```\n",
    "This creates a list of sentence objects from the processed document.\n",
    "\n",
    "4. Initializing the chunks list:\n",
    "```python\n",
    "    temp_chunks = []\n",
    "```\n",
    "This creates an empty list to store the text chunks.\n",
    "\n",
    "5. Chunking loop:\n",
    "```python\n",
    "    for i in range(0, len(sentences), chunk_size):\n",
    "```\n",
    "This loop iterates over the sentences list, stepping by `chunk_size` each time.\n",
    "\n",
    "6. Creating a chunk:\n",
    "```python\n",
    "        c = sentences[i:i+chunk_size]\n",
    "```\n",
    "This slices the sentences list to get `chunk_size` sentences.\n",
    "\n",
    "7. Joining sentences and adding to chunks:\n",
    "```python\n",
    "        temp_chunks.append(\" \".join([sent.text for sent in c]))\n",
    "```\n",
    "This joins the sentences in the chunk into a single string and adds it to `temp_chunks`.\n",
    "\n",
    "8. Returning the chunks:\n",
    "```python\n",
    "    return temp_chunks\n",
    "```\n",
    "This returns the list of text chunks.\n",
    "\n",
    "9. Initializing the chunked data list:\n",
    "```python\n",
    "chunked_data = []\n",
    "```\n",
    "This creates an empty list to store the chunked data.\n",
    "\n",
    "10.  Main processing loop:\n",
    "```python\n",
    "for idx, row in tqdm(df.iterrows(), total=len(df), desc=\"Chunking texts\"):\n",
    "```\n",
    "This iterates over each row in the DataFrame `df`, using `tqdm` to show a progress bar.\n",
    "\n",
    "11.  Chunking the content:\n",
    "```python\n",
    "    c = chunk_text(row['content'])\n",
    "```\n",
    "This applies the `chunk_text` function to the 'content' column of the current row.\n",
    "\n",
    "12.  Processing each chunk:\n",
    "```python\n",
    "    for chunk_idx, chunk in enumerate(c):\n",
    "```\n",
    "This loops over each chunk created from the current row's content.\n",
    "\n",
    "13.  Creating a new data dictionary:\n",
    "```python\n",
    "        chunk_data = row.to_dict()\n",
    "```\n",
    "This creates a new dictionary with all the data from the current row.\n",
    "\n",
    "14.  Updating the chunk data:\n",
    "```python\n",
    "        chunk_data['content'] = chunk\n",
    "        chunk_data['document_index'] = idx\n",
    "        chunk_data['chunk_index'] = chunk_idx\n",
    "```\n",
    "These lines update the 'content' with the current chunk, and add 'document_index' and 'chunk_index'.\n",
    "\n",
    "15.  Adding to chunked data:\n",
    "```python\n",
    "        chunked_data.append(chunk_data)\n",
    "```\n",
    "This adds the processed chunk data to the `chunked_data` list.\n",
    "\n",
    "16.  Creating the final DataFrame:\n",
    "```python\n",
    "chunked_df = pd.DataFrame(chunked_data)\n",
    "```\n",
    "This creates a new DataFrame from the `chunked_data` list.\n",
    "\n",
    "17.  Displaying the result:\n",
    "```python\n",
    "chunked_df\n",
    "```\n",
    "This displays or returns the resulting DataFrame with the chunked data."
   ]
  },
  {
   "cell_type": "code",
   "execution_count": 70,
   "id": "b594e426",
   "metadata": {},
   "outputs": [
    {
     "name": "stderr",
     "output_type": "stream",
     "text": [
      "Chunking texts: 100%|██████████| 1000/1000 [00:01<00:00, 967.18it/s]\n"
     ]
    },
    {
     "data": {
      "text/html": [
       "<div>\n",
       "<style scoped>\n",
       "    .dataframe tbody tr th:only-of-type {\n",
       "        vertical-align: middle;\n",
       "    }\n",
       "\n",
       "    .dataframe tbody tr th {\n",
       "        vertical-align: top;\n",
       "    }\n",
       "\n",
       "    .dataframe thead th {\n",
       "        text-align: right;\n",
       "    }\n",
       "</style>\n",
       "<table border=\"1\" class=\"dataframe\">\n",
       "  <thead>\n",
       "    <tr style=\"text-align: right;\">\n",
       "      <th></th>\n",
       "      <th>title</th>\n",
       "      <th>permalink</th>\n",
       "      <th>project</th>\n",
       "      <th>authors</th>\n",
       "      <th>recipients</th>\n",
       "      <th>date-from</th>\n",
       "      <th>date-to</th>\n",
       "      <th>content</th>\n",
       "      <th>document_index</th>\n",
       "      <th>chunk_index</th>\n",
       "    </tr>\n",
       "  </thead>\n",
       "  <tbody>\n",
       "    <tr>\n",
       "      <th>0</th>\n",
       "      <td>Thomas Jefferson to Joseph Milligan, 22 Decemb...</td>\n",
       "      <td>https://founders.archives.gov/documents/Jeffer...</td>\n",
       "      <td>Jefferson Papers</td>\n",
       "      <td>[Jefferson, Thomas]</td>\n",
       "      <td>[Milligan, Joseph]</td>\n",
       "      <td>1815-12-22</td>\n",
       "      <td>1815-12-22</td>\n",
       "      <td>Monticello Dec. 22. 15. \\nDear Sir\\nOn my retu...</td>\n",
       "      <td>0</td>\n",
       "      <td>0</td>\n",
       "    </tr>\n",
       "    <tr>\n",
       "      <th>1</th>\n",
       "      <td>Thomas Jefferson to Joseph Milligan, 22 Decemb...</td>\n",
       "      <td>https://founders.archives.gov/documents/Jeffer...</td>\n",
       "      <td>Jefferson Papers</td>\n",
       "      <td>[Jefferson, Thomas]</td>\n",
       "      <td>[Milligan, Joseph]</td>\n",
       "      <td>1815-12-22</td>\n",
       "      <td>1815-12-22</td>\n",
       "      <td>to be bound[. . .] \\nthe Lat. &amp; Eng in one, &amp; ...</td>\n",
       "      <td>0</td>\n",
       "      <td>1</td>\n",
       "    </tr>\n",
       "    <tr>\n",
       "      <th>2</th>\n",
       "      <td>Thomas Jefferson to Joseph Milligan, 22 Decemb...</td>\n",
       "      <td>https://founders.archives.gov/documents/Jeffer...</td>\n",
       "      <td>Jefferson Papers</td>\n",
       "      <td>[Jefferson, Thomas]</td>\n",
       "      <td>[Milligan, Joseph]</td>\n",
       "      <td>1815-12-22</td>\n",
       "      <td>1815-12-22</td>\n",
       "      <td>\\nMair’s Tyro’s dictionary. \\nI observe a mrRi...</td>\n",
       "      <td>0</td>\n",
       "      <td>2</td>\n",
       "    </tr>\n",
       "    <tr>\n",
       "      <th>3</th>\n",
       "      <td>To Alexander Hamilton from James McHenry, 3 Ma...</td>\n",
       "      <td>https://founders.archives.gov/documents/Hamilt...</td>\n",
       "      <td>Hamilton Papers</td>\n",
       "      <td>[McHenry, James]</td>\n",
       "      <td>[Hamilton, Alexander]</td>\n",
       "      <td>1791-05-03</td>\n",
       "      <td>1791-05-03</td>\n",
       "      <td>[Baltimore] 3 May 1791. \\nMy dear Sir. \\nI did...</td>\n",
       "      <td>1</td>\n",
       "      <td>0</td>\n",
       "    </tr>\n",
       "    <tr>\n",
       "      <th>4</th>\n",
       "      <td>To Alexander Hamilton from James McHenry, 3 Ma...</td>\n",
       "      <td>https://founders.archives.gov/documents/Hamilt...</td>\n",
       "      <td>Hamilton Papers</td>\n",
       "      <td>[McHenry, James]</td>\n",
       "      <td>[Hamilton, Alexander]</td>\n",
       "      <td>1791-05-03</td>\n",
       "      <td>1791-05-03</td>\n",
       "      <td>\\nI then called on Mr. Wm. Smith who with less...</td>\n",
       "      <td>1</td>\n",
       "      <td>1</td>\n",
       "    </tr>\n",
       "    <tr>\n",
       "      <th>...</th>\n",
       "      <td>...</td>\n",
       "      <td>...</td>\n",
       "      <td>...</td>\n",
       "      <td>...</td>\n",
       "      <td>...</td>\n",
       "      <td>...</td>\n",
       "      <td>...</td>\n",
       "      <td>...</td>\n",
       "      <td>...</td>\n",
       "      <td>...</td>\n",
       "    </tr>\n",
       "    <tr>\n",
       "      <th>1785</th>\n",
       "      <td>From John Adams to United States Senate, 14 Ma...</td>\n",
       "      <td>https://founders.archives.gov/documents/Adams/...</td>\n",
       "      <td>Adams Papers</td>\n",
       "      <td>[Adams, John]</td>\n",
       "      <td>[United States Senate]</td>\n",
       "      <td>1798-03-14</td>\n",
       "      <td>1798-03-14</td>\n",
       "      <td>United States March 14th 1798:\\nGentlemen of t...</td>\n",
       "      <td>996</td>\n",
       "      <td>0</td>\n",
       "    </tr>\n",
       "    <tr>\n",
       "      <th>1786</th>\n",
       "      <td>To Benjamin Franklin from William Henly, [Apri...</td>\n",
       "      <td>https://founders.archives.gov/documents/Frankl...</td>\n",
       "      <td>Franklin Papers</td>\n",
       "      <td>[Henly, William]</td>\n",
       "      <td>[Franklin, Benjamin]</td>\n",
       "      <td>1772-04-01</td>\n",
       "      <td>1772-04-30</td>\n",
       "      <td>Sunday Eve. [ April?, 1772]\\nDear Sir:\\nI have...</td>\n",
       "      <td>997</td>\n",
       "      <td>0</td>\n",
       "    </tr>\n",
       "    <tr>\n",
       "      <th>1787</th>\n",
       "      <td>To Benjamin Franklin from William Henly, [Apri...</td>\n",
       "      <td>https://founders.archives.gov/documents/Frankl...</td>\n",
       "      <td>Franklin Papers</td>\n",
       "      <td>[Henly, William]</td>\n",
       "      <td>[Franklin, Benjamin]</td>\n",
       "      <td>1772-04-01</td>\n",
       "      <td>1772-04-30</td>\n",
       "      <td>At this instant I saw every one of the wooden ...</td>\n",
       "      <td>997</td>\n",
       "      <td>1</td>\n",
       "    </tr>\n",
       "    <tr>\n",
       "      <th>1788</th>\n",
       "      <td>From George Washington to Major General Alexan...</td>\n",
       "      <td>https://founders.archives.gov/documents/Washin...</td>\n",
       "      <td>Washington Papers</td>\n",
       "      <td>[Washington, George]</td>\n",
       "      <td>[McDougall, Alexander]</td>\n",
       "      <td>1779-05-20</td>\n",
       "      <td>1779-05-20</td>\n",
       "      <td>Head Quarters Middle Brook May 20th 1779\\nDr S...</td>\n",
       "      <td>998</td>\n",
       "      <td>0</td>\n",
       "    </tr>\n",
       "    <tr>\n",
       "      <th>1789</th>\n",
       "      <td>From Thomas Jefferson to João, Prince Regent o...</td>\n",
       "      <td>https://founders.archives.gov/documents/Jeffer...</td>\n",
       "      <td>Jefferson Papers</td>\n",
       "      <td>[Jefferson, Thomas]</td>\n",
       "      <td>[João, Prince Regent of Portugal]</td>\n",
       "      <td>1801-10-12</td>\n",
       "      <td>1801-10-12</td>\n",
       "      <td>To our Great and Good Friend, His Royal Highne...</td>\n",
       "      <td>999</td>\n",
       "      <td>0</td>\n",
       "    </tr>\n",
       "  </tbody>\n",
       "</table>\n",
       "<p>1790 rows × 10 columns</p>\n",
       "</div>"
      ],
      "text/plain": [
       "                                                  title  \\\n",
       "0     Thomas Jefferson to Joseph Milligan, 22 Decemb...   \n",
       "1     Thomas Jefferson to Joseph Milligan, 22 Decemb...   \n",
       "2     Thomas Jefferson to Joseph Milligan, 22 Decemb...   \n",
       "3     To Alexander Hamilton from James McHenry, 3 Ma...   \n",
       "4     To Alexander Hamilton from James McHenry, 3 Ma...   \n",
       "...                                                 ...   \n",
       "1785  From John Adams to United States Senate, 14 Ma...   \n",
       "1786  To Benjamin Franklin from William Henly, [Apri...   \n",
       "1787  To Benjamin Franklin from William Henly, [Apri...   \n",
       "1788  From George Washington to Major General Alexan...   \n",
       "1789  From Thomas Jefferson to João, Prince Regent o...   \n",
       "\n",
       "                                              permalink            project  \\\n",
       "0     https://founders.archives.gov/documents/Jeffer...   Jefferson Papers   \n",
       "1     https://founders.archives.gov/documents/Jeffer...   Jefferson Papers   \n",
       "2     https://founders.archives.gov/documents/Jeffer...   Jefferson Papers   \n",
       "3     https://founders.archives.gov/documents/Hamilt...    Hamilton Papers   \n",
       "4     https://founders.archives.gov/documents/Hamilt...    Hamilton Papers   \n",
       "...                                                 ...                ...   \n",
       "1785  https://founders.archives.gov/documents/Adams/...       Adams Papers   \n",
       "1786  https://founders.archives.gov/documents/Frankl...    Franklin Papers   \n",
       "1787  https://founders.archives.gov/documents/Frankl...    Franklin Papers   \n",
       "1788  https://founders.archives.gov/documents/Washin...  Washington Papers   \n",
       "1789  https://founders.archives.gov/documents/Jeffer...   Jefferson Papers   \n",
       "\n",
       "                   authors                         recipients   date-from  \\\n",
       "0      [Jefferson, Thomas]                 [Milligan, Joseph]  1815-12-22   \n",
       "1      [Jefferson, Thomas]                 [Milligan, Joseph]  1815-12-22   \n",
       "2      [Jefferson, Thomas]                 [Milligan, Joseph]  1815-12-22   \n",
       "3         [McHenry, James]              [Hamilton, Alexander]  1791-05-03   \n",
       "4         [McHenry, James]              [Hamilton, Alexander]  1791-05-03   \n",
       "...                    ...                                ...         ...   \n",
       "1785         [Adams, John]             [United States Senate]  1798-03-14   \n",
       "1786      [Henly, William]               [Franklin, Benjamin]  1772-04-01   \n",
       "1787      [Henly, William]               [Franklin, Benjamin]  1772-04-01   \n",
       "1788  [Washington, George]             [McDougall, Alexander]  1779-05-20   \n",
       "1789   [Jefferson, Thomas]  [João, Prince Regent of Portugal]  1801-10-12   \n",
       "\n",
       "         date-to                                            content  \\\n",
       "0     1815-12-22  Monticello Dec. 22. 15. \\nDear Sir\\nOn my retu...   \n",
       "1     1815-12-22  to be bound[. . .] \\nthe Lat. & Eng in one, & ...   \n",
       "2     1815-12-22  \\nMair’s Tyro’s dictionary. \\nI observe a mrRi...   \n",
       "3     1791-05-03  [Baltimore] 3 May 1791. \\nMy dear Sir. \\nI did...   \n",
       "4     1791-05-03  \\nI then called on Mr. Wm. Smith who with less...   \n",
       "...          ...                                                ...   \n",
       "1785  1798-03-14  United States March 14th 1798:\\nGentlemen of t...   \n",
       "1786  1772-04-30  Sunday Eve. [ April?, 1772]\\nDear Sir:\\nI have...   \n",
       "1787  1772-04-30  At this instant I saw every one of the wooden ...   \n",
       "1788  1779-05-20  Head Quarters Middle Brook May 20th 1779\\nDr S...   \n",
       "1789  1801-10-12  To our Great and Good Friend, His Royal Highne...   \n",
       "\n",
       "      document_index  chunk_index  \n",
       "0                  0            0  \n",
       "1                  0            1  \n",
       "2                  0            2  \n",
       "3                  1            0  \n",
       "4                  1            1  \n",
       "...              ...          ...  \n",
       "1785             996            0  \n",
       "1786             997            0  \n",
       "1787             997            1  \n",
       "1788             998            0  \n",
       "1789             999            0  \n",
       "\n",
       "[1790 rows x 10 columns]"
      ]
     },
     "execution_count": 70,
     "metadata": {},
     "output_type": "execute_result"
    }
   ],
   "source": [
    "# Function to chunk text into groups of 3 sentences\n",
    "def chunk_text(text, chunk_size=10):\n",
    "    doc = nlp(text)\n",
    "    sentences = list(doc.sents)\n",
    "    temp_chunks = []\n",
    "    for i in range(0, len(sentences), chunk_size):\n",
    "        c = sentences[i:i+chunk_size]\n",
    "        temp_chunks.append(\" \".join([sent.text for sent in c]))\n",
    "    return temp_chunks\n",
    "\n",
    "# Create chunks\n",
    "chunked_data = []\n",
    "for idx, row in tqdm(df.iterrows(), total=len(df), desc=\"Chunking texts\"):\n",
    "    c = chunk_text(row['content'])\n",
    "    for chunk_idx, chunk in enumerate(c):\n",
    "        chunk_data = row.to_dict()\n",
    "        chunk_data['content'] = chunk\n",
    "        chunk_data['document_index'] = idx\n",
    "        chunk_data['chunk_index'] = chunk_idx\n",
    "        chunked_data.append(chunk_data)\n",
    "# Create new DataFrame with chunks\n",
    "chunked_df = pd.DataFrame(chunked_data)\n",
    "chunked_df"
   ]
  },
  {
   "cell_type": "markdown",
   "id": "ce845c62",
   "metadata": {},
   "source": [
    "Now that we have our new DataFrame, you can see that we have all our chunks: `1790` of them. We have everything we need to now convert this data into a chunk list that we can use to populate the Weaviate cluster."
   ]
  },
  {
   "cell_type": "code",
   "execution_count": 43,
   "id": "8fa77aec",
   "metadata": {},
   "outputs": [],
   "source": [
    "def convert_to_rfc3339(date_value):\n",
    "    if date_value is None:\n",
    "        return None\n",
    "    if isinstance(date_value, str):\n",
    "        try:\n",
    "            dt = datetime.fromisoformat(date_value)\n",
    "        except ValueError:\n",
    "            dt = datetime.strptime(date_value, '%Y-%m-%d')  # Adjust format as needed\n",
    "    elif isinstance(date_value, datetime):\n",
    "        dt = date_value\n",
    "    else:\n",
    "        raise ValueError(f\"Unsupported date type: {type(date_value)}\")\n",
    "    \n",
    "    if dt.tzinfo is None:\n",
    "        dt = dt.replace(tzinfo=timezone.utc)\n",
    "    \n",
    "    return dt.isoformat()\n",
    "\n",
    "chunks_list = list()\n",
    "for idx, row in chunked_df.iterrows():\n",
    "    # Convert date values to RFC 3339 format\n",
    "    date_from = convert_to_rfc3339(row['date-from'])\n",
    "    date_to = convert_to_rfc3339(row['date-to'])\n",
    "    \n",
    "    data_properties = {\n",
    "        \"chunk\": row[\"title\"] + \"\\n\" + row[\"content\"],\n",
    "        \"authors\": row[\"authors\"] if isinstance(row[\"authors\"], list) else [row[\"authors\"]],\n",
    "        \"recipients\": row[\"recipients\"] if isinstance(row[\"recipients\"], list) else [row[\"recipients\"]],\n",
    "        \"chapter_title\": row[\"title\"],\n",
    "        \"chunk_index\": int(row[\"chunk_index\"]),\n",
    "        \"doc_index\": int(row[\"document_index\"])\n",
    "    }\n",
    "    \n",
    "    # Only add date properties if they are not None\n",
    "    if date_from is not None:\n",
    "        data_properties[\"date_from\"] = date_from\n",
    "    if date_to is not None:\n",
    "        data_properties[\"date_to\"] = date_to\n",
    "    \n",
    "    data_object = wvc.data.DataObject(properties=data_properties)\n",
    "    chunks_list.append(data_object)"
   ]
  },
  {
   "cell_type": "code",
   "execution_count": 46,
   "id": "a84aadc4",
   "metadata": {},
   "outputs": [
    {
     "data": {
      "text/plain": [
       "DataObject(properties={'chunk': 'Thomas Jefferson to Joseph Milligan, 22 December 1815\\nMonticello Dec. 22. 15. \\nDear Sir\\nOn my return here from Bedford a few days ago, I found the Hutton and Requisite tables, bound to my mind. by this mail I send you an Ovid’s metamorphoses almost entirely worne out & defaced, yet of sovaluable and rareaneditionthat I wish you to put it into as good a state of repair as it is susceptible of. by the next mail I will forward a Cornelius Nepos to be bound. be so good as to procure and forward to me by stage the underwritten books. I salute you with friendship & esteem\\nTh: Jefferson\\nAinsworth’sLat. & Eng. dict. abridged.', 'authors': ['Jefferson, Thomas'], 'recipients': ['Milligan, Joseph'], 'chapter_title': 'Thomas Jefferson to Joseph Milligan, 22 December 1815', 'chunk_index': 0, 'doc_index': 0, 'date_from': '1815-12-22T00:00:00+00:00', 'date_to': '1815-12-22T00:00:00+00:00'}, uuid=None, vector=None, references=None)"
      ]
     },
     "execution_count": 46,
     "metadata": {},
     "output_type": "execute_result"
    }
   ],
   "source": [
    "chunks_list[0]"
   ]
  },
  {
   "cell_type": "markdown",
   "id": "dc207c23",
   "metadata": {},
   "source": [
    "# Populate Weaviate Cluster\n",
    "\n",
    "Now that we have our chunk lists, we can populate the Weaviate server! We can do this by accessing our `Founders` collection and using `data.insert_many`. This will handle batching for you, making the process a lot faster. Let's just send the first 300 chunks to save on cost."
   ]
  },
  {
   "cell_type": "code",
   "execution_count": 48,
   "id": "9b9df8ca",
   "metadata": {},
   "outputs": [
    {
     "data": {
      "text/plain": [
       "BatchObjectReturn(_all_responses=[UUID('9052c7b4-8621-4e95-b38e-c8f006493bf4'), UUID('8c2ca252-4573-46e4-a898-2472e8e70840'), UUID('deb77c16-a8df-41b2-9b34-89a2b83fd707'), UUID('ae543507-dc4f-408b-b6e3-bdc0da8c410a'), UUID('1b071ae5-ab04-4438-a72f-05c93d422879'), UUID('ce434d25-a47a-496c-8bba-0f5a137866fb'), UUID('f4e4c82c-e495-47fe-9be1-975a3172b836'), UUID('a80ac851-a656-47b9-9774-f072099ea3cb'), UUID('b4ab8e90-d962-4f6d-b71b-2c75689f762e'), UUID('8cc5ecbf-0c9d-4ec3-b531-5fc6f706c3c6'), UUID('1c858723-8fe9-43d7-92bd-bfa07071a5b6'), UUID('09b9f253-1758-4c01-a1be-5c8b524651d4'), UUID('f56e7781-a0a0-40ad-a3de-57a2a416fcea'), UUID('974558fb-09e9-4212-894c-f410bf7ffa15'), UUID('ca32b8e9-6823-4b29-8d7f-43dd324075cf'), UUID('65c542fd-f873-46b9-b976-16455070e50f'), UUID('0c920da0-d542-4da6-b43a-5df1f87c562a'), UUID('6f5bdb08-e870-42c6-bbac-9777264a7de6'), UUID('4bcd93bc-3851-4a76-a00f-b647b3155559'), UUID('87fe4203-3425-4812-a22b-095028dd37c0'), UUID('db23b297-258f-4cbf-8e8c-3b375ec91bcf'), UUID('ef732d1c-09bf-4736-87a4-9a1cdfd55b47'), UUID('9d4f794c-af02-4ca7-b04c-62d965a93bc9'), UUID('f16dc856-ee92-42ed-b7d2-2b8d87240f61'), UUID('f992b1a2-156f-4cc2-8618-eebe0d412871'), UUID('5dc5db79-94b8-4191-9131-2268528b95d3'), UUID('b190564d-08d3-4500-93d0-437a3d894482'), UUID('45b5ecaf-7a3a-4a4a-a565-6ff4e3f0b45b'), UUID('eb6635f1-fbfd-4864-b11e-7ba333b3ba3b'), UUID('8189a8d2-7a75-48e8-bc2f-e37e200e7119'), UUID('2133c5c5-7672-45bd-a3df-7f5a29430192'), UUID('afd7b00c-90b3-4ac7-8124-b172830c605a'), UUID('3ec749da-9442-4fa2-a3e0-9b39db5d2ac8'), UUID('bdb0a400-cbdb-4d8c-85b9-f025c173f15b'), UUID('1101d53d-b877-45cd-8e47-a90e70a82756'), UUID('58550a6f-dc76-465d-ba93-2ab9cf9bf1e1'), UUID('96428597-4577-465d-9846-702f11196fd3'), UUID('3ac1c4c9-a904-4f6f-9d56-04bb399ad042'), UUID('2583bb66-f168-4689-b6bc-009171a37a4c'), UUID('43ae1cb2-8817-4596-8a21-8dd9cf912d57'), UUID('369f978f-f17e-4e20-abce-46586764583d'), UUID('c70842a5-3f7b-4b55-a4a4-a61228cea4b2'), UUID('9ce20476-1c2c-4472-8e55-5402a7c327e1'), UUID('5dcf1e3c-bd9a-403e-8b84-2a8523f82a0d'), UUID('54a446cd-7917-4f3e-a1fa-5afe0ccdedae'), UUID('3f7ee8d5-74ec-430f-b961-c4969fd96bd4'), UUID('1c3ce5c3-a390-40ad-b4a4-1197e9d0b571'), UUID('1b869747-8c4e-4b7d-ba98-07689ec6075a'), UUID('4b2628c8-4ef0-4960-a145-46f2b0a3bf9d'), UUID('c1f33c3a-69c7-43fe-89c3-15ae983073bc'), UUID('b113a202-5dc0-4205-9aaa-cfc5171a7580'), UUID('57fb5f3b-18f0-4e36-bee0-322002e6ef2a'), UUID('92aa64b8-ea56-4b6d-a92c-404d6510688a'), UUID('3c0742e0-e850-465a-8014-9d2ff3321fe3'), UUID('7ad9b3cc-3f4d-453e-94f2-d6f573b6bed0'), UUID('19785f8e-243e-4411-a448-a6e816eea4f8'), UUID('e29e428d-3797-481a-aebf-f910a5ae629b'), UUID('da64ae2c-ab83-4ce4-9b10-338290ce8d7e'), UUID('6cfa5965-b4c6-422b-8d32-22573cba9dcc'), UUID('575c642f-d1b2-4ba6-a618-905eb712b9f1'), UUID('71675866-2417-4714-8141-5101f810552a'), UUID('8669027b-a468-4aa7-b07a-f96c7b806e4d'), UUID('19f12356-d8e1-425e-a2f1-4d8baf280301'), UUID('84ecdcad-6eea-426c-9577-29de8989ad5b'), UUID('834698e5-9551-461c-b500-2e743b6d1a91'), UUID('7c8c6843-405a-4d99-a202-3431cda48b00'), UUID('d0f116e1-011e-4d34-bf21-6dce55db736c'), UUID('4b56bfe2-fcbe-4c83-bee8-d88a0949e3e8'), UUID('f1c28ea3-b94b-4c5a-b6a7-157994625f3a'), UUID('8f778424-019c-4529-907a-90d8d5292271'), UUID('68674aa7-7767-4551-a661-12cef3b40864'), UUID('57f79db1-28c3-4bdb-9972-96516fc79df4'), UUID('46094a98-a03d-4313-ae68-eaaee4935de2'), UUID('39673c7d-81e6-4d8e-ac6d-851ac174104d'), UUID('2eb08796-851b-4da3-8b9c-7636e3217ccb'), UUID('6cf81ec4-6ff8-44d0-9246-d5dce6fc4c60'), UUID('9ce678b0-51ad-448c-9995-28fbd2bbe96e'), UUID('bd59b69b-fe4b-4f0e-bc25-d32294bcd7ce'), UUID('9d2f06b8-49f5-4f2b-ae55-01f66d0ca938'), UUID('8a92ee6e-64e2-4433-b863-bf52738a6e57'), UUID('df0397eb-e72e-4aa3-8e57-d322ecb44241'), UUID('df9b67a5-7f23-48a5-b62a-58f9bda6f99b'), UUID('1457c56f-c2e9-460b-a6f4-0a9257a43b58'), UUID('07d8f6dd-67bd-4a68-93c0-d4729042529d'), UUID('e8d97589-637f-45a9-b1c9-a65a7236d7e9'), UUID('98793f59-9e4b-49bb-942f-98e53a8b8952'), UUID('d887403b-9113-4653-9fe3-d4264767a661'), UUID('ec069c9a-4a89-4fc9-aba1-399e816d7bef'), UUID('fbb4ec6c-fb81-47c4-ae64-18465c29f6a5'), UUID('d043d6d1-b533-4d20-aa05-59bafcbd1f4d'), UUID('05627529-5674-45d8-a5cb-e589e2d56e26'), UUID('01e94bc2-2064-457a-b471-f7d47ac80fc1'), UUID('533ab651-6974-49f0-90bc-2df56d6cc22f'), UUID('ce038954-dfd6-4c4b-a68f-dfdaa3728ad2'), UUID('7802dd3c-7c75-46a7-9523-41bf353b509f'), UUID('b5e83458-cbf0-4f2f-acee-61d1be72f33c'), UUID('22ccf873-bdc8-4843-939b-02efb0e44dc6'), UUID('8332e5bb-d1be-461d-aed0-8071d3644643'), UUID('c10199f5-3129-45bb-b590-80be6ec884db'), UUID('990cd672-7d30-49ce-982c-b29d100371e4'), UUID('2738bcc6-db08-4ef3-8275-9b78651062a0'), UUID('7500e7b7-7729-43fe-bf57-51bfb842d087'), UUID('5e632a87-5902-4491-85f4-b4bfd96b8e79'), UUID('4cec6c19-2915-4d20-b996-b1f916eb5c6a'), UUID('64c6da73-b002-4105-9dc1-9f96471136f7'), UUID('3319c5c1-bbd2-442b-8a27-74a7b902951f'), UUID('9042c86b-9b40-475d-9bed-2c3d26db8735'), UUID('765ecbda-07a4-4c10-925b-ccbc876bedf6'), UUID('99fa834d-7855-4986-ba55-3d970630d53d'), UUID('1e6dcda4-06fa-4e3d-b2e7-e63f1f85df2d'), UUID('a2f8233f-8138-46d9-ad3c-633a958303c4'), UUID('83dbaf81-2d46-47d1-931a-38c7c26083ff'), UUID('7535577e-8c87-4f9f-969c-f5ab70c739f2'), UUID('0b5b1be5-aeeb-446b-b31b-a7e89c20ea71'), UUID('6793c3b3-d8c6-4177-9256-d566cc27921c'), UUID('3bb8de24-bc13-4565-b9f8-249d3ab928d4'), UUID('09f23935-5bf9-4017-928a-3668c26a00f4'), UUID('105c63a5-332a-4980-bddd-1c6889bdfdea'), UUID('a7fb63cf-192b-47e0-8264-d52f83645658'), UUID('ab3aef81-f1e3-4a2c-aa60-864e6f2d23d1'), UUID('754fbabd-ec4c-42c9-96b4-35f0c39d881b'), UUID('c45a402a-415e-4970-b94b-8a3cf67c0c1e'), UUID('9c56ac71-1822-441a-a4c1-aee6a16a7eb0'), UUID('f6c8fb13-36a0-4d41-aad6-1b5de6879b6d'), UUID('e8d4a8aa-53ff-4481-9f2a-2fa13888c09c'), UUID('d67b1f2a-ba6d-4c8e-a93e-1317c50fa45d'), UUID('274d7279-a509-4844-8120-1a8f6d4a6193'), UUID('a93dc098-0ed6-42ca-b981-a0271a7eac8b'), UUID('cf818abc-a627-4ccd-9a78-8cca93b34f14'), UUID('959baa7e-4cdb-4d32-9773-7ca7539fedea'), UUID('a33ed243-da4c-4312-9088-245b42659d8c'), UUID('415c96be-6ba5-4dd3-a4f5-3415764b89b5'), UUID('b3e0b177-4e6c-47ab-ba6b-5fb2183da29f'), UUID('992e5f9d-3c3d-4c1f-b8b2-156fb0edef0e'), UUID('43768711-18ce-4afd-afe3-60f56d02c765'), UUID('03963db9-9b34-47e4-b2fc-d5dacb52a538'), UUID('069777ba-2635-41c9-a717-3234ccecc060'), UUID('e62964a3-c20a-4059-9d7a-336c34dfddda'), UUID('ea60b447-db5e-4980-8ecc-cef2b7bac6d1'), UUID('8a41eb17-702a-47e8-901e-cb5acc22f972'), UUID('d4f43470-2b75-4407-b4ee-67d9cd441ef3'), UUID('141df34f-976b-4a81-b17c-e8bd8ead01d3'), UUID('d9b7b26b-d4ae-4c5e-8ffd-5478d4c310d6'), UUID('259c0916-f201-46df-a3c4-9741ec32e092'), UUID('061adf3a-2711-4eb6-bdff-16112547b338'), UUID('9ba6fdde-45d1-4b6a-a8b9-c61bc0e5ade4'), UUID('fb7cb58d-e41b-45b8-809a-6e9325df9b38'), UUID('ba5bf085-ba8b-4030-8891-e501e5447337'), UUID('510319de-5d7a-4da8-8842-a50c7d93a9ba'), UUID('8e076697-b3ad-45ab-8f2e-32cd1b8c0027'), UUID('665ab8f7-8b2b-4d07-888d-3f17d057827c'), UUID('921e99f2-8889-4836-8650-c23661eb7850'), UUID('b805d348-8b3e-4201-bbf8-426944490f8f'), UUID('6f6ba58b-bb51-4b5d-ac84-da56d52c642a'), UUID('849a5afd-0662-47e6-9d6a-bd3ae0af8896'), UUID('d80e99a0-4d30-4c85-8730-1a95aaf26ac3'), UUID('f45b1ede-2390-4798-8df4-6af518dc8b3c'), UUID('cb131f84-b62a-448a-84d8-576e44092d1b'), UUID('d8ef8eab-b68c-46af-ab1d-76e7efafec82'), UUID('18052487-d537-4843-8c83-ceb4c7d4d1e8'), UUID('36dff7a6-a001-4b28-a1ac-826d2fee93f6'), UUID('48e5a812-172d-460d-8aa8-9ddf88da199a'), UUID('9901e359-124c-4581-87ec-1df103e500b5'), UUID('4cef1352-b0fa-42b8-8f3b-ac10a567d74c'), UUID('b373dd13-1cb9-4498-aa3a-5a98c3462130'), UUID('d07df678-7c72-475c-91bc-6703c4ece208'), UUID('79d53d9a-bfbc-4ed5-9786-f675fecabc1d'), UUID('8aef738b-157b-432f-a962-32708b0db6f2'), UUID('9b488608-bffd-42c4-8a50-c36acd130988'), UUID('79facf9f-96ec-40af-9b57-45acc0dd9e4c'), UUID('50c22189-1887-489d-ac8a-6fa5a3388b23'), UUID('a03da253-1bf2-4070-87ad-6ae829749ed0'), UUID('9c04919b-cc8b-47fc-b93c-96e0aae88401'), UUID('2ca60765-1af6-47e5-80ab-c3dca77dd109'), UUID('8c524199-17fb-4e22-9fbb-791a62a9095d'), UUID('45f1b3b6-1622-4c53-bba1-6d8fe1bec7ec'), UUID('c8c7acf6-fdef-4a09-b1fb-65e6e2a93b91'), UUID('bb87e983-f733-48df-88f5-3f27d8ad3025'), UUID('6da0dbe7-b255-46ed-b343-61495a3de2a8'), UUID('7b584891-9687-4681-a39a-0a621efc08bc'), UUID('0107c7dd-c393-4fcf-be96-69b5ac589715'), UUID('522d2915-868b-48ba-a37d-611d2b5aebfd'), UUID('03f3c659-f7f5-4463-88da-50c62b0ed502'), UUID('2e20689e-e0db-48de-8442-7e331311542b'), UUID('938dd9e7-3378-4ebc-a637-aea97d2ed302'), UUID('d83ddff9-82a6-433b-9d37-e44ebd0a977c'), UUID('fca9db8a-0888-499f-b0c2-1f3b927a3423'), UUID('28d7accc-4918-4bb1-8150-58a250204c10'), UUID('968ff2f7-26c1-4a7c-8afb-7d38c3137651'), UUID('57ced187-08b8-4772-ad22-4e6d8563ea4d'), UUID('ffb4550a-c17e-4762-9aa2-286979548fcc'), UUID('830e7eee-858c-4915-8ed5-0b31538cab9a'), UUID('07c74168-9591-4cc3-a9fb-9a95f00c8d60'), UUID('7752977e-38f2-41d8-950c-c8080e08c1a9'), UUID('a4da3806-ccb1-4ae0-bb77-e7634591bb05'), UUID('c6d14e2c-7b64-4e70-9b7c-dbab22e70bcf'), UUID('5045c361-f31d-4d5c-a776-1a3128948276'), UUID('211dbec0-0d01-46d9-baf0-0798ba49dd07'), UUID('8a34f6c8-3fb5-44a2-9616-6130f6c78e32'), UUID('1e1f0f37-df53-4f7d-b8d7-2f29a0d008d8'), UUID('65dec70c-dab6-4e62-ac8b-5b428df90950'), UUID('03763026-3108-4061-8740-c0120cba6f6f'), UUID('d4587ff5-0c75-4627-b83d-7376cb823cb9'), UUID('88966575-3186-4d90-89d1-21dfc9e736aa'), UUID('875ed969-976e-4116-b844-dc1e479e8757'), UUID('1d19c80e-19a0-4743-a5d6-2457789b5785'), UUID('4a185c86-054c-472e-b04f-7789231cfb56'), UUID('d7f0c661-d3bf-4c2a-b730-5dab7ce00afe'), UUID('7b3f69ba-6a12-48bd-8444-fcec938e9eb2'), UUID('3abd6fb9-e818-4856-9438-a63d53554a19'), UUID('4e4bf4ac-6187-46b7-91ad-d7d6a5cba2de'), UUID('960d52ce-24ac-453d-8587-80f8a4adff2c'), UUID('42273879-c4de-46b2-8521-cd0da1bf47a5'), UUID('d8c84a2d-ed63-4152-b839-db0a495c1375'), UUID('7a5ce1ca-cf7c-4570-98be-f359f8ce9b9d'), UUID('947a286b-3eda-41ee-98a2-a4bf7ae98fcd'), UUID('a3549b2f-a27e-457c-817e-2b195374e6a1'), UUID('9b8b1ddc-1edf-4ca9-9bb1-6b9cf225d10e'), UUID('55bc1632-610f-459d-bf51-cc57bbf44dd9'), UUID('1c061731-3a70-42a0-af78-564e6d5f206f'), UUID('2cd1b0fa-26d1-40c8-b175-091b776d043e'), UUID('1a3ffda8-22a0-4c98-a13b-0b560088a71c'), UUID('f561f86d-e3cb-467f-bd96-f7f663753e6c'), UUID('d2fcc48d-cf8f-4514-8068-28a3822aed05'), UUID('b6c6e43c-5118-405e-a7d3-d50252dab027'), UUID('2dd4accb-93fa-47a2-a5c2-6f505d56f3fa'), UUID('db5dbbcc-3830-4d0e-8e58-e7b112d51a87'), UUID('2f0ccea8-1104-44a7-8839-eda5fd7897d1'), UUID('eff64668-9c24-46ee-9ea0-13cbd59f9bd1'), UUID('2bba714c-934f-4916-a7ee-ba73d03c74df'), UUID('65d264f8-b92f-4e7f-89fd-1c3068e11315'), UUID('f455cdeb-e519-4f40-816a-5ef731651b3e'), UUID('13295a6e-5984-4b6f-b20e-1538a3f3b16e'), UUID('93264150-2065-4e32-9ecb-e590710269b5'), UUID('4452c9d9-85ea-4966-a616-11debe2899a7'), UUID('6bfe3f47-2b41-4b3f-91a3-92cbdc19e42e'), UUID('eb18cf92-4aaa-4225-adfd-8027327ace78'), UUID('8b24ffeb-ef44-44e6-8fcf-ab04e3713eac'), UUID('e4b30bb1-6a2b-4378-af88-ab41e408aacd'), UUID('93ccc7c8-bb0a-42fa-8ec4-24386544df81'), UUID('112e8a0d-d18e-4309-9ee3-ae2552e4e570'), UUID('2d9a984a-27f9-460b-ad14-424addb8d16c'), UUID('2eb8db96-c85b-407a-bcb3-fba62903d497'), UUID('df504102-1e62-4f48-b6cd-a5b030fdca83'), UUID('3cf3b0cb-4813-45d6-ae06-1b09cee39fcd'), UUID('5b3161de-c718-48b6-aef4-0cbba71f6d25'), UUID('8990adc8-7c6f-4308-a17c-220247288e0d'), UUID('28729f2e-8190-4a6b-ae4e-71090f40370f'), UUID('4183c4a8-81a4-43e7-b66a-7f61ab4c2144'), UUID('ff8b78b0-e516-4cdd-b081-74821b86f92c'), UUID('dca7353f-08f7-43cb-b0b7-3bc749bf90c5'), UUID('f875fecd-5a4c-4839-9a90-1d0bbe4fb16a'), UUID('00440be4-b7e2-4b71-96b9-f627812e3fb3'), UUID('ba691926-75ac-47a7-a2e2-2fcc74857ee8'), UUID('bab2bb50-3581-444f-a029-4d35b81424f2'), UUID('613a3f51-5579-4119-8a4c-cc50c9df17bd'), UUID('8f14f924-6c91-4f8f-90cd-9ea88407368d'), UUID('f5d139f9-86b9-43d2-9e6b-120024057dff'), UUID('99848ff4-5130-4b76-975f-fd04da7d5b22'), UUID('b8786c06-7f94-456f-a2a0-78ac47998687'), UUID('c370cd28-0cf9-43ed-b030-1d5ab605ef76'), UUID('e30f448a-0894-421e-9bd1-7603805e5ee1'), UUID('35be77fd-28ea-4de9-aa4f-8994a76f9990'), UUID('68b90893-c869-43e1-be72-88aa9898590e'), UUID('920eb191-d433-4e01-993e-8bc2f73ea28d'), UUID('c35efde5-1f84-44b1-8ff4-cd54513e6c64'), UUID('48ab9e71-582c-4334-a916-fdce33c412ae'), UUID('7136e417-67f1-433e-9e47-2ce0de26a2c5'), UUID('358980e4-8af9-425e-ba25-5a6f938f533e'), UUID('20b9a9a4-ffde-48c9-b7b9-a140e12f9d75'), UUID('261eb66b-2c49-42ae-9bce-55e5852e66ad'), UUID('1f5fb3cb-4c3a-4701-a154-492410adbc7d'), UUID('600d76cd-64d5-4b41-abfc-788846424a3f'), UUID('8d4e6aa5-dad0-4ddc-830b-3295e3925ca5'), UUID('dd80f8ba-9825-454d-a6d5-6900aa892717'), UUID('28f3edd3-daaa-409f-b38f-d16aec42ed0a'), UUID('235b22ac-169b-41bb-82d2-66f582ee61ce'), UUID('1e3013f6-6dfb-4d93-a9dc-fb5bbcacbeaa'), UUID('dde52c2d-55d1-43c0-a0cc-4e0918e79fb5'), UUID('a88267a8-e571-48a8-9cee-3d4e9a371736'), UUID('85f0217f-f8d7-42b3-8ece-417d38e6a186'), UUID('0e277133-788f-4e47-a768-df9eddffbd19'), UUID('b0fc998e-d3bf-49e0-9298-0bd107322d92'), UUID('7916c768-c912-4782-96c4-d2cdadfa5951'), UUID('113c513d-3c34-4e68-a92d-82982cf485f4'), UUID('e50c8720-70eb-4996-9eed-77c24e8c958d'), UUID('c3a50ad6-4ab1-4ecd-86c7-34f6667f231b'), UUID('1979cb77-4a53-4093-b9e6-3d04ed4a159d'), UUID('5e4ddf1a-652f-48ae-b1b4-9a2e81f34d67'), UUID('33849a4a-fd05-42c1-9090-4c2f526b001b'), UUID('99333425-d737-4e97-9615-6c602acf5612'), UUID('0f64a006-e609-4168-a197-f7da8ac0873a'), UUID('a5e040c0-bfb1-47cc-aa7a-9d3b480b594c'), UUID('9e4523ce-44ce-46f3-a066-2d0f711cdd23'), UUID('2f69dbe8-2107-4999-8ee4-91862903337d'), UUID('d751b166-92b9-4cdc-9798-a41ccb7694ab'), UUID('5484047b-c441-4a7e-8021-6e6d87a18905'), UUID('a4eb5bdd-6db0-4bb6-8d92-728290529d63'), UUID('32656cf9-a1ce-4788-987e-2b335a4da7a2'), UUID('6b356581-3aa2-4ed7-befd-d93458adfb3c')], elapsed_seconds=6.0927910804748535, errors={}, uuids={0: UUID('9052c7b4-8621-4e95-b38e-c8f006493bf4'), 1: UUID('8c2ca252-4573-46e4-a898-2472e8e70840'), 2: UUID('deb77c16-a8df-41b2-9b34-89a2b83fd707'), 3: UUID('ae543507-dc4f-408b-b6e3-bdc0da8c410a'), 4: UUID('1b071ae5-ab04-4438-a72f-05c93d422879'), 5: UUID('ce434d25-a47a-496c-8bba-0f5a137866fb'), 6: UUID('f4e4c82c-e495-47fe-9be1-975a3172b836'), 7: UUID('a80ac851-a656-47b9-9774-f072099ea3cb'), 8: UUID('b4ab8e90-d962-4f6d-b71b-2c75689f762e'), 9: UUID('8cc5ecbf-0c9d-4ec3-b531-5fc6f706c3c6'), 10: UUID('1c858723-8fe9-43d7-92bd-bfa07071a5b6'), 11: UUID('09b9f253-1758-4c01-a1be-5c8b524651d4'), 12: UUID('f56e7781-a0a0-40ad-a3de-57a2a416fcea'), 13: UUID('974558fb-09e9-4212-894c-f410bf7ffa15'), 14: UUID('ca32b8e9-6823-4b29-8d7f-43dd324075cf'), 15: UUID('65c542fd-f873-46b9-b976-16455070e50f'), 16: UUID('0c920da0-d542-4da6-b43a-5df1f87c562a'), 17: UUID('6f5bdb08-e870-42c6-bbac-9777264a7de6'), 18: UUID('4bcd93bc-3851-4a76-a00f-b647b3155559'), 19: UUID('87fe4203-3425-4812-a22b-095028dd37c0'), 20: UUID('db23b297-258f-4cbf-8e8c-3b375ec91bcf'), 21: UUID('ef732d1c-09bf-4736-87a4-9a1cdfd55b47'), 22: UUID('9d4f794c-af02-4ca7-b04c-62d965a93bc9'), 23: UUID('f16dc856-ee92-42ed-b7d2-2b8d87240f61'), 24: UUID('f992b1a2-156f-4cc2-8618-eebe0d412871'), 25: UUID('5dc5db79-94b8-4191-9131-2268528b95d3'), 26: UUID('b190564d-08d3-4500-93d0-437a3d894482'), 27: UUID('45b5ecaf-7a3a-4a4a-a565-6ff4e3f0b45b'), 28: UUID('eb6635f1-fbfd-4864-b11e-7ba333b3ba3b'), 29: UUID('8189a8d2-7a75-48e8-bc2f-e37e200e7119'), 30: UUID('2133c5c5-7672-45bd-a3df-7f5a29430192'), 31: UUID('afd7b00c-90b3-4ac7-8124-b172830c605a'), 32: UUID('3ec749da-9442-4fa2-a3e0-9b39db5d2ac8'), 33: UUID('bdb0a400-cbdb-4d8c-85b9-f025c173f15b'), 34: UUID('1101d53d-b877-45cd-8e47-a90e70a82756'), 35: UUID('58550a6f-dc76-465d-ba93-2ab9cf9bf1e1'), 36: UUID('96428597-4577-465d-9846-702f11196fd3'), 37: UUID('3ac1c4c9-a904-4f6f-9d56-04bb399ad042'), 38: UUID('2583bb66-f168-4689-b6bc-009171a37a4c'), 39: UUID('43ae1cb2-8817-4596-8a21-8dd9cf912d57'), 40: UUID('369f978f-f17e-4e20-abce-46586764583d'), 41: UUID('c70842a5-3f7b-4b55-a4a4-a61228cea4b2'), 42: UUID('9ce20476-1c2c-4472-8e55-5402a7c327e1'), 43: UUID('5dcf1e3c-bd9a-403e-8b84-2a8523f82a0d'), 44: UUID('54a446cd-7917-4f3e-a1fa-5afe0ccdedae'), 45: UUID('3f7ee8d5-74ec-430f-b961-c4969fd96bd4'), 46: UUID('1c3ce5c3-a390-40ad-b4a4-1197e9d0b571'), 47: UUID('1b869747-8c4e-4b7d-ba98-07689ec6075a'), 48: UUID('4b2628c8-4ef0-4960-a145-46f2b0a3bf9d'), 49: UUID('c1f33c3a-69c7-43fe-89c3-15ae983073bc'), 50: UUID('b113a202-5dc0-4205-9aaa-cfc5171a7580'), 51: UUID('57fb5f3b-18f0-4e36-bee0-322002e6ef2a'), 52: UUID('92aa64b8-ea56-4b6d-a92c-404d6510688a'), 53: UUID('3c0742e0-e850-465a-8014-9d2ff3321fe3'), 54: UUID('7ad9b3cc-3f4d-453e-94f2-d6f573b6bed0'), 55: UUID('19785f8e-243e-4411-a448-a6e816eea4f8'), 56: UUID('e29e428d-3797-481a-aebf-f910a5ae629b'), 57: UUID('da64ae2c-ab83-4ce4-9b10-338290ce8d7e'), 58: UUID('6cfa5965-b4c6-422b-8d32-22573cba9dcc'), 59: UUID('575c642f-d1b2-4ba6-a618-905eb712b9f1'), 60: UUID('71675866-2417-4714-8141-5101f810552a'), 61: UUID('8669027b-a468-4aa7-b07a-f96c7b806e4d'), 62: UUID('19f12356-d8e1-425e-a2f1-4d8baf280301'), 63: UUID('84ecdcad-6eea-426c-9577-29de8989ad5b'), 64: UUID('834698e5-9551-461c-b500-2e743b6d1a91'), 65: UUID('7c8c6843-405a-4d99-a202-3431cda48b00'), 66: UUID('d0f116e1-011e-4d34-bf21-6dce55db736c'), 67: UUID('4b56bfe2-fcbe-4c83-bee8-d88a0949e3e8'), 68: UUID('f1c28ea3-b94b-4c5a-b6a7-157994625f3a'), 69: UUID('8f778424-019c-4529-907a-90d8d5292271'), 70: UUID('68674aa7-7767-4551-a661-12cef3b40864'), 71: UUID('57f79db1-28c3-4bdb-9972-96516fc79df4'), 72: UUID('46094a98-a03d-4313-ae68-eaaee4935de2'), 73: UUID('39673c7d-81e6-4d8e-ac6d-851ac174104d'), 74: UUID('2eb08796-851b-4da3-8b9c-7636e3217ccb'), 75: UUID('6cf81ec4-6ff8-44d0-9246-d5dce6fc4c60'), 76: UUID('9ce678b0-51ad-448c-9995-28fbd2bbe96e'), 77: UUID('bd59b69b-fe4b-4f0e-bc25-d32294bcd7ce'), 78: UUID('9d2f06b8-49f5-4f2b-ae55-01f66d0ca938'), 79: UUID('8a92ee6e-64e2-4433-b863-bf52738a6e57'), 80: UUID('df0397eb-e72e-4aa3-8e57-d322ecb44241'), 81: UUID('df9b67a5-7f23-48a5-b62a-58f9bda6f99b'), 82: UUID('1457c56f-c2e9-460b-a6f4-0a9257a43b58'), 83: UUID('07d8f6dd-67bd-4a68-93c0-d4729042529d'), 84: UUID('e8d97589-637f-45a9-b1c9-a65a7236d7e9'), 85: UUID('98793f59-9e4b-49bb-942f-98e53a8b8952'), 86: UUID('d887403b-9113-4653-9fe3-d4264767a661'), 87: UUID('ec069c9a-4a89-4fc9-aba1-399e816d7bef'), 88: UUID('fbb4ec6c-fb81-47c4-ae64-18465c29f6a5'), 89: UUID('d043d6d1-b533-4d20-aa05-59bafcbd1f4d'), 90: UUID('05627529-5674-45d8-a5cb-e589e2d56e26'), 91: UUID('01e94bc2-2064-457a-b471-f7d47ac80fc1'), 92: UUID('533ab651-6974-49f0-90bc-2df56d6cc22f'), 93: UUID('ce038954-dfd6-4c4b-a68f-dfdaa3728ad2'), 94: UUID('7802dd3c-7c75-46a7-9523-41bf353b509f'), 95: UUID('b5e83458-cbf0-4f2f-acee-61d1be72f33c'), 96: UUID('22ccf873-bdc8-4843-939b-02efb0e44dc6'), 97: UUID('8332e5bb-d1be-461d-aed0-8071d3644643'), 98: UUID('c10199f5-3129-45bb-b590-80be6ec884db'), 99: UUID('990cd672-7d30-49ce-982c-b29d100371e4'), 100: UUID('2738bcc6-db08-4ef3-8275-9b78651062a0'), 101: UUID('7500e7b7-7729-43fe-bf57-51bfb842d087'), 102: UUID('5e632a87-5902-4491-85f4-b4bfd96b8e79'), 103: UUID('4cec6c19-2915-4d20-b996-b1f916eb5c6a'), 104: UUID('64c6da73-b002-4105-9dc1-9f96471136f7'), 105: UUID('3319c5c1-bbd2-442b-8a27-74a7b902951f'), 106: UUID('9042c86b-9b40-475d-9bed-2c3d26db8735'), 107: UUID('765ecbda-07a4-4c10-925b-ccbc876bedf6'), 108: UUID('99fa834d-7855-4986-ba55-3d970630d53d'), 109: UUID('1e6dcda4-06fa-4e3d-b2e7-e63f1f85df2d'), 110: UUID('a2f8233f-8138-46d9-ad3c-633a958303c4'), 111: UUID('83dbaf81-2d46-47d1-931a-38c7c26083ff'), 112: UUID('7535577e-8c87-4f9f-969c-f5ab70c739f2'), 113: UUID('0b5b1be5-aeeb-446b-b31b-a7e89c20ea71'), 114: UUID('6793c3b3-d8c6-4177-9256-d566cc27921c'), 115: UUID('3bb8de24-bc13-4565-b9f8-249d3ab928d4'), 116: UUID('09f23935-5bf9-4017-928a-3668c26a00f4'), 117: UUID('105c63a5-332a-4980-bddd-1c6889bdfdea'), 118: UUID('a7fb63cf-192b-47e0-8264-d52f83645658'), 119: UUID('ab3aef81-f1e3-4a2c-aa60-864e6f2d23d1'), 120: UUID('754fbabd-ec4c-42c9-96b4-35f0c39d881b'), 121: UUID('c45a402a-415e-4970-b94b-8a3cf67c0c1e'), 122: UUID('9c56ac71-1822-441a-a4c1-aee6a16a7eb0'), 123: UUID('f6c8fb13-36a0-4d41-aad6-1b5de6879b6d'), 124: UUID('e8d4a8aa-53ff-4481-9f2a-2fa13888c09c'), 125: UUID('d67b1f2a-ba6d-4c8e-a93e-1317c50fa45d'), 126: UUID('274d7279-a509-4844-8120-1a8f6d4a6193'), 127: UUID('a93dc098-0ed6-42ca-b981-a0271a7eac8b'), 128: UUID('cf818abc-a627-4ccd-9a78-8cca93b34f14'), 129: UUID('959baa7e-4cdb-4d32-9773-7ca7539fedea'), 130: UUID('a33ed243-da4c-4312-9088-245b42659d8c'), 131: UUID('415c96be-6ba5-4dd3-a4f5-3415764b89b5'), 132: UUID('b3e0b177-4e6c-47ab-ba6b-5fb2183da29f'), 133: UUID('992e5f9d-3c3d-4c1f-b8b2-156fb0edef0e'), 134: UUID('43768711-18ce-4afd-afe3-60f56d02c765'), 135: UUID('03963db9-9b34-47e4-b2fc-d5dacb52a538'), 136: UUID('069777ba-2635-41c9-a717-3234ccecc060'), 137: UUID('e62964a3-c20a-4059-9d7a-336c34dfddda'), 138: UUID('ea60b447-db5e-4980-8ecc-cef2b7bac6d1'), 139: UUID('8a41eb17-702a-47e8-901e-cb5acc22f972'), 140: UUID('d4f43470-2b75-4407-b4ee-67d9cd441ef3'), 141: UUID('141df34f-976b-4a81-b17c-e8bd8ead01d3'), 142: UUID('d9b7b26b-d4ae-4c5e-8ffd-5478d4c310d6'), 143: UUID('259c0916-f201-46df-a3c4-9741ec32e092'), 144: UUID('061adf3a-2711-4eb6-bdff-16112547b338'), 145: UUID('9ba6fdde-45d1-4b6a-a8b9-c61bc0e5ade4'), 146: UUID('fb7cb58d-e41b-45b8-809a-6e9325df9b38'), 147: UUID('ba5bf085-ba8b-4030-8891-e501e5447337'), 148: UUID('510319de-5d7a-4da8-8842-a50c7d93a9ba'), 149: UUID('8e076697-b3ad-45ab-8f2e-32cd1b8c0027'), 150: UUID('665ab8f7-8b2b-4d07-888d-3f17d057827c'), 151: UUID('921e99f2-8889-4836-8650-c23661eb7850'), 152: UUID('b805d348-8b3e-4201-bbf8-426944490f8f'), 153: UUID('6f6ba58b-bb51-4b5d-ac84-da56d52c642a'), 154: UUID('849a5afd-0662-47e6-9d6a-bd3ae0af8896'), 155: UUID('d80e99a0-4d30-4c85-8730-1a95aaf26ac3'), 156: UUID('f45b1ede-2390-4798-8df4-6af518dc8b3c'), 157: UUID('cb131f84-b62a-448a-84d8-576e44092d1b'), 158: UUID('d8ef8eab-b68c-46af-ab1d-76e7efafec82'), 159: UUID('18052487-d537-4843-8c83-ceb4c7d4d1e8'), 160: UUID('36dff7a6-a001-4b28-a1ac-826d2fee93f6'), 161: UUID('48e5a812-172d-460d-8aa8-9ddf88da199a'), 162: UUID('9901e359-124c-4581-87ec-1df103e500b5'), 163: UUID('4cef1352-b0fa-42b8-8f3b-ac10a567d74c'), 164: UUID('b373dd13-1cb9-4498-aa3a-5a98c3462130'), 165: UUID('d07df678-7c72-475c-91bc-6703c4ece208'), 166: UUID('79d53d9a-bfbc-4ed5-9786-f675fecabc1d'), 167: UUID('8aef738b-157b-432f-a962-32708b0db6f2'), 168: UUID('9b488608-bffd-42c4-8a50-c36acd130988'), 169: UUID('79facf9f-96ec-40af-9b57-45acc0dd9e4c'), 170: UUID('50c22189-1887-489d-ac8a-6fa5a3388b23'), 171: UUID('a03da253-1bf2-4070-87ad-6ae829749ed0'), 172: UUID('9c04919b-cc8b-47fc-b93c-96e0aae88401'), 173: UUID('2ca60765-1af6-47e5-80ab-c3dca77dd109'), 174: UUID('8c524199-17fb-4e22-9fbb-791a62a9095d'), 175: UUID('45f1b3b6-1622-4c53-bba1-6d8fe1bec7ec'), 176: UUID('c8c7acf6-fdef-4a09-b1fb-65e6e2a93b91'), 177: UUID('bb87e983-f733-48df-88f5-3f27d8ad3025'), 178: UUID('6da0dbe7-b255-46ed-b343-61495a3de2a8'), 179: UUID('7b584891-9687-4681-a39a-0a621efc08bc'), 180: UUID('0107c7dd-c393-4fcf-be96-69b5ac589715'), 181: UUID('522d2915-868b-48ba-a37d-611d2b5aebfd'), 182: UUID('03f3c659-f7f5-4463-88da-50c62b0ed502'), 183: UUID('2e20689e-e0db-48de-8442-7e331311542b'), 184: UUID('938dd9e7-3378-4ebc-a637-aea97d2ed302'), 185: UUID('d83ddff9-82a6-433b-9d37-e44ebd0a977c'), 186: UUID('fca9db8a-0888-499f-b0c2-1f3b927a3423'), 187: UUID('28d7accc-4918-4bb1-8150-58a250204c10'), 188: UUID('968ff2f7-26c1-4a7c-8afb-7d38c3137651'), 189: UUID('57ced187-08b8-4772-ad22-4e6d8563ea4d'), 190: UUID('ffb4550a-c17e-4762-9aa2-286979548fcc'), 191: UUID('830e7eee-858c-4915-8ed5-0b31538cab9a'), 192: UUID('07c74168-9591-4cc3-a9fb-9a95f00c8d60'), 193: UUID('7752977e-38f2-41d8-950c-c8080e08c1a9'), 194: UUID('a4da3806-ccb1-4ae0-bb77-e7634591bb05'), 195: UUID('c6d14e2c-7b64-4e70-9b7c-dbab22e70bcf'), 196: UUID('5045c361-f31d-4d5c-a776-1a3128948276'), 197: UUID('211dbec0-0d01-46d9-baf0-0798ba49dd07'), 198: UUID('8a34f6c8-3fb5-44a2-9616-6130f6c78e32'), 199: UUID('1e1f0f37-df53-4f7d-b8d7-2f29a0d008d8'), 200: UUID('65dec70c-dab6-4e62-ac8b-5b428df90950'), 201: UUID('03763026-3108-4061-8740-c0120cba6f6f'), 202: UUID('d4587ff5-0c75-4627-b83d-7376cb823cb9'), 203: UUID('88966575-3186-4d90-89d1-21dfc9e736aa'), 204: UUID('875ed969-976e-4116-b844-dc1e479e8757'), 205: UUID('1d19c80e-19a0-4743-a5d6-2457789b5785'), 206: UUID('4a185c86-054c-472e-b04f-7789231cfb56'), 207: UUID('d7f0c661-d3bf-4c2a-b730-5dab7ce00afe'), 208: UUID('7b3f69ba-6a12-48bd-8444-fcec938e9eb2'), 209: UUID('3abd6fb9-e818-4856-9438-a63d53554a19'), 210: UUID('4e4bf4ac-6187-46b7-91ad-d7d6a5cba2de'), 211: UUID('960d52ce-24ac-453d-8587-80f8a4adff2c'), 212: UUID('42273879-c4de-46b2-8521-cd0da1bf47a5'), 213: UUID('d8c84a2d-ed63-4152-b839-db0a495c1375'), 214: UUID('7a5ce1ca-cf7c-4570-98be-f359f8ce9b9d'), 215: UUID('947a286b-3eda-41ee-98a2-a4bf7ae98fcd'), 216: UUID('a3549b2f-a27e-457c-817e-2b195374e6a1'), 217: UUID('9b8b1ddc-1edf-4ca9-9bb1-6b9cf225d10e'), 218: UUID('55bc1632-610f-459d-bf51-cc57bbf44dd9'), 219: UUID('1c061731-3a70-42a0-af78-564e6d5f206f'), 220: UUID('2cd1b0fa-26d1-40c8-b175-091b776d043e'), 221: UUID('1a3ffda8-22a0-4c98-a13b-0b560088a71c'), 222: UUID('f561f86d-e3cb-467f-bd96-f7f663753e6c'), 223: UUID('d2fcc48d-cf8f-4514-8068-28a3822aed05'), 224: UUID('b6c6e43c-5118-405e-a7d3-d50252dab027'), 225: UUID('2dd4accb-93fa-47a2-a5c2-6f505d56f3fa'), 226: UUID('db5dbbcc-3830-4d0e-8e58-e7b112d51a87'), 227: UUID('2f0ccea8-1104-44a7-8839-eda5fd7897d1'), 228: UUID('eff64668-9c24-46ee-9ea0-13cbd59f9bd1'), 229: UUID('2bba714c-934f-4916-a7ee-ba73d03c74df'), 230: UUID('65d264f8-b92f-4e7f-89fd-1c3068e11315'), 231: UUID('f455cdeb-e519-4f40-816a-5ef731651b3e'), 232: UUID('13295a6e-5984-4b6f-b20e-1538a3f3b16e'), 233: UUID('93264150-2065-4e32-9ecb-e590710269b5'), 234: UUID('4452c9d9-85ea-4966-a616-11debe2899a7'), 235: UUID('6bfe3f47-2b41-4b3f-91a3-92cbdc19e42e'), 236: UUID('eb18cf92-4aaa-4225-adfd-8027327ace78'), 237: UUID('8b24ffeb-ef44-44e6-8fcf-ab04e3713eac'), 238: UUID('e4b30bb1-6a2b-4378-af88-ab41e408aacd'), 239: UUID('93ccc7c8-bb0a-42fa-8ec4-24386544df81'), 240: UUID('112e8a0d-d18e-4309-9ee3-ae2552e4e570'), 241: UUID('2d9a984a-27f9-460b-ad14-424addb8d16c'), 242: UUID('2eb8db96-c85b-407a-bcb3-fba62903d497'), 243: UUID('df504102-1e62-4f48-b6cd-a5b030fdca83'), 244: UUID('3cf3b0cb-4813-45d6-ae06-1b09cee39fcd'), 245: UUID('5b3161de-c718-48b6-aef4-0cbba71f6d25'), 246: UUID('8990adc8-7c6f-4308-a17c-220247288e0d'), 247: UUID('28729f2e-8190-4a6b-ae4e-71090f40370f'), 248: UUID('4183c4a8-81a4-43e7-b66a-7f61ab4c2144'), 249: UUID('ff8b78b0-e516-4cdd-b081-74821b86f92c'), 250: UUID('dca7353f-08f7-43cb-b0b7-3bc749bf90c5'), 251: UUID('f875fecd-5a4c-4839-9a90-1d0bbe4fb16a'), 252: UUID('00440be4-b7e2-4b71-96b9-f627812e3fb3'), 253: UUID('ba691926-75ac-47a7-a2e2-2fcc74857ee8'), 254: UUID('bab2bb50-3581-444f-a029-4d35b81424f2'), 255: UUID('613a3f51-5579-4119-8a4c-cc50c9df17bd'), 256: UUID('8f14f924-6c91-4f8f-90cd-9ea88407368d'), 257: UUID('f5d139f9-86b9-43d2-9e6b-120024057dff'), 258: UUID('99848ff4-5130-4b76-975f-fd04da7d5b22'), 259: UUID('b8786c06-7f94-456f-a2a0-78ac47998687'), 260: UUID('c370cd28-0cf9-43ed-b030-1d5ab605ef76'), 261: UUID('e30f448a-0894-421e-9bd1-7603805e5ee1'), 262: UUID('35be77fd-28ea-4de9-aa4f-8994a76f9990'), 263: UUID('68b90893-c869-43e1-be72-88aa9898590e'), 264: UUID('920eb191-d433-4e01-993e-8bc2f73ea28d'), 265: UUID('c35efde5-1f84-44b1-8ff4-cd54513e6c64'), 266: UUID('48ab9e71-582c-4334-a916-fdce33c412ae'), 267: UUID('7136e417-67f1-433e-9e47-2ce0de26a2c5'), 268: UUID('358980e4-8af9-425e-ba25-5a6f938f533e'), 269: UUID('20b9a9a4-ffde-48c9-b7b9-a140e12f9d75'), 270: UUID('261eb66b-2c49-42ae-9bce-55e5852e66ad'), 271: UUID('1f5fb3cb-4c3a-4701-a154-492410adbc7d'), 272: UUID('600d76cd-64d5-4b41-abfc-788846424a3f'), 273: UUID('8d4e6aa5-dad0-4ddc-830b-3295e3925ca5'), 274: UUID('dd80f8ba-9825-454d-a6d5-6900aa892717'), 275: UUID('28f3edd3-daaa-409f-b38f-d16aec42ed0a'), 276: UUID('235b22ac-169b-41bb-82d2-66f582ee61ce'), 277: UUID('1e3013f6-6dfb-4d93-a9dc-fb5bbcacbeaa'), 278: UUID('dde52c2d-55d1-43c0-a0cc-4e0918e79fb5'), 279: UUID('a88267a8-e571-48a8-9cee-3d4e9a371736'), 280: UUID('85f0217f-f8d7-42b3-8ece-417d38e6a186'), 281: UUID('0e277133-788f-4e47-a768-df9eddffbd19'), 282: UUID('b0fc998e-d3bf-49e0-9298-0bd107322d92'), 283: UUID('7916c768-c912-4782-96c4-d2cdadfa5951'), 284: UUID('113c513d-3c34-4e68-a92d-82982cf485f4'), 285: UUID('e50c8720-70eb-4996-9eed-77c24e8c958d'), 286: UUID('c3a50ad6-4ab1-4ecd-86c7-34f6667f231b'), 287: UUID('1979cb77-4a53-4093-b9e6-3d04ed4a159d'), 288: UUID('5e4ddf1a-652f-48ae-b1b4-9a2e81f34d67'), 289: UUID('33849a4a-fd05-42c1-9090-4c2f526b001b'), 290: UUID('99333425-d737-4e97-9615-6c602acf5612'), 291: UUID('0f64a006-e609-4168-a197-f7da8ac0873a'), 292: UUID('a5e040c0-bfb1-47cc-aa7a-9d3b480b594c'), 293: UUID('9e4523ce-44ce-46f3-a066-2d0f711cdd23'), 294: UUID('2f69dbe8-2107-4999-8ee4-91862903337d'), 295: UUID('d751b166-92b9-4cdc-9798-a41ccb7694ab'), 296: UUID('5484047b-c441-4a7e-8021-6e6d87a18905'), 297: UUID('a4eb5bdd-6db0-4bb6-8d92-728290529d63'), 298: UUID('32656cf9-a1ce-4788-987e-2b335a4da7a2'), 299: UUID('6b356581-3aa2-4ed7-befd-d93458adfb3c')}, has_errors=False)"
      ]
     },
     "execution_count": 48,
     "metadata": {},
     "output_type": "execute_result"
    }
   ],
   "source": [
    "\n",
    "founders.data.insert_many(chunks_list[:300])"
   ]
  },
  {
   "cell_type": "markdown",
   "id": "ce94b3a8",
   "metadata": {},
   "source": [
    "# Querying the Database\n",
    "\n",
    "Once we have our database created, we can now query it, just like we did in the previous notebook! If we were working in a different notebook and needed access the founders collection again, we could use the following code after connecting to the client again."
   ]
  },
  {
   "cell_type": "code",
   "execution_count": 71,
   "id": "2b14b508",
   "metadata": {},
   "outputs": [],
   "source": [
    "founders = client.collections.get(\"Founders\")"
   ]
  },
  {
   "cell_type": "code",
   "execution_count": 72,
   "id": "4775c7a6",
   "metadata": {},
   "outputs": [
    {
     "name": "stdout",
     "output_type": "stream",
     "text": [
      "[GenerativeObject(uuid=_WeaviateUUIDInt('0c920da0-d542-4da6-b43a-5df1f87c562a'), metadata=MetadataReturn(creation_time=None, last_update_time=None, distance=None, certainty=None, score=None, explain_score=None, is_consistent=None, rerank_score=None), properties={'date_from': datetime.datetime(1815, 4, 14, 0, 0, tzinfo=datetime.timezone.utc), 'date_to': datetime.datetime(1815, 4, 14, 0, 0, tzinfo=datetime.timezone.utc), 'recipients': ['Adams, Louisa Catherine Johnson'], 'authors': ['Adams, Abigail Smith'], 'chunk_index': 0, 'doc_index': 10, 'chapter_title': 'From Abigail Smith Adams to Louisa Catherine Johnson Adams, 14 April 1815', 'chunk': 'From Abigail Smith Adams to Louisa Catherine Johnson Adams, 14 April 1815\\nQuincy April 14th 1815\\nMy dear Daughter\\nI address you, altho I know not where to find you, which is, and has been a source of much anxiety to me, four months have elapsed since the signature of the Treaty of Peace; when mr Adams wrote from Ghent, that in ten day’s, he should go to Paris, and from thence, send on to St petersburgh, to request you to join him there, and if he should, (as was expected,) be sent to England, that your Sons might be Sent to join their parents there. Altho Since the 27th of december, no letter has reached us from him. We have in compliance with his request, prepared the Children to meet you. \\nI need not Say, how painfull there seperation from me will be. Age, infirmities, and many recent afflictions, which I have met, in the Death of many near and dear Friends, and relatives, have broken me down, and give me little reason, to boast myself of tomorrow, as I know not, what a day may bring forth, So that when they go from me it is with the painfull Idea; that I shall see their faces no more, may we all finally meet in a better world. \\nThe Sudden death, of my dear and only Sister the last week; has opened every wound affresh, and caused my tears to flow anew—George and Susan, are now gone to Atkinson, to pay the last tribute of Respect, to her remains. \\nShe went to Bed on Saturday night well except a Slight Soar throat, which she complaind of, having read two sermons in the evening’s about 12 oclock she awoke, complaind that She was chill’d and oppresst upon her lungs. Mr Peabody rose, call’d up a Maid Servant. Abbe also got up, sent for the doctor, Who soon came, but found the spirit had taken Wing, Without the knowledge or least suspicion of her attendents. \\nSo tranquil was her exit; so few her sufferings, a translation from this earthly abode, to the mansions of glorified Spirits, her whole Life was one continued Series of usefull Services.'}, references=None, vector={}, collection='Founders', generated=None)]\n"
     ]
    }
   ],
   "source": [
    "response = founders.generate.near_text(\n",
    "    query=\"What does Abigail Adams say about her sister?\",\n",
    "    limit=1,\n",
    ")\n",
    "\n",
    "print(response.objects)"
   ]
  },
  {
   "cell_type": "markdown",
   "id": "d53282eb",
   "metadata": {},
   "source": [
    "I want to draw attention to something important. Let's see what document number we returned."
   ]
  },
  {
   "cell_type": "code",
   "execution_count": 73,
   "id": "f98b61ad",
   "metadata": {},
   "outputs": [
    {
     "data": {
      "text/plain": [
       "10"
      ]
     },
     "execution_count": 73,
     "metadata": {},
     "output_type": "execute_result"
    }
   ],
   "source": [
    "response.objects[0].properties[\"doc_index\"]"
   ]
  },
  {
   "cell_type": "markdown",
   "id": "36f9e953",
   "metadata": {},
   "source": [
    "In many instances it can be necessary to only return results based on certain conditions. What if we wanted a document higher than a `doc_index` of 10? This is where filtering comes in."
   ]
  },
  {
   "cell_type": "markdown",
   "id": "1cafe305",
   "metadata": {},
   "source": [
    "# Filtering Data\n",
    "\n",
    "In Weaviate, we have two ways to structure filters. We can structure them by using the filter classes available to us (how we will do it for this tutorial) and via GraphQL (useful for perhaps more complex queries). Since I do not have GraphQL as a prerequisite for students of this course, we will opt for the easier Filter class approach. Weaviate offers numerous ways to filter data natively. Here's a list.\n",
    "\n",
    "| Operator | Description | Example |\n",
    "|----------|-------------|---------|\n",
    "| And | Combines multiple conditions, all of which must be true | `Filter.by_property(\"wordCount\").greater_than(1000) & Filter.by_property(\"title\").like(\"*economy*\")` |\n",
    "| Or | Combines multiple conditions, at least one of which must be true | `Filter.by_property(\"wordCount\").greater_than(1000)` | Filter.by_property(\"title\").like(\"*economy*\")` |\n",
    "| Equal | Matches exact values | `Filter.by_property(\"category\").equal(\"Technology\")` |\n",
    "| NotEqual | Matches all values except the specified one | `Filter.by_property(\"category\").not_equal(\"Sports\")` |\n",
    "| GreaterThan | Matches values greater than the specified value | `Filter.by_property(\"wordCount\").greater_than(1000)` |\n",
    "| GreaterThanEqual | Matches values greater than or equal to the specified value | `Filter.by_property(\"wordCount\").greater_or_equal(1000)` |\n",
    "| LessThan | Matches values less than the specified value | `Filter.by_property(\"price\").less_than(50)` |\n",
    "| LessThanEqual | Matches values less than or equal to the specified value | `Filter.by_property(\"price\").less_or_equal(50)` |\n",
    "| Like | Matches text based on partial matches using wildcards | `Filter.by_property(\"title\").like(\"New *\")` |\n",
    "| WithinGeoRange | Matches geo coordinates within a specified range | `Filter.by_property(\"location\").within_geo_range(GeoCoordinate(latitude=33.7579, longitude=84.3948), distance=10000)` |\n",
    "| IsNull | Matches null or non-null values | `Filter.by_property(\"description\").is_null(True)` |\n",
    "| ContainsAny | Matches if any of the specified values are present in an array or text | `Filter.by_property(\"languages_spoken\").contains_any([\"Chinese\", \"French\", \"English\"])` |\n",
    "| ContainsAll | Matches if all of the specified values are present in an array or text | `Filter.by_property(\"languages_spoken\").contains_all([\"Chinese\", \"French\", \"English\"])` |\n",
    "\n",
    "**Note: The exact syntax may vary depending on the Weaviate client version and programming language used. These examples are based on the Python client v4 syntax.** This notebook uses the v4 syntax."
   ]
  },
  {
   "cell_type": "markdown",
   "id": "be22c931",
   "metadata": {},
   "source": [
    "## Filtering by Integer"
   ]
  },
  {
   "cell_type": "code",
   "execution_count": 27,
   "id": "1806a609",
   "metadata": {},
   "outputs": [
    {
     "name": "stdout",
     "output_type": "stream",
     "text": [
      "[GenerativeObject(uuid=_WeaviateUUIDInt('d9a69243-6a68-4cac-b013-35b42f3a1928'), metadata=MetadataReturn(creation_time=None, last_update_time=None, distance=None, certainty=None, score=None, explain_score=None, is_consistent=None, rerank_score=None), properties={'chapter_title': 'From Abigail Smith Adams to Mary Smith Gray Otis, 13 May 1814', 'chunk_index': 0, 'chunk': 'From Abigail Smith Adams to Mary Smith Gray Otis, 13 May 1814\\nQuincy May 13th 1814\\nMy dear Friend\\nNext to the Supports of religion; is the sympathy of Friends in affliction, of the first you have abandent sources in the Belief of an all wise goveneur and disposer of events, in whose goodness you can confide, and upon whose word you can repose—as the Husband of the Widow and the Father of the Fatherless, unto that being I commend you, and your dear Children, most sincerely sympathizing with you in the Bereavement You have been calld upon to sustain\\nTo know that the Frends we have lost are dear to others, as well as ourselves, that their Virtues and Characters are held in respect and gratefull remembrance is a source of comfort to the weeping Eyes, and bleading Hearst of those who best know their worth, and value and who will long treasure them as a sacred deposit. Who will recollect the domestick endearments with fillial gratitude and bless the Being who spared to them a parent untill they arrived to years of maturity, to coppy his Virtues, and transplant them into their own Lives. \\nI have traveled with you my Friend <through> through every stage of your <journey> Solitary journey.—and accompanied you to your own dwelling, and felt the agony of grief which the entering of it must awaken in your Bosem, and that of my dear Harriot and Mary. Nature must pay it’s tribute— religion forbids it not, nor is it inconsistant with that submission & resignation which is required of us as Christians; provided we do not sorrow to excess but Bless the head which afflicts, and can heal our sorrows—\\n<To that Being I commend you for>\\nI am my dear Friends your Sympathizing Friend\\nA Adams', 'doc_index': 191}, references=None, vector={}, collection='Founders', generated=None)]\n"
     ]
    }
   ],
   "source": [
    "\n",
    "response = founders.generate.near_text(\n",
    "    query=\"What does Abigail Adams say about her sister?\",\n",
    "    limit=1,\n",
    "    filters=Filter.by_property(\"doc_index\").greater_than(10),\n",
    "    grouped_task=\"Summarize the letter.\"\n",
    ")\n",
    "\n",
    "print(response.objects)"
   ]
  },
  {
   "cell_type": "code",
   "execution_count": 24,
   "id": "9597d35a",
   "metadata": {},
   "outputs": [
    {
     "data": {
      "text/plain": [
       "'Abigail Smith Adams expresses her sympathy and support to her friend Mary Smith Gray Otis, who has recently experienced a loss. She emphasizes the importance of the support of friends in times of affliction, and assures Mary that she is not alone in her grief. Abigail also highlights the comfort that comes from knowing that the virtues and characters of loved ones are remembered and respected by others. She acknowledges the pain and sorrow that Mary and her children are experiencing, and encourages them to find solace in their faith and in the belief that their loved one is now in a better place. Abigail closes the letter by expressing her continued support and sympathy for Mary during this difficult time.'"
      ]
     },
     "execution_count": 24,
     "metadata": {},
     "output_type": "execute_result"
    }
   ],
   "source": [
    "response.generated"
   ]
  },
  {
   "cell_type": "markdown",
   "id": "459619a6",
   "metadata": {},
   "source": [
    "## Filtering with Strings"
   ]
  },
  {
   "cell_type": "code",
   "execution_count": 50,
   "id": "eaffaa4d",
   "metadata": {},
   "outputs": [
    {
     "name": "stdout",
     "output_type": "stream",
     "text": [
      "[GenerativeObject(uuid=_WeaviateUUIDInt('c1f33c3a-69c7-43fe-89c3-15ae983073bc'), metadata=MetadataReturn(creation_time=None, last_update_time=None, distance=None, certainty=None, score=None, explain_score=None, is_consistent=None, rerank_score=None), properties={'date_from': datetime.datetime(1797, 1, 1, 0, 0, tzinfo=datetime.timezone.utc), 'chunk_index': 1, 'recipients': ['Adams, John'], 'authors': ['Adams, Abigail'], 'date_to': datetime.datetime(1797, 1, 1, 0, 0, tzinfo=datetime.timezone.utc), 'doc_index': 20, 'chapter_title': 'Abigail Adams to John Adams, 1 January 1797', 'chunk': 'Abigail Adams to John Adams, 1 January 1797\\n\\nwhom do you think has undertaken to read the Defence! but Deacon Webb, and declares himself well pleasd with the first volm.as cousin Boylstone informs me. \\nI fear the Deleware is frozen up So that Brisler will not be able to send me any flower—\\nBillings is just recovering from a visit to Stoughten which has lasted him a week, the Second he has made since you went away. from the first, as he went without the Root of all Evil, he returnd steady. the occasion of his going was the Sickness & Death of the Man who lived upon his place. I have been obliged at his request to purchase for him shirts & other Cloathing. \\nYour Mother desires to be rememberd affectionatly to you. one Day last week she walkt here, and spent the Day. \\nI am my Dearest Friend most / affectionatly Yours\\nA Adams.'}, references=None, vector={}, collection='Founders', generated=None)]\n"
     ]
    }
   ],
   "source": [
    "\n",
    "response = founders.generate.near_text(\n",
    "    query=\"What does Abigail Adams say about her sister's death?\",\n",
    "    limit=1,\n",
    "    filters=Filter.by_property(\"chapter_title\").like(\"*John Adams*\")\n",
    ")\n",
    "\n",
    "print(response.objects)"
   ]
  },
  {
   "cell_type": "markdown",
   "id": "b973055c",
   "metadata": {},
   "source": [
    "## Filtering with List of Strings"
   ]
  },
  {
   "cell_type": "code",
   "execution_count": 54,
   "id": "36ffcfea",
   "metadata": {},
   "outputs": [
    {
     "name": "stdout",
     "output_type": "stream",
     "text": [
      "[GenerativeObject(uuid=_WeaviateUUIDInt('96428597-4577-465d-9846-702f11196fd3'), metadata=MetadataReturn(creation_time=None, last_update_time=None, distance=None, certainty=None, score=None, explain_score=None, is_consistent=None, rerank_score=None), properties={'date_from': datetime.datetime(1770, 11, 29, 0, 0, tzinfo=datetime.timezone.utc), 'date_to': datetime.datetime(1770, 11, 29, 0, 0, tzinfo=datetime.timezone.utc), 'recipients': [], 'authors': ['Adams, John'], 'chunk_index': 11, 'doc_index': 13, 'chapter_title': 'Adams’ Minutes of Crown Evidence, Concluded, and of Samuel Quincy’s Argument for the Crown: 29 November 1770', 'chunk': 'Adams’ Minutes of Crown Evidence, Concluded, and of Samuel Quincy’s Argument for the Crown: 29 November 1770\\nThe Person he killed was in Peace. No Insult offerd to K.\\nMarshall. The Street entirely Still. Fewer People there than usual. He had been warned not to go out that Evening. Moon, to the North. Saw a Party come out of the main Guard door. D—n em where are they? By Jesus let em come. Boisterous Language.'}, references=None, vector={}, collection='Founders', generated=None)]\n"
     ]
    }
   ],
   "source": [
    "response = founders.generate.near_text(\n",
    "    query=\"Something about peace\",\n",
    "    limit=1,\n",
    "    filters=Filter.by_property(\"authors\").contains_any([\"Adams, John\"])\n",
    ")\n",
    "\n",
    "print(response.objects)"
   ]
  },
  {
   "cell_type": "markdown",
   "id": "f1e2b9ff",
   "metadata": {},
   "source": [
    "## Filtering with Dates"
   ]
  },
  {
   "cell_type": "code",
   "execution_count": 56,
   "id": "3d6b20b6",
   "metadata": {},
   "outputs": [
    {
     "name": "stdout",
     "output_type": "stream",
     "text": [
      "[GenerativeObject(uuid=_WeaviateUUIDInt('9c04919b-cc8b-47fc-b93c-96e0aae88401'), metadata=MetadataReturn(creation_time=None, last_update_time=None, distance=None, certainty=None, score=None, explain_score=None, is_consistent=None, rerank_score=None), properties={'date_from': datetime.datetime(1809, 11, 3, 0, 0, tzinfo=datetime.timezone.utc), 'date_to': datetime.datetime(1809, 11, 3, 0, 0, tzinfo=datetime.timezone.utc), 'recipients': ['Boston Patriot'], 'authors': ['Adams, John'], 'chunk_index': 10, 'doc_index': 83, 'chapter_title': 'From John Adams to Boston Patriot, 3 November 1809', 'chunk': 'From John Adams to Boston Patriot, 3 November 1809\\nAll Europe is in a crisis, and this ingredient thrown in at this time will have more effect, than at any other. At a future time I may enlarge upon this subject. \\nAt the foot of this letter to congress I find in my hand writing a note, February 20, 1782. The late evacuation of the barrier towns and demolition of their fortifications, may serve as a comment on the Duke de la Vauguions opinion against the point of time. But if it shews that he was right for his country, it shews also, that I was right for mine. And the Dutch only have been wrong in being blind. \\nI had been very busily and confidentially employed in consultations with my Dutch friends, many of whom were members of the sovereignty, and among the best characters and most respectable men in the nation. I had not taken a step without their advice and full approbation. They were unanimously of my opinion that our American negotiations both for a political and commercial connection, and for a loan of money should be kept as distinct as possible from all French influence. They were also unanimous for sending a copy in three languages to every member of the constitutional sovereignty in all the provinces, amounting in the whole to between four and five thousand persons.'}, references=None, vector={}, collection='Founders', generated=None)]\n"
     ]
    }
   ],
   "source": [
    "# Define the date we want to filter from\n",
    "filter_date = datetime(1800, 1, 1, tzinfo=timezone.utc)\n",
    "\n",
    "founders = client.collections.get(\"Founders\")\n",
    "response = founders.generate.near_text(\n",
    "    query=\"What does John Adams say about war?\",\n",
    "    limit=1,\n",
    "    filters=Filter.by_property(\"date_from\").greater_than(filter_date)\n",
    ")\n",
    "\n",
    "print(response.objects)"
   ]
  },
  {
   "cell_type": "markdown",
   "id": "7b34bbfb",
   "metadata": {},
   "source": [
    "# Stacking Filters"
   ]
  },
  {
   "cell_type": "code",
   "execution_count": 66,
   "id": "f302673d",
   "metadata": {},
   "outputs": [
    {
     "name": "stdout",
     "output_type": "stream",
     "text": [
      "[GenerativeObject(uuid=_WeaviateUUIDInt('a93dc098-0ed6-42ca-b981-a0271a7eac8b'), metadata=MetadataReturn(creation_time=None, last_update_time=None, distance=None, certainty=None, score=None, explain_score=None, is_consistent=None, rerank_score=None), properties={'date_from': datetime.datetime(1802, 8, 4, 0, 0, tzinfo=datetime.timezone.utc), 'date_to': datetime.datetime(1802, 8, 4, 0, 0, tzinfo=datetime.timezone.utc), 'recipients': ['National Intelligencer'], 'authors': ['Adams, John'], 'chunk_index': 1, 'doc_index': 61, 'chapter_title': 'From John Adams to National Intelligencer, 4 August 1802', 'chunk': 'From John Adams to National Intelligencer, 4 August 1802\\n\\nAbstract Opinions in favour of Monarchy or Democracy may exist without Injury to the State. Plato & Aristotle declare freely in their Writings a Veneration for Kingly Goverment. Yet, in the most democratical Governments of Greece, they were not persecuted. An End will be put to all Liberty of thought as well as Speech, if Duane, Callender, Lyon, Cooper, Cheetham Wood, in Short all the Dogs of the Mob, are to be let loose upon every Man, who dares to Speculate upon Principles or Systems of Government. The Change of the last Administration, was in a very Small degree affected by any Sentiment that there were Men in the government whose Views were Subversive of Republicanism: because the very Men, who endeavoured to propagate Such a Sentiment <were> did not believe themselves and were not credited by others. Many of these Men were known to be more inclined to monarchical opinions, then those whom they accused. Many of these Men were known to have often declared their opinions, that the Constitution of the United States was defective, because it had not an hereditary President and an hereditary Senate. Others had been known to declare that no form of Government was worth any thing, but that of King Lords and Commons. Some had even Said that We ought to have a Monarchy in this Country in the Person of one of the Princes of England. This kind of Speeches and Opinions have been oftener uttered by those who are called Republicans and are now poss[e]ssed of Power in the States, than by Federalists.'}, references=None, vector={}, collection='Founders', generated=None), GenerativeObject(uuid=_WeaviateUUIDInt('9c04919b-cc8b-47fc-b93c-96e0aae88401'), metadata=MetadataReturn(creation_time=None, last_update_time=None, distance=None, certainty=None, score=None, explain_score=None, is_consistent=None, rerank_score=None), properties={'date_from': datetime.datetime(1809, 11, 3, 0, 0, tzinfo=datetime.timezone.utc), 'chunk_index': 10, 'recipients': ['Boston Patriot'], 'authors': ['Adams, John'], 'date_to': datetime.datetime(1809, 11, 3, 0, 0, tzinfo=datetime.timezone.utc), 'doc_index': 83, 'chapter_title': 'From John Adams to Boston Patriot, 3 November 1809', 'chunk': 'From John Adams to Boston Patriot, 3 November 1809\\nAll Europe is in a crisis, and this ingredient thrown in at this time will have more effect, than at any other. At a future time I may enlarge upon this subject. \\nAt the foot of this letter to congress I find in my hand writing a note, February 20, 1782. The late evacuation of the barrier towns and demolition of their fortifications, may serve as a comment on the Duke de la Vauguions opinion against the point of time. But if it shews that he was right for his country, it shews also, that I was right for mine. And the Dutch only have been wrong in being blind. \\nI had been very busily and confidentially employed in consultations with my Dutch friends, many of whom were members of the sovereignty, and among the best characters and most respectable men in the nation. I had not taken a step without their advice and full approbation. They were unanimously of my opinion that our American negotiations both for a political and commercial connection, and for a loan of money should be kept as distinct as possible from all French influence. They were also unanimous for sending a copy in three languages to every member of the constitutional sovereignty in all the provinces, amounting in the whole to between four and five thousand persons.'}, references=None, vector={}, collection='Founders', generated=None), GenerativeObject(uuid=_WeaviateUUIDInt('cf818abc-a627-4ccd-9a78-8cca93b34f14'), metadata=MetadataReturn(creation_time=None, last_update_time=None, distance=None, certainty=None, score=None, explain_score=None, is_consistent=None, rerank_score=None), properties={'date_from': datetime.datetime(1802, 8, 4, 0, 0, tzinfo=datetime.timezone.utc), 'date_to': datetime.datetime(1802, 8, 4, 0, 0, tzinfo=datetime.timezone.utc), 'recipients': ['National Intelligencer'], 'authors': ['Adams, John'], 'chunk_index': 2, 'doc_index': 61, 'chapter_title': 'From John Adams to National Intelligencer, 4 August 1802', 'chunk': 'From John Adams to National Intelligencer, 4 August 1802\\nThe Change of Administration in this Country was effected by the Federalists themselves: not by any change in favour of Republicanism in the People. <But this is a Subject I would not wish to devellop at present,> nor by any opinion that the new President was more of a Republican than the <old> former one. But this is a Subject that may be develloped hereafter. \\nAre our Court Gazettes then prepared to Say that \"Liberty has vanished from France\" That the first Consul is an Usurper. That \"the French Nation have Submitted every political Right to the mercy of the Sword\" That \"The Republic is Subverted and Monarchy has returned“? This Language is <not likely> as remote from any tendency to preserve the Friendship between this Country and France, as it is from the Truth. The Government of France is at least as Republican, now as it ever has been Since the death of the King, or Since the Subversion of the Monarchy, or indeed Since the meeting of the Assembly of Notables in 1786.—It answers the Ends of Government in preserving personal Liberty, private property, and the Peace, order Tranquility and Happiness of Society, better than any republican Constitution that nation ever has enjoyed, and as well as any it will probably ever have. This mighty transformation has been effected without Violence or Conterition, by the Voice, of the People, by the general Sense, and the public opinions. The People of France are weary of blood, disgusted with murder, and indignant at Rapine. They have Seen and felt, and are at length convinced with an Unamimity, that is very remarkable, that Democracy, without controul, would depopulate And desolate France.'}, references=None, vector={}, collection='Founders', generated=None), GenerativeObject(uuid=_WeaviateUUIDInt('274d7279-a509-4844-8120-1a8f6d4a6193'), metadata=MetadataReturn(creation_time=None, last_update_time=None, distance=None, certainty=None, score=None, explain_score=None, is_consistent=None, rerank_score=None), properties={'date_from': datetime.datetime(1802, 8, 4, 0, 0, tzinfo=datetime.timezone.utc), 'date_to': datetime.datetime(1802, 8, 4, 0, 0, tzinfo=datetime.timezone.utc), 'recipients': ['National Intelligencer'], 'authors': ['Adams, John'], 'chunk_index': 0, 'doc_index': 61, 'chapter_title': 'From John Adams to National Intelligencer, 4 August 1802', 'chunk': 'From John Adams to National Intelligencer, 4 August 1802\\n[post August 4, 1802]\\nIt has been often Said, and as often as denied, that there are Men in this Country attached to Democracy. Simple Democracy: to a Government in every State, of a Single Assembly of Representatives, without a Senate and without a Governor; to a Government of the Nation in a Congress of Delegates in one House without a Senate and without a President. The Charge is Supported by the Declarations of Numbers from Chase’s Rebellion and the Votes of County Conventions, down to the Letter to Mazzei <present time> to the Efforts in the House of Representatives to Sett aside the Treaty with England, and many other Actions and declarations of Individuals to this day. Whether the Writer of the Remarks is capable of comprehending it or not, there is a distinction between an Attachment to Monarchy, and an opinion that it will in Some Nations and at certain periods prevail, and that no human Wisdom or Virtue in Existence can prevent it.—Cato was never Suspected of any Attachment to Monarchy.—His Death was a full proof of two points. 1. that he detested and dreaded Monarchy more than death. 2. that he was fully convinced, that Monarchy in the person of Cæsar, could not be prevented in Rome. Men’s Opinions are not always conformable to their Wishes. Some have Understandings, as well as affections.'}, references=None, vector={}, collection='Founders', generated=None), GenerativeObject(uuid=_WeaviateUUIDInt('959baa7e-4cdb-4d32-9773-7ca7539fedea'), metadata=MetadataReturn(creation_time=None, last_update_time=None, distance=None, certainty=None, score=None, explain_score=None, is_consistent=None, rerank_score=None), properties={'date_from': datetime.datetime(1802, 8, 4, 0, 0, tzinfo=datetime.timezone.utc), 'date_to': datetime.datetime(1802, 8, 4, 0, 0, tzinfo=datetime.timezone.utc), 'recipients': ['National Intelligencer'], 'authors': ['Adams, John'], 'chunk_index': 3, 'doc_index': 61, 'chapter_title': 'From John Adams to National Intelligencer, 4 August 1802', 'chunk': 'From John Adams to National Intelligencer, 4 August 1802\\nThey have Stopped in their career of Enthusiasm and delirium and are restored in Some measure to their right minds. \\nWhat connection there is between the returning reason of the french People and the publication of these Letters, it is not easy to imagine. These Letters are calculated, in every Sentence and every Word of them, to preserve the Constitution of the United States, from deviating into Monarchy on one hand, and Democracy on the other. If the Ballance of our Government was destroyed and the Weights all placed in the democratical Scale, nothing is more certain than that all the Confusions and horrors of France for fifteen or Sixteen Years past must be our Lot, and nothing could relieve Us from them but a Civil War, or a victorious Army: unless the People Should Suddenly recover their Reason and restore the Equilibrium of the Government. These letters were written twelve years ago, from an Apprehension that the contagion of a french delerium, might Seize the Passions of the American People and excite them to destroy their present Constitution, anni[hi]late the President’s Office, the Senate of the United States, <the independe> the Governors and Senates of the individual States, and the independent Judiciaries in all of them. \\nThe publication of these Letters is another affair. They had been long forgotten and would probably have never been again read or Seen by the Writer, had he not been informed, that last Winter, certain Persons in Boston were handing <about one of> them about, Shewing sentences or half sentences and misrepresenting them not only in democratical Clubbs but to Lawye[r]s and Judges during their Terms. This Information alone, occasioned Some old Letter Books to be Searched and these Copies to be published. They contain no sentiments which the Writer ever concealed. He held them in 1776 when his Letter to Mr Wythe was published.'}, references=None, vector={}, collection='Founders', generated=None)]\n"
     ]
    }
   ],
   "source": [
    "# Define the date we want to filter from\n",
    "filter_date = datetime(1800, 1, 1, tzinfo=timezone.utc)\n",
    "\n",
    "founders = client.collections.get(\"Founders\")\n",
    "response = founders.generate.near_text(\n",
    "    query=\"What do people say about war?\",\n",
    "    limit=5,  # Increased limit to potentially get more diverse results\n",
    "    filters=(\n",
    "        Filter.by_property(\"date_from\").greater_than(filter_date) &\n",
    "        Filter.by_property(\"authors\").contains_any([\"Adams, John\"])\n",
    "    )\n",
    ")\n",
    "print(response.objects)"
   ]
  },
  {
   "cell_type": "code",
   "execution_count": null,
   "id": "d1c4e26c",
   "metadata": {},
   "outputs": [],
   "source": []
  }
 ],
 "metadata": {
  "kernelspec": {
   "display_name": "Python 3 (ipykernel)",
   "language": "python",
   "name": "python3"
  },
  "language_info": {
   "codemirror_mode": {
    "name": "ipython",
    "version": 3
   },
   "file_extension": ".py",
   "mimetype": "text/x-python",
   "name": "python",
   "nbconvert_exporter": "python",
   "pygments_lexer": "ipython3",
   "version": "3.10.14"
  },
  "toc": {
   "base_numbering": 1,
   "nav_menu": {},
   "number_sections": true,
   "sideBar": true,
   "skip_h1_title": false,
   "title_cell": "Table of Contents",
   "title_sidebar": "Contents",
   "toc_cell": false,
   "toc_position": {},
   "toc_section_display": true,
   "toc_window_display": true
  }
 },
 "nbformat": 4,
 "nbformat_minor": 5
}
