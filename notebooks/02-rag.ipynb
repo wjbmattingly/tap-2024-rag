{
 "cells": [
  {
   "cell_type": "markdown",
   "id": "3e89c5b3",
   "metadata": {},
   "source": [
    "<img align=\"left\" src=\"https://ithaka-labs.s3.amazonaws.com/static-files/images/tdm/tdmdocs/tapi-logo-small.png\" />\n",
    "\n",
    "This notebook free for educational reuse under [Creative Commons CC BY License](https://creativecommons.org/licenses/by/4.0/).\n",
    "\n",
    "Created by [Firstname Lastname](https://) for the 2024 Text Analysis Pedagogy Institute, with support from [Constellate](https://constellate.org).\n",
    "\n",
    "For questions/comments/improvements, email author@email.address.<br />\n",
    "____"
   ]
  },
  {
   "cell_type": "markdown",
   "id": "68f932d1",
   "metadata": {},
   "source": [
    "# `Introduction to Retrieval Augmented Generation (RAG)` `2`\n",
    "\n",
    "This is lesson `2` of 3 in the educational series on `Introduction to Retrieval Augmented Generation (RAG)`. This notebook is intended `to teach the basic concepts RAG` and how to build a RAG system in Python.\n",
    "\n",
    "**Skills:** \n",
    "* Data analysis\n",
    "* Machine learning\n",
    "* Text analysis\n",
    "* spaCy\n",
    "* Vector databases\n",
    "* Semantic search\n",
    "* Python\n",
    "\n",
    "**Audience:** `Teachers` / `Learners` / `Researchers`\n",
    "\n",
    "**Use case:** `Tutorial` / `How-To` / `Explanation` \n",
    "\n",
    "`Include the use case definition from [here](https://constellate.org/docs/documentation-categories)`\n",
    "\n",
    "**Difficulty:** `Intermediate`\n",
    "\n",
    "`Beginner assumes users are relatively new to Python and Jupyter Notebooks. The user is helped step-by-step with lots of explanatory text.`\n",
    "`Intermediate assumes users are familiar with Python and have been programming for 6+ months. Code makes up a larger part of the notebook and basic concepts related to Python are not explained.`\n",
    "`Advanced assumes users are very familiar with Python and have been programming for years, but they may not be familiar with the process being explained.`\n",
    "\n",
    "**Completion time:** `90 minutes`\n",
    "\n",
    "**Knowledge Required:** \n",
    "```\n",
    "* Python basics (variables, flow control, functions, lists, dictionaries)\n",
    "* Object-oriented programming (classes, instances, inheritance)\n",
    "* Regular Expressions (`re`, character classes)\n",
    "\n",
    "These should be general skills but can mention a particular library\n",
    "```\n",
    "\n",
    "**Knowledge Recommended:**\n",
    "```\n",
    "* Basic file operations (open, close, read, write)\n",
    "```\n",
    "\n",
    "**Learning Objectives:**\n",
    "After this lesson, learners will be able to:\n",
    "```\n",
    "1. Learn about the foundational concepts of how we represent data numerically, specifically textual data.\n",
    "2. Learn about TF-IDF representations of texts.\n",
    "3. Learn about the core concept behind vectors, or embeddings.\n",
    "4. Learn how to vectorize texts with Python.\n",
    "5. Learn about the importance of transformer models\n",
    "```\n",
    "___"
   ]
  },
  {
   "cell_type": "markdown",
   "id": "157c0555",
   "metadata": {},
   "source": [
    "# Required Python Libraries\n",
    "`List out any libraries used and what they are used for`\n",
    "* spaCy for processing texts\n",
    "* numpy for working with arrays\n",
    "* matplotlib for visualizing data\n",
    "* scikit-learn for PCA\n",
    "\n",
    "\n",
    "\n",
    "## Install Required Libraries"
   ]
  },
  {
   "cell_type": "code",
   "execution_count": 5,
   "id": "e8a220f5",
   "metadata": {},
   "outputs": [
    {
     "name": "stdout",
     "output_type": "stream",
     "text": [
      "Collecting weaviate-client\n",
      "  Using cached weaviate_client-4.7.1-py3-none-any.whl.metadata (3.3 kB)\n",
      "Requirement already satisfied: requests<3.0.0,>=2.30.0 in /Applications/anaconda3/envs/tap/lib/python3.10/site-packages (from weaviate-client) (2.32.3)\n",
      "Requirement already satisfied: httpx<=0.27.0,>=0.25.0 in /Applications/anaconda3/envs/tap/lib/python3.10/site-packages (from weaviate-client) (0.27.0)\n",
      "Collecting validators==0.33.0 (from weaviate-client)\n",
      "  Using cached validators-0.33.0-py3-none-any.whl.metadata (3.8 kB)\n",
      "Collecting authlib<2.0.0,>=1.2.1 (from weaviate-client)\n",
      "  Using cached Authlib-1.3.1-py2.py3-none-any.whl.metadata (3.8 kB)\n",
      "Requirement already satisfied: pydantic<3.0.0,>=2.5.0 in /Applications/anaconda3/envs/tap/lib/python3.10/site-packages (from weaviate-client) (2.8.2)\n",
      "Collecting grpcio<2.0.0,>=1.57.0 (from weaviate-client)\n",
      "  Using cached grpcio-1.65.1-cp310-cp310-macosx_12_0_universal2.whl.metadata (3.3 kB)\n",
      "Collecting grpcio-tools<2.0.0,>=1.57.0 (from weaviate-client)\n",
      "  Using cached grpcio_tools-1.65.1-cp310-cp310-macosx_12_0_universal2.whl.metadata (5.3 kB)\n",
      "Collecting grpcio-health-checking<2.0.0,>=1.57.0 (from weaviate-client)\n",
      "  Using cached grpcio_health_checking-1.65.1-py3-none-any.whl.metadata (1.1 kB)\n",
      "Collecting cryptography (from authlib<2.0.0,>=1.2.1->weaviate-client)\n",
      "  Using cached cryptography-43.0.0-cp39-abi3-macosx_10_9_universal2.whl.metadata (5.4 kB)\n",
      "Collecting protobuf<6.0dev,>=5.26.1 (from grpcio-health-checking<2.0.0,>=1.57.0->weaviate-client)\n",
      "  Using cached protobuf-5.27.2-cp38-abi3-macosx_10_9_universal2.whl.metadata (592 bytes)\n",
      "Requirement already satisfied: setuptools in /Applications/anaconda3/envs/tap/lib/python3.10/site-packages (from grpcio-tools<2.0.0,>=1.57.0->weaviate-client) (69.5.1)\n",
      "Requirement already satisfied: anyio in /Applications/anaconda3/envs/tap/lib/python3.10/site-packages (from httpx<=0.27.0,>=0.25.0->weaviate-client) (4.4.0)\n",
      "Requirement already satisfied: certifi in /Applications/anaconda3/envs/tap/lib/python3.10/site-packages (from httpx<=0.27.0,>=0.25.0->weaviate-client) (2024.7.4)\n",
      "Requirement already satisfied: httpcore==1.* in /Applications/anaconda3/envs/tap/lib/python3.10/site-packages (from httpx<=0.27.0,>=0.25.0->weaviate-client) (1.0.5)\n",
      "Requirement already satisfied: idna in /Applications/anaconda3/envs/tap/lib/python3.10/site-packages (from httpx<=0.27.0,>=0.25.0->weaviate-client) (3.7)\n",
      "Requirement already satisfied: sniffio in /Applications/anaconda3/envs/tap/lib/python3.10/site-packages (from httpx<=0.27.0,>=0.25.0->weaviate-client) (1.3.1)\n",
      "Requirement already satisfied: h11<0.15,>=0.13 in /Applications/anaconda3/envs/tap/lib/python3.10/site-packages (from httpcore==1.*->httpx<=0.27.0,>=0.25.0->weaviate-client) (0.14.0)\n",
      "Requirement already satisfied: annotated-types>=0.4.0 in /Applications/anaconda3/envs/tap/lib/python3.10/site-packages (from pydantic<3.0.0,>=2.5.0->weaviate-client) (0.7.0)\n",
      "Requirement already satisfied: pydantic-core==2.20.1 in /Applications/anaconda3/envs/tap/lib/python3.10/site-packages (from pydantic<3.0.0,>=2.5.0->weaviate-client) (2.20.1)\n",
      "Requirement already satisfied: typing-extensions>=4.6.1 in /Applications/anaconda3/envs/tap/lib/python3.10/site-packages (from pydantic<3.0.0,>=2.5.0->weaviate-client) (4.12.2)\n",
      "Requirement already satisfied: charset-normalizer<4,>=2 in /Applications/anaconda3/envs/tap/lib/python3.10/site-packages (from requests<3.0.0,>=2.30.0->weaviate-client) (3.3.2)\n",
      "Requirement already satisfied: urllib3<3,>=1.21.1 in /Applications/anaconda3/envs/tap/lib/python3.10/site-packages (from requests<3.0.0,>=2.30.0->weaviate-client) (2.2.2)\n",
      "Requirement already satisfied: exceptiongroup>=1.0.2 in /Applications/anaconda3/envs/tap/lib/python3.10/site-packages (from anyio->httpx<=0.27.0,>=0.25.0->weaviate-client) (1.2.0)\n",
      "Requirement already satisfied: cffi>=1.12 in /Applications/anaconda3/envs/tap/lib/python3.10/site-packages (from cryptography->authlib<2.0.0,>=1.2.1->weaviate-client) (1.16.0)\n",
      "Requirement already satisfied: pycparser in /Applications/anaconda3/envs/tap/lib/python3.10/site-packages (from cffi>=1.12->cryptography->authlib<2.0.0,>=1.2.1->weaviate-client) (2.22)\n",
      "Using cached weaviate_client-4.7.1-py3-none-any.whl (368 kB)\n",
      "Using cached validators-0.33.0-py3-none-any.whl (43 kB)\n",
      "Using cached Authlib-1.3.1-py2.py3-none-any.whl (223 kB)\n",
      "Using cached grpcio-1.65.1-cp310-cp310-macosx_12_0_universal2.whl (10.4 MB)\n",
      "Using cached grpcio_health_checking-1.65.1-py3-none-any.whl (18 kB)\n",
      "Using cached grpcio_tools-1.65.1-cp310-cp310-macosx_12_0_universal2.whl (5.3 MB)\n",
      "Using cached protobuf-5.27.2-cp38-abi3-macosx_10_9_universal2.whl (412 kB)\n",
      "Using cached cryptography-43.0.0-cp39-abi3-macosx_10_9_universal2.whl (6.2 MB)\n",
      "Installing collected packages: validators, protobuf, grpcio, grpcio-tools, grpcio-health-checking, cryptography, authlib, weaviate-client\n",
      "  Attempting uninstall: protobuf\n",
      "    Found existing installation: protobuf 3.20.2\n",
      "    Uninstalling protobuf-3.20.2:\n",
      "      Successfully uninstalled protobuf-3.20.2\n",
      "\u001b[31mERROR: pip's dependency resolver does not currently take into account all the packages that are installed. This behaviour is the source of the following dependency conflicts.\n",
      "onnxconverter-common 1.14.0 requires protobuf==3.20.2, but you have protobuf 5.27.2 which is incompatible.\u001b[0m\u001b[31m\n",
      "\u001b[0mSuccessfully installed authlib-1.3.1 cryptography-43.0.0 grpcio-1.65.1 grpcio-health-checking-1.65.1 grpcio-tools-1.65.1 protobuf-5.27.2 validators-0.33.0 weaviate-client-4.7.1\n"
     ]
    }
   ],
   "source": [
    "### Install Libraries ###\n",
    "\n",
    "# Using !pip installs\n",
    "!pip install weaviate-client spacy pandas srsly"
   ]
  },
  {
   "cell_type": "markdown",
   "id": "0be3b300",
   "metadata": {},
   "source": [
    "In addition to this, we will be downloading two spaCy models: `en_core_web_md` and `en_core_web_lg`."
   ]
  },
  {
   "cell_type": "code",
   "execution_count": 6,
   "id": "4bfae9fa",
   "metadata": {},
   "outputs": [
    {
     "name": "stdout",
     "output_type": "stream",
     "text": [
      "/Applications/anaconda3/envs/tap/lib/python3.10/site-packages/transformers/utils/generic.py:441: FutureWarning: `torch.utils._pytree._register_pytree_node` is deprecated. Please use `torch.utils._pytree.register_pytree_node` instead.\n",
      "  _torch_pytree._register_pytree_node(\n",
      "Collecting en-core-web-md==3.7.1\n",
      "  Using cached https://github.com/explosion/spacy-models/releases/download/en_core_web_md-3.7.1/en_core_web_md-3.7.1-py3-none-any.whl (42.8 MB)\n",
      "Requirement already satisfied: spacy<3.8.0,>=3.7.2 in /Applications/anaconda3/envs/tap/lib/python3.10/site-packages (from en-core-web-md==3.7.1) (3.7.5)\n",
      "Requirement already satisfied: spacy-legacy<3.1.0,>=3.0.11 in /Applications/anaconda3/envs/tap/lib/python3.10/site-packages (from spacy<3.8.0,>=3.7.2->en-core-web-md==3.7.1) (3.0.12)\n",
      "Requirement already satisfied: spacy-loggers<2.0.0,>=1.0.0 in /Applications/anaconda3/envs/tap/lib/python3.10/site-packages (from spacy<3.8.0,>=3.7.2->en-core-web-md==3.7.1) (1.0.5)\n",
      "Requirement already satisfied: murmurhash<1.1.0,>=0.28.0 in /Applications/anaconda3/envs/tap/lib/python3.10/site-packages (from spacy<3.8.0,>=3.7.2->en-core-web-md==3.7.1) (1.0.10)\n",
      "Requirement already satisfied: cymem<2.1.0,>=2.0.2 in /Applications/anaconda3/envs/tap/lib/python3.10/site-packages (from spacy<3.8.0,>=3.7.2->en-core-web-md==3.7.1) (2.0.8)\n",
      "Requirement already satisfied: preshed<3.1.0,>=3.0.2 in /Applications/anaconda3/envs/tap/lib/python3.10/site-packages (from spacy<3.8.0,>=3.7.2->en-core-web-md==3.7.1) (3.0.9)\n",
      "Requirement already satisfied: thinc<8.3.0,>=8.2.2 in /Applications/anaconda3/envs/tap/lib/python3.10/site-packages (from spacy<3.8.0,>=3.7.2->en-core-web-md==3.7.1) (8.2.5)\n",
      "Requirement already satisfied: wasabi<1.2.0,>=0.9.1 in /Applications/anaconda3/envs/tap/lib/python3.10/site-packages (from spacy<3.8.0,>=3.7.2->en-core-web-md==3.7.1) (1.1.3)\n",
      "Requirement already satisfied: srsly<3.0.0,>=2.4.3 in /Applications/anaconda3/envs/tap/lib/python3.10/site-packages (from spacy<3.8.0,>=3.7.2->en-core-web-md==3.7.1) (2.4.8)\n",
      "Requirement already satisfied: catalogue<2.1.0,>=2.0.6 in /Applications/anaconda3/envs/tap/lib/python3.10/site-packages (from spacy<3.8.0,>=3.7.2->en-core-web-md==3.7.1) (2.0.10)\n",
      "Requirement already satisfied: weasel<0.5.0,>=0.1.0 in /Applications/anaconda3/envs/tap/lib/python3.10/site-packages (from spacy<3.8.0,>=3.7.2->en-core-web-md==3.7.1) (0.4.1)\n",
      "Requirement already satisfied: typer<1.0.0,>=0.3.0 in /Applications/anaconda3/envs/tap/lib/python3.10/site-packages (from spacy<3.8.0,>=3.7.2->en-core-web-md==3.7.1) (0.12.3)\n",
      "Requirement already satisfied: tqdm<5.0.0,>=4.38.0 in /Applications/anaconda3/envs/tap/lib/python3.10/site-packages (from spacy<3.8.0,>=3.7.2->en-core-web-md==3.7.1) (4.66.4)\n",
      "Requirement already satisfied: requests<3.0.0,>=2.13.0 in /Applications/anaconda3/envs/tap/lib/python3.10/site-packages (from spacy<3.8.0,>=3.7.2->en-core-web-md==3.7.1) (2.32.3)\n",
      "Requirement already satisfied: pydantic!=1.8,!=1.8.1,<3.0.0,>=1.7.4 in /Applications/anaconda3/envs/tap/lib/python3.10/site-packages (from spacy<3.8.0,>=3.7.2->en-core-web-md==3.7.1) (2.8.2)\n",
      "Requirement already satisfied: jinja2 in /Applications/anaconda3/envs/tap/lib/python3.10/site-packages (from spacy<3.8.0,>=3.7.2->en-core-web-md==3.7.1) (3.1.4)\n",
      "Requirement already satisfied: setuptools in /Applications/anaconda3/envs/tap/lib/python3.10/site-packages (from spacy<3.8.0,>=3.7.2->en-core-web-md==3.7.1) (69.5.1)\n",
      "Requirement already satisfied: packaging>=20.0 in /Applications/anaconda3/envs/tap/lib/python3.10/site-packages (from spacy<3.8.0,>=3.7.2->en-core-web-md==3.7.1) (24.1)\n",
      "Requirement already satisfied: langcodes<4.0.0,>=3.2.0 in /Applications/anaconda3/envs/tap/lib/python3.10/site-packages (from spacy<3.8.0,>=3.7.2->en-core-web-md==3.7.1) (3.4.0)\n",
      "Requirement already satisfied: numpy>=1.19.0 in /Applications/anaconda3/envs/tap/lib/python3.10/site-packages (from spacy<3.8.0,>=3.7.2->en-core-web-md==3.7.1) (1.26.4)\n",
      "Requirement already satisfied: language-data>=1.2 in /Applications/anaconda3/envs/tap/lib/python3.10/site-packages (from langcodes<4.0.0,>=3.2.0->spacy<3.8.0,>=3.7.2->en-core-web-md==3.7.1) (1.2.0)\n",
      "Requirement already satisfied: annotated-types>=0.4.0 in /Applications/anaconda3/envs/tap/lib/python3.10/site-packages (from pydantic!=1.8,!=1.8.1,<3.0.0,>=1.7.4->spacy<3.8.0,>=3.7.2->en-core-web-md==3.7.1) (0.7.0)\n",
      "Requirement already satisfied: pydantic-core==2.20.1 in /Applications/anaconda3/envs/tap/lib/python3.10/site-packages (from pydantic!=1.8,!=1.8.1,<3.0.0,>=1.7.4->spacy<3.8.0,>=3.7.2->en-core-web-md==3.7.1) (2.20.1)\n",
      "Requirement already satisfied: typing-extensions>=4.6.1 in /Applications/anaconda3/envs/tap/lib/python3.10/site-packages (from pydantic!=1.8,!=1.8.1,<3.0.0,>=1.7.4->spacy<3.8.0,>=3.7.2->en-core-web-md==3.7.1) (4.12.2)\n",
      "Requirement already satisfied: charset-normalizer<4,>=2 in /Applications/anaconda3/envs/tap/lib/python3.10/site-packages (from requests<3.0.0,>=2.13.0->spacy<3.8.0,>=3.7.2->en-core-web-md==3.7.1) (3.3.2)\n",
      "Requirement already satisfied: idna<4,>=2.5 in /Applications/anaconda3/envs/tap/lib/python3.10/site-packages (from requests<3.0.0,>=2.13.0->spacy<3.8.0,>=3.7.2->en-core-web-md==3.7.1) (3.7)\n",
      "Requirement already satisfied: urllib3<3,>=1.21.1 in /Applications/anaconda3/envs/tap/lib/python3.10/site-packages (from requests<3.0.0,>=2.13.0->spacy<3.8.0,>=3.7.2->en-core-web-md==3.7.1) (2.2.2)\n",
      "Requirement already satisfied: certifi>=2017.4.17 in /Applications/anaconda3/envs/tap/lib/python3.10/site-packages (from requests<3.0.0,>=2.13.0->spacy<3.8.0,>=3.7.2->en-core-web-md==3.7.1) (2024.7.4)\n",
      "Requirement already satisfied: blis<0.8.0,>=0.7.8 in /Applications/anaconda3/envs/tap/lib/python3.10/site-packages (from thinc<8.3.0,>=8.2.2->spacy<3.8.0,>=3.7.2->en-core-web-md==3.7.1) (0.7.11)\n",
      "Requirement already satisfied: confection<1.0.0,>=0.0.1 in /Applications/anaconda3/envs/tap/lib/python3.10/site-packages (from thinc<8.3.0,>=8.2.2->spacy<3.8.0,>=3.7.2->en-core-web-md==3.7.1) (0.1.5)\n",
      "Requirement already satisfied: click>=8.0.0 in /Applications/anaconda3/envs/tap/lib/python3.10/site-packages (from typer<1.0.0,>=0.3.0->spacy<3.8.0,>=3.7.2->en-core-web-md==3.7.1) (8.1.7)\n",
      "Requirement already satisfied: shellingham>=1.3.0 in /Applications/anaconda3/envs/tap/lib/python3.10/site-packages (from typer<1.0.0,>=0.3.0->spacy<3.8.0,>=3.7.2->en-core-web-md==3.7.1) (1.5.4)\n",
      "Requirement already satisfied: rich>=10.11.0 in /Applications/anaconda3/envs/tap/lib/python3.10/site-packages (from typer<1.0.0,>=0.3.0->spacy<3.8.0,>=3.7.2->en-core-web-md==3.7.1) (13.7.1)\n",
      "Requirement already satisfied: cloudpathlib<1.0.0,>=0.7.0 in /Applications/anaconda3/envs/tap/lib/python3.10/site-packages (from weasel<0.5.0,>=0.1.0->spacy<3.8.0,>=3.7.2->en-core-web-md==3.7.1) (0.18.1)\n",
      "Requirement already satisfied: smart-open<8.0.0,>=5.2.1 in /Applications/anaconda3/envs/tap/lib/python3.10/site-packages (from weasel<0.5.0,>=0.1.0->spacy<3.8.0,>=3.7.2->en-core-web-md==3.7.1) (7.0.4)\n",
      "Requirement already satisfied: MarkupSafe>=2.0 in /Applications/anaconda3/envs/tap/lib/python3.10/site-packages (from jinja2->spacy<3.8.0,>=3.7.2->en-core-web-md==3.7.1) (2.1.5)\n",
      "Requirement already satisfied: marisa-trie>=0.7.7 in /Applications/anaconda3/envs/tap/lib/python3.10/site-packages (from language-data>=1.2->langcodes<4.0.0,>=3.2.0->spacy<3.8.0,>=3.7.2->en-core-web-md==3.7.1) (1.2.0)\n",
      "Requirement already satisfied: markdown-it-py>=2.2.0 in /Applications/anaconda3/envs/tap/lib/python3.10/site-packages (from rich>=10.11.0->typer<1.0.0,>=0.3.0->spacy<3.8.0,>=3.7.2->en-core-web-md==3.7.1) (3.0.0)\n",
      "Requirement already satisfied: pygments<3.0.0,>=2.13.0 in /Applications/anaconda3/envs/tap/lib/python3.10/site-packages (from rich>=10.11.0->typer<1.0.0,>=0.3.0->spacy<3.8.0,>=3.7.2->en-core-web-md==3.7.1) (2.18.0)\n",
      "Requirement already satisfied: wrapt in /Applications/anaconda3/envs/tap/lib/python3.10/site-packages (from smart-open<8.0.0,>=5.2.1->weasel<0.5.0,>=0.1.0->spacy<3.8.0,>=3.7.2->en-core-web-md==3.7.1) (1.16.0)\n",
      "Requirement already satisfied: mdurl~=0.1 in /Applications/anaconda3/envs/tap/lib/python3.10/site-packages (from markdown-it-py>=2.2.0->rich>=10.11.0->typer<1.0.0,>=0.3.0->spacy<3.8.0,>=3.7.2->en-core-web-md==3.7.1) (0.1.2)\n",
      "\u001b[38;5;2m✔ Download and installation successful\u001b[0m\n",
      "You can now load the package via spacy.load('en_core_web_md')\n"
     ]
    }
   ],
   "source": [
    "!python -m spacy download en_core_web_sm"
   ]
  },
  {
   "cell_type": "code",
   "execution_count": 2,
   "id": "e839de11",
   "metadata": {},
   "outputs": [],
   "source": [
    "import os\n",
    "\n",
    "os.environ[\"OPENAI_API_KEY\"] = \"\""
   ]
  },
  {
   "cell_type": "code",
   "execution_count": 56,
   "id": "5480e2a8",
   "metadata": {},
   "outputs": [],
   "source": [
    "### Import Libraries ###\n",
    "import spacy\n",
    "import srsly\n",
    "from weaviate.classes.init import Auth\n",
    "import weaviate.classes as wvc\n",
    "import weaviate\n",
    "\n",
    "import pandas as pd"
   ]
  },
  {
   "cell_type": "markdown",
   "id": "f53edaa2",
   "metadata": {},
   "source": [
    "# Introduction\n",
    "\n",
    "In this notebook, we will learn about RAG specifically. We will learn how the technologies of LLMs and Vector Databases can be brought together to build a RAG system. We will also learn how to build a naive RAG system in Python."
   ]
  },
  {
   "cell_type": "markdown",
   "id": "e24a8b0e",
   "metadata": {},
   "source": [
    "# Retrieval Augmented Generation\n",
    "\n",
    "Retrieval augmented generation (RAG) brings together vector databases and LLMs to leverage the strength of each while, in theory, helping mitigate their weaknesses. Let's learn  a bit about how this technology works.\n",
    "\n",
    "## How does RAG Work?\n",
    "\n",
    "Behind RAG sits a vector database. This is used to store knowledge that can be used to generate better responses from a LLM. When a user queries a vector database with RAG, they don't explicitly perform semantic search, as you normally would with a vector database. Instead, they frame a natural question, just like they would with an LLM. A RAG application then goes into the vector database and finds the sources that most align with the specific query. The RAG system then gathers this material and provides it to an LLM along with the user's initial question. These retrieved documents frame the context for guiding the LLM to generate a more precise and specific response.\n",
    "\n",
    "The RAG system then receives the output from the LLM and provides the response to the user. Because the LLM's response is rooted in context explicitly provided to it, the RAG system knows the original source material that frame the response. This means that the RAG system can help the user validate the response from the LLM by providing the user the specific sections of each document that was used to provide a better response.\n",
    "\n",
    "\n",
    "## Strengths of RAG\n",
    "\n",
    "The key strength of a RAG system is the ability to provide LLMs with a new knowledge base. This is often knowledge that they were not trained on or knowledge that was out-of-scope.\n",
    "\n",
    "In addition to this, a RAG system can limit the chance for hallucinations. By providing explicitly the context needed to answer a user's question, the LLM's chances of hallucinating are diminished. It is important to note, though, that they are not removed.\n",
    "\n",
    "Finally, a RAG system allows a user to understand specifically *why* an LLM generates a response by providing the user with the original source material used to frame the response. Thus, a user not only gets a response from an LLM, they also can navigate the original data and find relevant material more easily.\n",
    "\n",
    "## Weaknesses of RAG\n",
    "\n",
    "While RAG systems seem like the perfect answer to the limitations of LLMs, they must be used cautiously. RAG is still a fairly new technology and current research suggests that the chances for hallucinations have not entirely disappeared. Even if a user has access to the original source material, what if they opt to not view it? If a hallucination is generated by an LLM on your system and you function as an authority, does that make the LLM's response an authority? These are the questions that make it challenging to put RAG systems into production, especially when working with cultural heritage data.\n",
    "\n",
    "\n"
   ]
  },
  {
   "cell_type": "markdown",
   "id": "1c3dbb1c",
   "metadata": {},
   "source": [
    "# Loading the Data\n",
    "\n",
    "To create a vector database, you must start with data. We will be working with data from [Founders Online](https://founders.archives.gov/). This data is available in the `../data/processed/` folder. I have provided us with a sample of 10, 100, and 1,000. For this notebook, we will be working with a sample of 1,000. It is important to note that I have seeded the random sample. This means that the data you work with each time will be the same. To get different data, change the seed of the script, located in `./src/data/` called `download_data.py`.\n",
    "\n",
    "This data is a collection of writings of the Founders. The data is useful for doing social network analysis as many of the writings are letters. It's also useful for mapping writings across time and space as many of the writings are dated and contain information about specific locations. For our purposes, however, we will be working with the main content of the letters to create a vector database. \n",
    "\n",
    "To get started, let's load the data. We will be using `srsly`. I'm including this in this tutorial as a way to introduce students to the library. You can also use the standard `json` package here. `srsly` has a few advantages, namely it loads the data as a generator. This is useful when you start working with larger datasets (as you typically do with vector databases) because the entire dataset is not loaded into memory at once. Because of this, though, we want to convert it to a list just to make it a bit easier to use for our purposes, so when loading the data, we convert it to a list with the `list()` function.\n"
   ]
  },
  {
   "cell_type": "code",
   "execution_count": 15,
   "id": "d9a9a320",
   "metadata": {},
   "outputs": [],
   "source": [
    "data = list(srsly.read_json(\"../data/processed/sample_1000_42.json\"))"
   ]
  },
  {
   "cell_type": "markdown",
   "id": "c6daa93a",
   "metadata": {},
   "source": [
    "Now that we have loaded up our data, let's take a brief look at it by examining the first index."
   ]
  },
  {
   "cell_type": "code",
   "execution_count": 16,
   "id": "ed1f6895",
   "metadata": {},
   "outputs": [
    {
     "data": {
      "text/plain": [
       "{'title': 'Thomas Jefferson to Joseph Milligan, 22 December 1815',\n",
       " 'permalink': 'https://founders.archives.gov/documents/Jefferson/03-09-02-0174',\n",
       " 'project': 'Jefferson Papers',\n",
       " 'authors': ['Jefferson, Thomas'],\n",
       " 'recipients': ['Milligan, Joseph'],\n",
       " 'date-from': '1815-12-22',\n",
       " 'date-to': '1815-12-22',\n",
       " 'content': 'Monticello Dec. 22. 15.\\nDear Sir\\nOn my return here from Bedford a few days ago, I found the Hutton and Requisite tables, bound to my mind. by this mail I send you an Ovid’s metamorphoses almost entirely worne out & defaced, yet of sovaluable and rareaneditionthat I wish you to put it into as good a state of repair as it is susceptible of. by the next mail I will forward a Cornelius Nepos to be bound. be so good as to procure and forward to me by stage the underwritten books.I salute you with friendship & esteem\\nTh: Jefferson\\nAinsworth’sLat. & Eng. dict. abridged. to be bound[. . .]\\nthe Lat. & Eng in one, & the Eng. & Lat.[. . .]\\nOvid’s metamorphoses. the Delphin edn in 8vo\\nCornelius Nepos. the Delphin edn if to be had; if not some other good one.\\nVirgil. the Delphin edn lately printed in Phil. with English notes.\\nMair’s Tyro’s dictionary.\\nI observe a mrRichardsonadvertises in the National Intelligencer the Scientific dialogues: if the edition be compleat comprehending theChemical part, I should be glad to have it'}"
      ]
     },
     "execution_count": 16,
     "metadata": {},
     "output_type": "execute_result"
    }
   ],
   "source": [
    "data[0]"
   ]
  },
  {
   "cell_type": "markdown",
   "id": "a3313958",
   "metadata": {},
   "source": [
    "Notice that we have some important metadata here including the title, permalink (link to the website where this particular entry appears), project, authors, recipients, date-from, date-to, and content. Everything here is as presented in the original metadata.json file with the exception of `content`. I have added this after pulling the data from the website. We will learn about how we can make these extra attributes more useful in the next notebook. For now, let's focus on the `content` attribute.\n",
    "\n",
    "This gives us a better sense of this letter. As we can see this is a raw-string representation of the data. The odd formatting is due to how the data is rendered on the main page, likely to capture the structure of the original document. If you want to verify what the original document looks like, use the link below. Here is what it looks like as of the writing of this notebook.\n",
    "\n",
    "<img src=\"../assets/founders.png\" alt=\"Founders image\" style=\"max-height: 500px; width: auto;\">\n",
    "\n",
    "Let's load the data into a Pandas DataFrame so that it will be a bit easier to analyze."
   ]
  },
  {
   "cell_type": "code",
   "execution_count": 17,
   "id": "9b592df5",
   "metadata": {},
   "outputs": [
    {
     "data": {
      "text/html": [
       "<div>\n",
       "<style scoped>\n",
       "    .dataframe tbody tr th:only-of-type {\n",
       "        vertical-align: middle;\n",
       "    }\n",
       "\n",
       "    .dataframe tbody tr th {\n",
       "        vertical-align: top;\n",
       "    }\n",
       "\n",
       "    .dataframe thead th {\n",
       "        text-align: right;\n",
       "    }\n",
       "</style>\n",
       "<table border=\"1\" class=\"dataframe\">\n",
       "  <thead>\n",
       "    <tr style=\"text-align: right;\">\n",
       "      <th></th>\n",
       "      <th>title</th>\n",
       "      <th>permalink</th>\n",
       "      <th>project</th>\n",
       "      <th>authors</th>\n",
       "      <th>recipients</th>\n",
       "      <th>date-from</th>\n",
       "      <th>date-to</th>\n",
       "      <th>content</th>\n",
       "    </tr>\n",
       "  </thead>\n",
       "  <tbody>\n",
       "    <tr>\n",
       "      <th>0</th>\n",
       "      <td>Thomas Jefferson to Joseph Milligan, 22 Decemb...</td>\n",
       "      <td>https://founders.archives.gov/documents/Jeffer...</td>\n",
       "      <td>Jefferson Papers</td>\n",
       "      <td>[Jefferson, Thomas]</td>\n",
       "      <td>[Milligan, Joseph]</td>\n",
       "      <td>1815-12-22</td>\n",
       "      <td>1815-12-22</td>\n",
       "      <td>Monticello Dec. 22. 15.\\nDear Sir\\nOn my retur...</td>\n",
       "    </tr>\n",
       "    <tr>\n",
       "      <th>1</th>\n",
       "      <td>To Alexander Hamilton from James McHenry, 3 Ma...</td>\n",
       "      <td>https://founders.archives.gov/documents/Hamilt...</td>\n",
       "      <td>Hamilton Papers</td>\n",
       "      <td>[McHenry, James]</td>\n",
       "      <td>[Hamilton, Alexander]</td>\n",
       "      <td>1791-05-03</td>\n",
       "      <td>1791-05-03</td>\n",
       "      <td>[Baltimore] 3 May 1791.\\nMy dear Sir.\\nI did n...</td>\n",
       "    </tr>\n",
       "    <tr>\n",
       "      <th>2</th>\n",
       "      <td>John Adams to John Quincy Adams and Thomas Boy...</td>\n",
       "      <td>https://founders.archives.gov/documents/Adams/...</td>\n",
       "      <td>Adams Papers</td>\n",
       "      <td>[Adams, John]</td>\n",
       "      <td>[Adams, John Quincy, Adams, Thomas Boylston]</td>\n",
       "      <td>1794-09-14</td>\n",
       "      <td>1794-09-14</td>\n",
       "      <td>Quincy Septr.14. 1794\\nMy dear Sons\\nI once mo...</td>\n",
       "    </tr>\n",
       "    <tr>\n",
       "      <th>3</th>\n",
       "      <td>From George Washington to Major General Horati...</td>\n",
       "      <td>https://founders.archives.gov/documents/Washin...</td>\n",
       "      <td>Washington Papers</td>\n",
       "      <td>[Washington, George]</td>\n",
       "      <td>[Gates, Horatio]</td>\n",
       "      <td>1776-12-23</td>\n",
       "      <td>1776-12-23</td>\n",
       "      <td>Head Quarters [Bucks County, Pa.] 23d Decr 177...</td>\n",
       "    </tr>\n",
       "    <tr>\n",
       "      <th>4</th>\n",
       "      <td>[Diary entry: 5 July 1795]</td>\n",
       "      <td>https://founders.archives.gov/documents/Washin...</td>\n",
       "      <td>Washington Papers</td>\n",
       "      <td>[Washington, George]</td>\n",
       "      <td>[]</td>\n",
       "      <td>1795-07-05</td>\n",
       "      <td>1795-07-05</td>\n",
       "      <td>Could not find the main content</td>\n",
       "    </tr>\n",
       "    <tr>\n",
       "      <th>...</th>\n",
       "      <td>...</td>\n",
       "      <td>...</td>\n",
       "      <td>...</td>\n",
       "      <td>...</td>\n",
       "      <td>...</td>\n",
       "      <td>...</td>\n",
       "      <td>...</td>\n",
       "      <td>...</td>\n",
       "    </tr>\n",
       "    <tr>\n",
       "      <th>995</th>\n",
       "      <td>From John Adams to Boston Patriot, 4 November ...</td>\n",
       "      <td>https://founders.archives.gov/documents/Adams/...</td>\n",
       "      <td>Adams Papers</td>\n",
       "      <td>[Adams, John]</td>\n",
       "      <td>[Boston Patriot]</td>\n",
       "      <td>1809-11-04</td>\n",
       "      <td>1809-11-04</td>\n",
       "      <td>Quincy, November 4, 1809.\\nSirs,\\nIn my last l...</td>\n",
       "    </tr>\n",
       "    <tr>\n",
       "      <th>996</th>\n",
       "      <td>From John Adams to United States Senate, 14 Ma...</td>\n",
       "      <td>https://founders.archives.gov/documents/Adams/...</td>\n",
       "      <td>Adams Papers</td>\n",
       "      <td>[Adams, John]</td>\n",
       "      <td>[United States Senate]</td>\n",
       "      <td>1798-03-14</td>\n",
       "      <td>1798-03-14</td>\n",
       "      <td>United States March 14th 1798:\\nGentlemen of t...</td>\n",
       "    </tr>\n",
       "    <tr>\n",
       "      <th>997</th>\n",
       "      <td>To Benjamin Franklin from William Henly, [Apri...</td>\n",
       "      <td>https://founders.archives.gov/documents/Frankl...</td>\n",
       "      <td>Franklin Papers</td>\n",
       "      <td>[Henly, William]</td>\n",
       "      <td>[Franklin, Benjamin]</td>\n",
       "      <td>1772-04-01</td>\n",
       "      <td>1772-04-30</td>\n",
       "      <td>Sunday Eve. [April?, 1772]\\nDear Sir:\\nI have ...</td>\n",
       "    </tr>\n",
       "    <tr>\n",
       "      <th>998</th>\n",
       "      <td>From George Washington to Major General Alexan...</td>\n",
       "      <td>https://founders.archives.gov/documents/Washin...</td>\n",
       "      <td>Washington Papers</td>\n",
       "      <td>[Washington, George]</td>\n",
       "      <td>[McDougall, Alexander]</td>\n",
       "      <td>1779-05-20</td>\n",
       "      <td>1779-05-20</td>\n",
       "      <td>Head Quarters Middle Brook May 20th 1779\\nDr S...</td>\n",
       "    </tr>\n",
       "    <tr>\n",
       "      <th>999</th>\n",
       "      <td>From Thomas Jefferson to João, Prince Regent o...</td>\n",
       "      <td>https://founders.archives.gov/documents/Jeffer...</td>\n",
       "      <td>Jefferson Papers</td>\n",
       "      <td>[Jefferson, Thomas]</td>\n",
       "      <td>[João, Prince Regent of Portugal]</td>\n",
       "      <td>1801-10-12</td>\n",
       "      <td>1801-10-12</td>\n",
       "      <td>To our Great and Good Friend, His Royal Highne...</td>\n",
       "    </tr>\n",
       "  </tbody>\n",
       "</table>\n",
       "<p>1000 rows × 8 columns</p>\n",
       "</div>"
      ],
      "text/plain": [
       "                                                 title  \\\n",
       "0    Thomas Jefferson to Joseph Milligan, 22 Decemb...   \n",
       "1    To Alexander Hamilton from James McHenry, 3 Ma...   \n",
       "2    John Adams to John Quincy Adams and Thomas Boy...   \n",
       "3    From George Washington to Major General Horati...   \n",
       "4                           [Diary entry: 5 July 1795]   \n",
       "..                                                 ...   \n",
       "995  From John Adams to Boston Patriot, 4 November ...   \n",
       "996  From John Adams to United States Senate, 14 Ma...   \n",
       "997  To Benjamin Franklin from William Henly, [Apri...   \n",
       "998  From George Washington to Major General Alexan...   \n",
       "999  From Thomas Jefferson to João, Prince Regent o...   \n",
       "\n",
       "                                             permalink            project  \\\n",
       "0    https://founders.archives.gov/documents/Jeffer...   Jefferson Papers   \n",
       "1    https://founders.archives.gov/documents/Hamilt...    Hamilton Papers   \n",
       "2    https://founders.archives.gov/documents/Adams/...       Adams Papers   \n",
       "3    https://founders.archives.gov/documents/Washin...  Washington Papers   \n",
       "4    https://founders.archives.gov/documents/Washin...  Washington Papers   \n",
       "..                                                 ...                ...   \n",
       "995  https://founders.archives.gov/documents/Adams/...       Adams Papers   \n",
       "996  https://founders.archives.gov/documents/Adams/...       Adams Papers   \n",
       "997  https://founders.archives.gov/documents/Frankl...    Franklin Papers   \n",
       "998  https://founders.archives.gov/documents/Washin...  Washington Papers   \n",
       "999  https://founders.archives.gov/documents/Jeffer...   Jefferson Papers   \n",
       "\n",
       "                  authors                                    recipients  \\\n",
       "0     [Jefferson, Thomas]                            [Milligan, Joseph]   \n",
       "1        [McHenry, James]                         [Hamilton, Alexander]   \n",
       "2           [Adams, John]  [Adams, John Quincy, Adams, Thomas Boylston]   \n",
       "3    [Washington, George]                              [Gates, Horatio]   \n",
       "4    [Washington, George]                                            []   \n",
       "..                    ...                                           ...   \n",
       "995         [Adams, John]                              [Boston Patriot]   \n",
       "996         [Adams, John]                        [United States Senate]   \n",
       "997      [Henly, William]                          [Franklin, Benjamin]   \n",
       "998  [Washington, George]                        [McDougall, Alexander]   \n",
       "999   [Jefferson, Thomas]             [João, Prince Regent of Portugal]   \n",
       "\n",
       "      date-from     date-to                                            content  \n",
       "0    1815-12-22  1815-12-22  Monticello Dec. 22. 15.\\nDear Sir\\nOn my retur...  \n",
       "1    1791-05-03  1791-05-03  [Baltimore] 3 May 1791.\\nMy dear Sir.\\nI did n...  \n",
       "2    1794-09-14  1794-09-14  Quincy Septr.14. 1794\\nMy dear Sons\\nI once mo...  \n",
       "3    1776-12-23  1776-12-23  Head Quarters [Bucks County, Pa.] 23d Decr 177...  \n",
       "4    1795-07-05  1795-07-05                    Could not find the main content  \n",
       "..          ...         ...                                                ...  \n",
       "995  1809-11-04  1809-11-04  Quincy, November 4, 1809.\\nSirs,\\nIn my last l...  \n",
       "996  1798-03-14  1798-03-14  United States March 14th 1798:\\nGentlemen of t...  \n",
       "997  1772-04-01  1772-04-30  Sunday Eve. [April?, 1772]\\nDear Sir:\\nI have ...  \n",
       "998  1779-05-20  1779-05-20  Head Quarters Middle Brook May 20th 1779\\nDr S...  \n",
       "999  1801-10-12  1801-10-12  To our Great and Good Friend, His Royal Highne...  \n",
       "\n",
       "[1000 rows x 8 columns]"
      ]
     },
     "execution_count": 17,
     "metadata": {},
     "output_type": "execute_result"
    }
   ],
   "source": [
    "df = pd.DataFrame(data)\n",
    "df"
   ]
  },
  {
   "cell_type": "markdown",
   "id": "9a8f6d62",
   "metadata": {},
   "source": [
    "# Importance of Metadata\n",
    "\n",
    "Metadata for documents function like features for each document. They allow us an entry point to access it. In other words, metadata makes a piece of data more discoverable. Think of a library. Books have metadata which has been carefully cultivated by librarians. This metadata has numerous features. Consider the example below.\n",
    "\n",
    "| Title | Author | ISBN | Publication Year | Genre |\n",
    "|-------|--------|------|------------------|-------|\n",
    "| To Kill a Mockingbird | Harper Lee | 978-0446310789 | 1960 | Classic Fiction |\n",
    "| 1984 | George Orwell | 978-0451524935 | 1949 | Dystopian Fiction |\n",
    "| The Great Gatsby | F. Scott Fitzgerald | 978-0743273565 | 1925 | Literary Fiction |\n",
    "| Pride and Prejudice | Jane Austen | 978-0141439518 | 1813 | Romance |\n",
    "| The Catcher in the Rye | J.D. Salinger | 978-0316769174 | 1951 | Coming-of-age Fiction |\n",
    "| The Hobbit | J.R.R. Tolkien | 978-0547928227 | 1937 | Fantasy |\n",
    "| The Da Vinci Code | Dan Brown | 978-0307474278 | 2003 | Thriller |\n",
    "| The Hunger Games | Suzanne Collins | 978-0439023528 | 2008 | Young Adult Dystopian |\n",
    "| The Girl with the Dragon Tattoo | Stieg Larsson | 978-0307454546 | 2005 | Crime Fiction |\n",
    "| The Alchemist | Paulo Coelho | 978-0062315007 | 1988 | Philosophical Fiction |\n",
    "\n",
    "In this example, we have very important metadata that make each book more accessible to users of a library catalog. We have author, ISBN, Publication Year, and Genre. Imagine a user wanted to only find Classic Fiction written before 1970, they could filter this data by those features and return the necessary results.\n",
    "\n",
    "In this notebook and the following one, we will learn the role of metadata in vector databases and RAG systems so that we can retrieve relevant material both by query and by filters."
   ]
  },
  {
   "cell_type": "markdown",
   "id": "9e5be6d2",
   "metadata": {},
   "source": [
    "# Chunking Data\n",
    "\n",
    "Before we can begin creating a RAG system, though, we need to manipulate our data. One of the key issues with LLMs is that they have a limited context window, or quantity of tokens (think of these as words for now) that they can ingest. The context window is filled by both the input text and the output from the LLM. This means that we cannot simply give smaller LLMs an entire book and be able to get a specific output. In order to resolve this issue, we often need to chunk our data.\n",
    "\n",
    "Chunking is when we take an input text and turn it into a sequence of smaller components. When chunking, we have a lot of methods to choose from.\n",
    "\n",
    "## Character-Based Chunking\n",
    "\n",
    "Character-based chunking involves splitting the text into chunks based on a fixed number of characters. This method is simple but can be problematic as it may split words or sentences in unnatural places.\n",
    "\n",
    "Pros:\n",
    "- Simple to implement\n",
    "- Consistent chunk sizes\n",
    "\n",
    "Cons:\n",
    "- May split words or sentences inappropriately\n",
    "- Doesn't consider semantic meaning\n",
    "\n",
    "Example:\n",
    "```python\n",
    "def character_chunk(text, chunk_size=1000):\n",
    "    return [text[i:i+chunk_size] for i in range(0, len(text), chunk_size)]\n",
    "```\n",
    "\n",
    "## Whitespace-Based Chunking\n",
    "\n",
    "Whitespace-based chunking splits text at whitespace characters (spaces, tabs, newlines) to create chunks. This method preserves whole words but may result in varying chunk sizes.\n",
    "\n",
    "Pros:\n",
    "- Preserves whole words\n",
    "- Simple to implement\n",
    "\n",
    "Cons:\n",
    "- Can result in inconsistent chunk sizes\n",
    "- May split sentences or paragraphs\n",
    "\n",
    "Example:\n",
    "```python\n",
    "def whitespace_chunk(text, max_words=200):\n",
    "    words = text.split()\n",
    "    return [' '.join(words[i:i+max_words]) for i in range(0, len(words), max_words)]\n",
    "```\n",
    "\n",
    "## Token-Based Chunking\n",
    "\n",
    "Token-based chunking uses a tokenizer to split text into tokens (which can be words, subwords, or characters depending on the tokenizer) and then groups these tokens into chunks of a specified size.\n",
    "\n",
    "Pros:\n",
    "- Aligns well with LLM token limits\n",
    "- Can be more precise than character or whitespace chunking\n",
    "\n",
    "Cons:\n",
    "- Requires a tokenizer\n",
    "- May still split sentences inappropriately\n",
    "\n",
    "Example:\n",
    "```python\n",
    "from transformers import AutoTokenizer\n",
    "\n",
    "def token_chunk(text, max_tokens=512):\n",
    "    tokenizer = AutoTokenizer.from_pretrained(\"gpt2\")\n",
    "    tokens = tokenizer.encode(text)\n",
    "    return [tokenizer.decode(tokens[i:i+max_tokens]) for i in range(0, len(tokens), max_tokens)]\n",
    "```\n",
    "\n",
    "## Sentence-Based Chunking\n",
    "\n",
    "Sentence-based chunking splits text into individual sentences and then groups these sentences into chunks. This method preserves sentence integrity but may result in varying chunk sizes.\n",
    "\n",
    "Pros:\n",
    "- Preserves sentence meaning\n",
    "- More semantically coherent chunks\n",
    "\n",
    "Cons:\n",
    "- Can result in inconsistent chunk sizes\n",
    "- Requires sentence tokenization\n",
    "\n",
    "Example (using spaCy):\n",
    "```python\n",
    "import spacy\n",
    "\n",
    "def sentence_chunk(text, max_sentences=10):\n",
    "    nlp = spacy.load(\"en_core_web_sm\")\n",
    "    doc = nlp(text)\n",
    "    sentences = [sent.text for sent in doc.sents]\n",
    "    return [' '.join(sentences[i:i+max_sentences]) for i in range(0, len(sentences), max_sentences)]\n",
    "```\n",
    "\n",
    "## Paragraph-Based Chunking\n",
    "\n",
    "Paragraph-based chunking splits text into paragraphs and then groups these paragraphs into chunks. This method preserves paragraph integrity and is useful for maintaining context.\n",
    "\n",
    "Pros:\n",
    "- Preserves paragraph context\n",
    "- Often aligns with natural text structure\n",
    "\n",
    "Cons:\n",
    "- Can result in very inconsistent chunk sizes\n",
    "- May produce overly large chunks for long paragraphs\n",
    "\n",
    "Example:\n",
    "```python\n",
    "def paragraph_chunk(text, max_paragraphs=5):\n",
    "    paragraphs = text.split('\\n\\n')\n",
    "    return ['\\n\\n'.join(paragraphs[i:i+max_paragraphs]) for i in range(0, len(paragraphs), max_paragraphs)]\n",
    "```\n",
    "\n",
    "Each chunking method has its own advantages and disadvantages. The choice of method often depends on the specific requirements of your RAG system, the nature of your text data, and the capabilities of your LLM. It's common to experiment with different chunking methods to find the one that works best for your particular use case.\n",
    "\n",
    "## Semantic-Based Chunking\n",
    "\n",
    "Semantic-Based Chunking performs sentence-based chunking. Next, it looks for sentences that are similar and merges them together into a single chunk. The goal of this approach is to have chunks that are distinct in meaning across an entire document.\n",
    "\n",
    "Pros:\n",
    "- Keeps chunks highly relevant\n",
    "- Allows for you to retrieve fewer results to provide the necessary context to answer a question\n",
    "\n",
    "Cons:\n",
    "- Could be difficult to understand broader context of parts of a chunk"
   ]
  },
  {
   "cell_type": "markdown",
   "id": "ebe1b5dc",
   "metadata": {},
   "source": [
    "# Framing a Historical Question\n",
    "\n",
    "For this exercise, we will be working as historians researching Abigail Smith Adams. We are interested in knowing about her relationship with her sisters. This will eventually be worked into a book about sororal relationships in the 18th and 19th centuries. We aren't experts on Abigail Adams, but someone mentioned to us that she references her sisters frequently in her letters and that there's a particular letter that she wrote to her daughter that speaks about the moment she first learned of her sister passing away. We also learned that this particular letter is available somewhere on Founders Online.\n",
    "\n",
    "Your goal for this exercise is to find that particular letter by using the Founders Online. If you like, you can also use the DataFrame, `df`, or the `data` object we have already loaded. The correct letter is among these 1,000 documents from Founders Online.\n",
    "\n",
    "Scroll down to the end of this notebook for a potential solution using Python without RAG.\n",
    "\n",
    "# Using a LLM in Isolation\n",
    "\n",
    "For this next exercise, use whatever LLM service you wish, such as ChatGPT. Try to find the answer to this specific question. What did you notice about the responses?"
   ]
  },
  {
   "cell_type": "markdown",
   "id": "0db2a5a6",
   "metadata": {},
   "source": [
    "# Querying a RAG System\n",
    "\n",
    "This particular source is probably difficult to find and this is  not a critique of the Founders Online. We have the ability to filter based on metadata, so we can filter based on the letters of Abigail Adams. We can even search across those letters with keywords, but we will have numerous hits. We could realistically spend the next 20 minutes or maybe even a few hours trying to find this one specific letter. Another approach, though, is to leverage machine learning, specifically RAG.\n",
    "\n",
    "## Weaviate\n",
    "\n",
    "For this example, we will be working with Weaviate. Weaviate is an open-source and cloud-based vector database framework. It allows for you to host your own server locally or subscribe to their services and pay a monthly fee to host a Weaviate cluster remotely on their servers. Either way, the approach is precisely the same once the server is up and running.\n",
    "\n",
    "We will learn how to populate a Weaviate server with data in the next notebook. For now, I have already loaded a sample of 300 documents that have already been chunked for us.\n",
    "\n",
    "To access a Weaviate server, you need to do so via an API. In Python, we can do this with the Weaviate-Client library. This package handles everything from populating a server with data to querying the server for vector similarity or, in our case, RAG.\n",
    "\n",
    "Because we will be doing everything in the Cloud, we need to have an OpenAI API key. If you haven't done so already, please make an OpenAI account and create an API key and place it in the environment. Scroll to the top of the notebook for doing this. Remember, each time you query with the code below, you will be charged. These costs will be minimal, but you should be aware of it.\n",
    "\n",
    "Once we have done that, we can query the vector database and generate an LLM response.\n",
    "\n",
    "The first thing that we will need to do is define our Weaviate URL and API key. I have prepared both of these for you. Warning, this instance will depreciate after class, so this notebook will require these two values to be updated with a new server and a new API key. You'll learn about making these in the next notebook.\n",
    "\n",
    "This API key is read-only."
   ]
  },
  {
   "cell_type": "code",
   "execution_count": 37,
   "id": "9a24305a",
   "metadata": {},
   "outputs": [],
   "source": [
    "WEAVIATE_URL = \"https://ab8fkdlqrxahroit5qsbma.c0.us-west3.gcp.weaviate.cloud\"\n",
    "WEAVIATE_API_KEY  = \"4Q9nn8ytsr9kZnMbigfVxgYwIUfuxl3hFiFU\""
   ]
  },
  {
   "cell_type": "markdown",
   "id": "3d540e09",
   "metadata": {},
   "source": [
    "Once we have these loaded into memory, we can access the Weaviate server. To do that we, will use the following sample of code. This connects to a Weaviate server, it specifies the server we want to connect to, it provides the credentials, our API key, and passes a few extra headers, specifically our API key for OpenAI."
   ]
  },
  {
   "cell_type": "code",
   "execution_count": 38,
   "id": "60733b4b",
   "metadata": {},
   "outputs": [],
   "source": [
    "client = weaviate.connect_to_weaviate_cloud(\n",
    "    cluster_url=WEAVIATE_URL,\n",
    "    auth_credentials=Auth.api_key(WEAVIATE_API_KEY),\n",
    "    headers={\n",
    "        \"X-OpenAI-Api-Key\": os.getenv(\"OPENAI_API_KEY\")\n",
    "    }\n",
    ")"
   ]
  },
  {
   "cell_type": "markdown",
   "id": "cfe19266",
   "metadata": {},
   "source": [
    "Once we are connected to the server, we will be able to query it, but first, we need to access a specific collection on this server. In Weaviate, you store vectors inside of collections. This allows for you to store vectors for multiple projects on the same server. For this project, we will work with a collection I made called `Founders`. Let's access that collection now."
   ]
  },
  {
   "cell_type": "code",
   "execution_count": 40,
   "id": "17e89b77",
   "metadata": {},
   "outputs": [
    {
     "name": "stderr",
     "output_type": "stream",
     "text": [
      "/Applications/anaconda3/envs/tap/lib/python3.10/site-packages/weaviate/warnings.py:303: ResourceWarning: Con004: The connection to Weaviate was not closed properly. This can lead to memory leaks.\n",
      "            Please make sure to close the connection using `client.close()`.\n",
      "  warnings.warn(\n"
     ]
    }
   ],
   "source": [
    "founders = client.collections.get(\"Founders\")"
   ]
  },
  {
   "cell_type": "markdown",
   "id": "90d58f83",
   "metadata": {},
   "source": [
    "Once connected to the server, we can inspect it. A good way to do this is with `aggregate.over_all()`. We can specify with a Boolean that we want to see the total count."
   ]
  },
  {
   "cell_type": "code",
   "execution_count": 42,
   "id": "4244dbd1",
   "metadata": {},
   "outputs": [
    {
     "data": {
      "text/plain": [
       "AggregateReturn(properties={}, total_count=300)"
      ]
     },
     "execution_count": 42,
     "metadata": {},
     "output_type": "execute_result"
    }
   ],
   "source": [
    "founders.aggregate.over_all(total_count=True)"
   ]
  },
  {
   "cell_type": "markdown",
   "id": "98ca0014",
   "metadata": {},
   "source": [
    "This tells us that we have 300 entries in the collection. Let's go ahead now and query the cluster. We will pose a natural language question. We can do this with the `generate.near_text()` method on the collection of `founders`. Here, we will pass only two arguments, the query, or the question we want answered, and the limit. Setting the limit to 1 means we will only get a single response."
   ]
  },
  {
   "cell_type": "code",
   "execution_count": 43,
   "id": "e888ed7a",
   "metadata": {},
   "outputs": [
    {
     "data": {
      "text/plain": [
       "GenerativeReturn(objects=[GenerativeObject(uuid=_WeaviateUUIDInt('67ac59c7-1f66-48f6-b9d8-96636887fa12'), metadata=MetadataReturn(creation_time=None, last_update_time=None, distance=None, certainty=None, score=None, explain_score=None, is_consistent=None, rerank_score=None), properties={'chapter_title': 'From Abigail Smith Adams to Louisa Catherine Johnson Adams, 14 April 1815', 'chunk_index': 0, 'chunk': 'From Abigail Smith Adams to Louisa Catherine Johnson Adams, 14 April 1815\\nQuincy April 14th 1815\\nMy dear Daughter\\nI address you, altho I know not where to find you, which is, and has been a source of much anxiety to me, four months have elapsed since the signature of the Treaty of Peace; when mr Adams wrote from Ghent, that in ten day’s, he should go to Paris, and from thence, send on to St petersburgh, to request you to join him there, and if he should, (as was expected,) be sent to England, that your Sons might be Sent to join their parents there. Altho Since the 27th of december, no letter has reached us from him. We have in compliance with his request, prepared the Children to meet you. \\nI need not Say, how painfull there seperation from me will be. Age, infirmities, and many recent afflictions, which I have met, in the Death of many near and dear Friends, and relatives, have broken me down, and give me little reason, to boast myself of tomorrow, as I know not, what a day may bring forth, So that when they go from me it is with the painfull Idea; that I shall see their faces no more, may we all finally meet in a better world. \\nThe Sudden death, of my dear and only Sister the last week; has opened every wound affresh, and caused my tears to flow anew—George and Susan, are now gone to Atkinson, to pay the last tribute of Respect, to her remains. \\nShe went to Bed on Saturday night well except a Slight Soar throat, which she complaind of, having read two sermons in the evening’s about 12 oclock she awoke, complaind that She was chill’d and oppresst upon her lungs. Mr Peabody rose, call’d up a Maid Servant. Abbe also got up, sent for the doctor, Who soon came, but found the spirit had taken Wing, Without the knowledge or least suspicion of her attendents. \\nSo tranquil was her exit; so few her sufferings, a translation from this earthly abode, to the mansions of glorified Spirits, her whole Life was one continued Series of usefull Services. and her circle was rendered extensive by the many youths, of both Sexes, committed to her care, She always considerd her charge, to extend beyond, food, and raiment, to their minds, to their manners, and to their Morals. Many, very Many Youths, have cause to embalm her memory in their hearts, and to hold her in gratefull remembrance. To her Family—I cannot estimate her loss. her Husbands Heart Safely trusted in her, for she had done him good, all the days of her Life. she was his pride, his glory, and his crown.', 'doc_index': 10}, references=None, vector={}, collection='Founders', generated=None)], generated=None)"
      ]
     },
     "execution_count": 43,
     "metadata": {},
     "output_type": "execute_result"
    }
   ],
   "source": [
    "response = founders.generate.near_text(\n",
    "    query=\"What does Abigail Adams say about her sister's death?\",\n",
    "    limit=1\n",
    ")\n",
    "response"
   ]
  },
  {
   "cell_type": "markdown",
   "id": "d07b63ec",
   "metadata": {},
   "source": [
    "A response contains numerous pieces of data. Let's grab the `objects` to get access to the key parts of the response we need."
   ]
  },
  {
   "cell_type": "code",
   "execution_count": 44,
   "id": "7e86e181",
   "metadata": {},
   "outputs": [
    {
     "data": {
      "text/plain": [
       "[GenerativeObject(uuid=_WeaviateUUIDInt('67ac59c7-1f66-48f6-b9d8-96636887fa12'), metadata=MetadataReturn(creation_time=None, last_update_time=None, distance=None, certainty=None, score=None, explain_score=None, is_consistent=None, rerank_score=None), properties={'chapter_title': 'From Abigail Smith Adams to Louisa Catherine Johnson Adams, 14 April 1815', 'chunk_index': 0, 'chunk': 'From Abigail Smith Adams to Louisa Catherine Johnson Adams, 14 April 1815\\nQuincy April 14th 1815\\nMy dear Daughter\\nI address you, altho I know not where to find you, which is, and has been a source of much anxiety to me, four months have elapsed since the signature of the Treaty of Peace; when mr Adams wrote from Ghent, that in ten day’s, he should go to Paris, and from thence, send on to St petersburgh, to request you to join him there, and if he should, (as was expected,) be sent to England, that your Sons might be Sent to join their parents there. Altho Since the 27th of december, no letter has reached us from him. We have in compliance with his request, prepared the Children to meet you. \\nI need not Say, how painfull there seperation from me will be. Age, infirmities, and many recent afflictions, which I have met, in the Death of many near and dear Friends, and relatives, have broken me down, and give me little reason, to boast myself of tomorrow, as I know not, what a day may bring forth, So that when they go from me it is with the painfull Idea; that I shall see their faces no more, may we all finally meet in a better world. \\nThe Sudden death, of my dear and only Sister the last week; has opened every wound affresh, and caused my tears to flow anew—George and Susan, are now gone to Atkinson, to pay the last tribute of Respect, to her remains. \\nShe went to Bed on Saturday night well except a Slight Soar throat, which she complaind of, having read two sermons in the evening’s about 12 oclock she awoke, complaind that She was chill’d and oppresst upon her lungs. Mr Peabody rose, call’d up a Maid Servant. Abbe also got up, sent for the doctor, Who soon came, but found the spirit had taken Wing, Without the knowledge or least suspicion of her attendents. \\nSo tranquil was her exit; so few her sufferings, a translation from this earthly abode, to the mansions of glorified Spirits, her whole Life was one continued Series of usefull Services. and her circle was rendered extensive by the many youths, of both Sexes, committed to her care, She always considerd her charge, to extend beyond, food, and raiment, to their minds, to their manners, and to their Morals. Many, very Many Youths, have cause to embalm her memory in their hearts, and to hold her in gratefull remembrance. To her Family—I cannot estimate her loss. her Husbands Heart Safely trusted in her, for she had done him good, all the days of her Life. she was his pride, his glory, and his crown.', 'doc_index': 10}, references=None, vector={}, collection='Founders', generated=None)]"
      ]
     },
     "execution_count": 44,
     "metadata": {},
     "output_type": "execute_result"
    }
   ],
   "source": [
    "response.objects"
   ]
  },
  {
   "cell_type": "markdown",
   "id": "eb9d5d21",
   "metadata": {},
   "source": [
    "Because we set our limit to 1, let's just grab the first instance."
   ]
  },
  {
   "cell_type": "code",
   "execution_count": 45,
   "id": "69210b3e",
   "metadata": {},
   "outputs": [
    {
     "data": {
      "text/plain": [
       "GenerativeObject(uuid=_WeaviateUUIDInt('67ac59c7-1f66-48f6-b9d8-96636887fa12'), metadata=MetadataReturn(creation_time=None, last_update_time=None, distance=None, certainty=None, score=None, explain_score=None, is_consistent=None, rerank_score=None), properties={'chapter_title': 'From Abigail Smith Adams to Louisa Catherine Johnson Adams, 14 April 1815', 'chunk_index': 0, 'chunk': 'From Abigail Smith Adams to Louisa Catherine Johnson Adams, 14 April 1815\\nQuincy April 14th 1815\\nMy dear Daughter\\nI address you, altho I know not where to find you, which is, and has been a source of much anxiety to me, four months have elapsed since the signature of the Treaty of Peace; when mr Adams wrote from Ghent, that in ten day’s, he should go to Paris, and from thence, send on to St petersburgh, to request you to join him there, and if he should, (as was expected,) be sent to England, that your Sons might be Sent to join their parents there. Altho Since the 27th of december, no letter has reached us from him. We have in compliance with his request, prepared the Children to meet you. \\nI need not Say, how painfull there seperation from me will be. Age, infirmities, and many recent afflictions, which I have met, in the Death of many near and dear Friends, and relatives, have broken me down, and give me little reason, to boast myself of tomorrow, as I know not, what a day may bring forth, So that when they go from me it is with the painfull Idea; that I shall see their faces no more, may we all finally meet in a better world. \\nThe Sudden death, of my dear and only Sister the last week; has opened every wound affresh, and caused my tears to flow anew—George and Susan, are now gone to Atkinson, to pay the last tribute of Respect, to her remains. \\nShe went to Bed on Saturday night well except a Slight Soar throat, which she complaind of, having read two sermons in the evening’s about 12 oclock she awoke, complaind that She was chill’d and oppresst upon her lungs. Mr Peabody rose, call’d up a Maid Servant. Abbe also got up, sent for the doctor, Who soon came, but found the spirit had taken Wing, Without the knowledge or least suspicion of her attendents. \\nSo tranquil was her exit; so few her sufferings, a translation from this earthly abode, to the mansions of glorified Spirits, her whole Life was one continued Series of usefull Services. and her circle was rendered extensive by the many youths, of both Sexes, committed to her care, She always considerd her charge, to extend beyond, food, and raiment, to their minds, to their manners, and to their Morals. Many, very Many Youths, have cause to embalm her memory in their hearts, and to hold her in gratefull remembrance. To her Family—I cannot estimate her loss. her Husbands Heart Safely trusted in her, for she had done him good, all the days of her Life. she was his pride, his glory, and his crown.', 'doc_index': 10}, references=None, vector={}, collection='Founders', generated=None)"
      ]
     },
     "execution_count": 45,
     "metadata": {},
     "output_type": "execute_result"
    }
   ],
   "source": [
    "response.objects[0]"
   ]
  },
  {
   "cell_type": "markdown",
   "id": "44dc4ee5",
   "metadata": {},
   "source": [
    "Now, inside this instance, we want to grab the original data. To do this, we can access properties."
   ]
  },
  {
   "cell_type": "code",
   "execution_count": 46,
   "id": "ec34b7bc",
   "metadata": {},
   "outputs": [
    {
     "data": {
      "text/plain": [
       "{'chapter_title': 'From Abigail Smith Adams to Louisa Catherine Johnson Adams, 14 April 1815',\n",
       " 'chunk_index': 0,\n",
       " 'chunk': 'From Abigail Smith Adams to Louisa Catherine Johnson Adams, 14 April 1815\\nQuincy April 14th 1815\\nMy dear Daughter\\nI address you, altho I know not where to find you, which is, and has been a source of much anxiety to me, four months have elapsed since the signature of the Treaty of Peace; when mr Adams wrote from Ghent, that in ten day’s, he should go to Paris, and from thence, send on to St petersburgh, to request you to join him there, and if he should, (as was expected,) be sent to England, that your Sons might be Sent to join their parents there. Altho Since the 27th of december, no letter has reached us from him. We have in compliance with his request, prepared the Children to meet you. \\nI need not Say, how painfull there seperation from me will be. Age, infirmities, and many recent afflictions, which I have met, in the Death of many near and dear Friends, and relatives, have broken me down, and give me little reason, to boast myself of tomorrow, as I know not, what a day may bring forth, So that when they go from me it is with the painfull Idea; that I shall see their faces no more, may we all finally meet in a better world. \\nThe Sudden death, of my dear and only Sister the last week; has opened every wound affresh, and caused my tears to flow anew—George and Susan, are now gone to Atkinson, to pay the last tribute of Respect, to her remains. \\nShe went to Bed on Saturday night well except a Slight Soar throat, which she complaind of, having read two sermons in the evening’s about 12 oclock she awoke, complaind that She was chill’d and oppresst upon her lungs. Mr Peabody rose, call’d up a Maid Servant. Abbe also got up, sent for the doctor, Who soon came, but found the spirit had taken Wing, Without the knowledge or least suspicion of her attendents. \\nSo tranquil was her exit; so few her sufferings, a translation from this earthly abode, to the mansions of glorified Spirits, her whole Life was one continued Series of usefull Services. and her circle was rendered extensive by the many youths, of both Sexes, committed to her care, She always considerd her charge, to extend beyond, food, and raiment, to their minds, to their manners, and to their Morals. Many, very Many Youths, have cause to embalm her memory in their hearts, and to hold her in gratefull remembrance. To her Family—I cannot estimate her loss. her Husbands Heart Safely trusted in her, for she had done him good, all the days of her Life. she was his pride, his glory, and his crown.',\n",
       " 'doc_index': 10}"
      ]
     },
     "execution_count": 46,
     "metadata": {},
     "output_type": "execute_result"
    }
   ],
   "source": [
    "response.objects[0].properties"
   ]
  },
  {
   "cell_type": "markdown",
   "id": "31881243",
   "metadata": {},
   "source": [
    "As we can see, we know that our response is found in Document 10. Let's print off the chunk to get a better look at our result."
   ]
  },
  {
   "cell_type": "code",
   "execution_count": 48,
   "id": "bc4128e7",
   "metadata": {},
   "outputs": [
    {
     "name": "stdout",
     "output_type": "stream",
     "text": [
      "From Abigail Smith Adams to Louisa Catherine Johnson Adams, 14 April 1815\n",
      "Quincy April 14th 1815\n",
      "My dear Daughter\n",
      "I address you, altho I know not where to find you, which is, and has been a source of much anxiety to me, four months have elapsed since the signature of the Treaty of Peace; when mr Adams wrote from Ghent, that in ten day’s, he should go to Paris, and from thence, send on to St petersburgh, to request you to join him there, and if he should, (as was expected,) be sent to England, that your Sons might be Sent to join their parents there. Altho Since the 27th of december, no letter has reached us from him. We have in compliance with his request, prepared the Children to meet you. \n",
      "I need not Say, how painfull there seperation from me will be. Age, infirmities, and many recent afflictions, which I have met, in the Death of many near and dear Friends, and relatives, have broken me down, and give me little reason, to boast myself of tomorrow, as I know not, what a day may bring forth, So that when they go from me it is with the painfull Idea; that I shall see their faces no more, may we all finally meet in a better world. \n",
      "The Sudden death, of my dear and only Sister the last week; has opened every wound affresh, and caused my tears to flow anew—George and Susan, are now gone to Atkinson, to pay the last tribute of Respect, to her remains. \n",
      "She went to Bed on Saturday night well except a Slight Soar throat, which she complaind of, having read two sermons in the evening’s about 12 oclock she awoke, complaind that She was chill’d and oppresst upon her lungs. Mr Peabody rose, call’d up a Maid Servant. Abbe also got up, sent for the doctor, Who soon came, but found the spirit had taken Wing, Without the knowledge or least suspicion of her attendents. \n",
      "So tranquil was her exit; so few her sufferings, a translation from this earthly abode, to the mansions of glorified Spirits, her whole Life was one continued Series of usefull Services. and her circle was rendered extensive by the many youths, of both Sexes, committed to her care, She always considerd her charge, to extend beyond, food, and raiment, to their minds, to their manners, and to their Morals. Many, very Many Youths, have cause to embalm her memory in their hearts, and to hold her in gratefull remembrance. To her Family—I cannot estimate her loss. her Husbands Heart Safely trusted in her, for she had done him good, all the days of her Life. she was his pride, his glory, and his crown.\n"
     ]
    }
   ],
   "source": [
    "print(response.objects[0].properties[\"chunk\"])"
   ]
  },
  {
   "cell_type": "markdown",
   "id": "072dd862",
   "metadata": {},
   "source": [
    "And this document is the precise document that we wanted to find. But this really isn't RAG. This is just a vector-based search. What if we wanted to return a natural language response? To do that, we can pass one other argument: `grouped_task`. This will specify that we want a generated response that will do the following task on the group of results returned when we set the limit to 1."
   ]
  },
  {
   "cell_type": "code",
   "execution_count": 55,
   "id": "c71c88a9",
   "metadata": {},
   "outputs": [
    {
     "name": "stdout",
     "output_type": "stream",
     "text": [
      "Abigail Adams specifically says that the sudden death of her dear and only sister the previous week has opened every wound afresh and caused her tears to flow anew. She explains that her sister went to bed on Saturday night feeling well except for a slight sore throat, but in the middle of the night she awoke feeling chilled and oppressed on her lungs. Despite calling for a doctor, her sister passed away peacefully and without the knowledge or suspicion of her attendants. Abigail describes her sister's life as a continued series of useful services, extending beyond just providing food and clothing to also shaping the minds, manners, and morals of the many youths under her care. She mentions that her sister's husband trusted her completely and considered her his pride, glory, and crown. Abigail expresses deep sorrow and loss over her sister's passing.\n"
     ]
    }
   ],
   "source": [
    "response = founders.generate.near_text(\n",
    "    query=\"What does Abigail Adams say about her sister's death?\",\n",
    "    limit=1,\n",
    "    grouped_task=\"State what Abigail Adams says specifically about her sister's death. Provide as much detail as possible.\"\n",
    ")\n",
    "\n",
    "print(response.generated)"
   ]
  },
  {
   "cell_type": "markdown",
   "id": "89a83b74",
   "metadata": {},
   "source": [
    "This natural language result is a summary of the letter itself. Unlike a traditional vector search, we have a natural language response to a question. Unlike a traditional LLM prompt, we have domain-specific and up-to-date knowledge that can be used to generate a better response. Hopefully, this gives you a sense of the value of RAG systems. But, we have only scratched the surface of what we can do with RAG. In the next notebook, we will learn how to create our own RAG systems."
   ]
  },
  {
   "cell_type": "markdown",
   "id": "10d28ecf",
   "metadata": {},
   "source": [
    "# Solution to the Exercise\n",
    "\n",
    "Because our dataset is a small sample, this solution allows us to find the specific letter. If we were working with the entire dataset, we would probably have multiple results here. Depending on the number of results, we may want to modify or refine this approach to eliminate false positives."
   ]
  },
  {
   "cell_type": "code",
   "execution_count": 36,
   "id": "5d848ca7",
   "metadata": {},
   "outputs": [
    {
     "name": "stdout",
     "output_type": "stream",
     "text": [
      "Document Number: 10\n",
      "Quincy April 14th 1815\n",
      "My dear Daughter\n",
      "I address you, altho I know not where to find you, which is, and has been a source of much anxiety to me, four months have elapsed since the signature of the Treaty of Peace; when mr Adams wrote from Ghent, that in ten day’s, he should go to Paris, and from thence, send on to St petersburgh, to request you to join him there, and if he should, (as was expected,) be sent to England, that your Sons might be Sent to join their parents there. Altho Since the 27th of december, no letter has reached us from him. We have in compliance with his request, prepared the Children to meet you.\n",
      "I need not Say, how painfull there seperation from me will be. Age, infirmities, and many recent afflictions, which I have met, in the Death of many near and dear Friends, and relatives, have broken me down, and give me little reason, to boast myself of tomorrow, as I know not, what a day may bring forth, So that when they go from me it is with the painfull Idea; that I shall see their faces no more, may we all finally meet in a better world.\n",
      "The Sudden death, of my dear and only Sister the last week; has opened every wound affresh, and caused my tears to flow anew—George and Susan, are now gone to Atkinson, to pay the last tribute of Respect, to her remains.\n",
      "She went to Bed on Saturday night well except a Slight Soar throat, which she complaind of, having read two sermons in the evening’s about 12 oclock she awoke, complaind that She was chill’d and oppresst upon her lungs. Mr Peabody rose, call’d up a Maid Servant. Abbe also got up, sent for the doctor, Who soon came, but found the spirit had taken Wing, Without the knowledge or least suspicion of her attendents.\n",
      "So tranquil was her exit; so few her sufferings, a translation from this earthly abode, to the mansions of glorified Spirits, her whole Life was one continued Series of usefull Services. and her circle was rendered extensive by the many youths, of both Sexes, committed to her care, She always considerd her charge, to extend beyond, food, and raiment, to their minds, to their manners, and to their Morals. Many, very Many Youths, have cause to embalm her memory in their hearts, and to hold her in gratefull remembrance. To her Family—I cannot estimate her loss. her Husbands Heart Safely trusted in her, for she had done him good, all the days of her Life. she was his pride, his glory, and his crown.\n",
      "To me, She was most dear, and now I am left alone; the Sole Surviving branch from the parent Stock.\n",
      "I had flatterd myself, with the hope that my Son, with his Family, are convened together in his Native Country, would have once more blessed my Eyes. I now despair of it, and the only consolation remaining to me, for his continuence abroad, is his having changed climates, and comeing so much nearer to me, that I may hear frequently from him, and from you, who I hope will feel yourself invigorated by the Air of your Native soil. and meeting with your sons, So long absent from you, in a period of their Lives, When they have almost grown out of your knowledge—George’s growth has been so rapid, that it has given him a Rusticity; which he feels—he Scarcly knows what to do with himself. but his mind is a Casket, which contains jewels, that only want culling, refineing, and burnishing, in his Fathers Crucible to render them bright—John is quick at comprehension, <ardent> ardent in pursuit: may be drawn to what you please, but liable to be cast away, without watchfull attention. I trust they have not imbibed any bad habits—\n",
      "I have not been profuse with their cloathing, Broadcloth has been so very high in price, up to 15 dollars pr yd, that I have had only one suit a peice for them, tho the peace reduced the price to 9 or 10 dollars pr yd, it is still out of reason. they have ordinary cloth for their Sea trip. I had them made a day new shirts, flannels & draws &c every thing which I conceived would be wanting, untill they Should reach you, and mr Perkins has promised to supply any wants they may have, untill they can meet their Father.\n",
      "Mr Everett the Brother of Alexander is a passenger with them, and a mr Ticknor, a Young Gentleman held in high estimation by our literary Gentleman—\n",
      "I have Sent to your Friends at Washington, and they have forwarded Letters for you, which I commit to the care of the Children. I did not know when mr Boyd went, or I Should not have omitted So good an opportunity of writing.\n",
      "Louisa & Susan desire to be affectionatly remembered to you, write to me my dear Daughter, and tell me all your adventures. I long to hear of your safe arrival with that of our dear Charles, either in Paris or England—which would cheer the Heart of your / affectionate and afflicted / Mother\n",
      "Abigail Adams.\n"
     ]
    }
   ],
   "source": [
    "for i, item in enumerate(data):\n",
    "    if \"Adams, Abigail Smith\" in item[\"authors\"]:\n",
    "        if \"sister\" in item[\"content\"].lower():\n",
    "            print(f\"Document Number: {i}\")\n",
    "            print(item[\"content\"])"
   ]
  },
  {
   "cell_type": "code",
   "execution_count": null,
   "id": "7fc0a423",
   "metadata": {},
   "outputs": [],
   "source": []
  }
 ],
 "metadata": {
  "kernelspec": {
   "display_name": "Python 3 (ipykernel)",
   "language": "python",
   "name": "python3"
  },
  "language_info": {
   "codemirror_mode": {
    "name": "ipython",
    "version": 3
   },
   "file_extension": ".py",
   "mimetype": "text/x-python",
   "name": "python",
   "nbconvert_exporter": "python",
   "pygments_lexer": "ipython3",
   "version": "3.10.14"
  },
  "toc": {
   "base_numbering": 1,
   "nav_menu": {},
   "number_sections": true,
   "sideBar": true,
   "skip_h1_title": false,
   "title_cell": "Table of Contents",
   "title_sidebar": "Contents",
   "toc_cell": false,
   "toc_position": {},
   "toc_section_display": true,
   "toc_window_display": true
  }
 },
 "nbformat": 4,
 "nbformat_minor": 5
}
